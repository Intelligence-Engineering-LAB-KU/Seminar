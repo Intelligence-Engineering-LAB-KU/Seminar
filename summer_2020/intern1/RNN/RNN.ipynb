{
 "cells": [
  {
   "cell_type": "markdown",
   "metadata": {},
   "source": [
    "# 대충 RNN 짜는 코드\n",
    "\n",
    "> writer : nemo<br>\n",
    "> 2020-08-04"
   ]
  },
  {
   "cell_type": "markdown",
   "metadata": {},
   "source": [
    "## Contents\n",
    "이 글에서는 [TensorFlow - 순환 신경망을 활용한 문자열 생성](https://www.tensorflow.org/tutorials/text/text_generation?hl=ko)을 기반으로 numpy를 이용해 RNN 모델을 만들어 실습한 내용을 적고자 한다."
   ]
  },
  {
   "cell_type": "markdown",
   "metadata": {},
   "source": [
    "## 1. Data\n",
    "### 1.1. get Data"
   ]
  },
  {
   "cell_type": "code",
   "execution_count": 843,
   "metadata": {},
   "outputs": [
    {
     "name": "stdout",
     "output_type": "stream",
     "text": [
      "Requirement already satisfied: tensorflow-gpu==2.0.0 in /home/tm/miniconda3/envs/cs231n/lib/python3.7/site-packages (2.0.0)\n",
      "Requirement already satisfied: opt-einsum>=2.3.2 in /home/tm/miniconda3/envs/cs231n/lib/python3.7/site-packages (from tensorflow-gpu==2.0.0) (3.3.0)\n",
      "Requirement already satisfied: protobuf>=3.6.1 in /home/tm/miniconda3/envs/cs231n/lib/python3.7/site-packages (from tensorflow-gpu==2.0.0) (3.12.4)\n",
      "Requirement already satisfied: google-pasta>=0.1.6 in /home/tm/miniconda3/envs/cs231n/lib/python3.7/site-packages (from tensorflow-gpu==2.0.0) (0.2.0)\n",
      "Requirement already satisfied: termcolor>=1.1.0 in /home/tm/miniconda3/envs/cs231n/lib/python3.7/site-packages (from tensorflow-gpu==2.0.0) (1.1.0)\n",
      "Requirement already satisfied: grpcio>=1.8.6 in /home/tm/miniconda3/envs/cs231n/lib/python3.7/site-packages (from tensorflow-gpu==2.0.0) (1.30.0)\n",
      "Requirement already satisfied: wheel>=0.26 in /home/tm/miniconda3/envs/cs231n/lib/python3.7/site-packages (from tensorflow-gpu==2.0.0) (0.34.2)\n",
      "Requirement already satisfied: numpy<2.0,>=1.16.0 in /home/tm/miniconda3/envs/cs231n/lib/python3.7/site-packages (from tensorflow-gpu==2.0.0) (1.18.1)\n",
      "Requirement already satisfied: keras-applications>=1.0.8 in /home/tm/miniconda3/envs/cs231n/lib/python3.7/site-packages (from tensorflow-gpu==2.0.0) (1.0.8)\n",
      "Requirement already satisfied: wrapt>=1.11.1 in /home/tm/miniconda3/envs/cs231n/lib/python3.7/site-packages (from tensorflow-gpu==2.0.0) (1.11.2)\n",
      "Requirement already satisfied: tensorflow-estimator<2.1.0,>=2.0.0 in /home/tm/miniconda3/envs/cs231n/lib/python3.7/site-packages (from tensorflow-gpu==2.0.0) (2.0.1)\n",
      "Requirement already satisfied: absl-py>=0.7.0 in /home/tm/miniconda3/envs/cs231n/lib/python3.7/site-packages (from tensorflow-gpu==2.0.0) (0.9.0)\n",
      "Requirement already satisfied: astor>=0.6.0 in /home/tm/miniconda3/envs/cs231n/lib/python3.7/site-packages (from tensorflow-gpu==2.0.0) (0.8.1)\n",
      "Requirement already satisfied: tensorboard<2.1.0,>=2.0.0 in /home/tm/miniconda3/envs/cs231n/lib/python3.7/site-packages (from tensorflow-gpu==2.0.0) (2.0.2)\n",
      "Requirement already satisfied: keras-preprocessing>=1.0.5 in /home/tm/miniconda3/envs/cs231n/lib/python3.7/site-packages (from tensorflow-gpu==2.0.0) (1.1.2)\n",
      "Requirement already satisfied: six>=1.10.0 in /home/tm/miniconda3/envs/cs231n/lib/python3.7/site-packages (from tensorflow-gpu==2.0.0) (1.14.0)\n",
      "Requirement already satisfied: gast==0.2.2 in /home/tm/miniconda3/envs/cs231n/lib/python3.7/site-packages (from tensorflow-gpu==2.0.0) (0.2.2)\n",
      "Requirement already satisfied: setuptools in /home/tm/miniconda3/envs/cs231n/lib/python3.7/site-packages (from protobuf>=3.6.1->tensorflow-gpu==2.0.0) (45.2.0.post20200210)\n",
      "Requirement already satisfied: h5py in /home/tm/miniconda3/envs/cs231n/lib/python3.7/site-packages (from keras-applications>=1.0.8->tensorflow-gpu==2.0.0) (2.10.0)\n",
      "Requirement already satisfied: google-auth-oauthlib<0.5,>=0.4.1 in /home/tm/miniconda3/envs/cs231n/lib/python3.7/site-packages (from tensorboard<2.1.0,>=2.0.0->tensorflow-gpu==2.0.0) (0.4.1)\n",
      "Requirement already satisfied: werkzeug>=0.11.15 in /home/tm/miniconda3/envs/cs231n/lib/python3.7/site-packages (from tensorboard<2.1.0,>=2.0.0->tensorflow-gpu==2.0.0) (1.0.0)\n",
      "Requirement already satisfied: requests<3,>=2.21.0 in /home/tm/miniconda3/envs/cs231n/lib/python3.7/site-packages (from tensorboard<2.1.0,>=2.0.0->tensorflow-gpu==2.0.0) (2.22.0)\n",
      "Requirement already satisfied: google-auth<2,>=1.6.3 in /home/tm/miniconda3/envs/cs231n/lib/python3.7/site-packages (from tensorboard<2.1.0,>=2.0.0->tensorflow-gpu==2.0.0) (1.20.0)\n",
      "Requirement already satisfied: markdown>=2.6.8 in /home/tm/miniconda3/envs/cs231n/lib/python3.7/site-packages (from tensorboard<2.1.0,>=2.0.0->tensorflow-gpu==2.0.0) (3.2.2)\n",
      "Requirement already satisfied: requests-oauthlib>=0.7.0 in /home/tm/miniconda3/envs/cs231n/lib/python3.7/site-packages (from google-auth-oauthlib<0.5,>=0.4.1->tensorboard<2.1.0,>=2.0.0->tensorflow-gpu==2.0.0) (1.3.0)\n",
      "Requirement already satisfied: chardet<3.1.0,>=3.0.2 in /home/tm/miniconda3/envs/cs231n/lib/python3.7/site-packages (from requests<3,>=2.21.0->tensorboard<2.1.0,>=2.0.0->tensorflow-gpu==2.0.0) (3.0.4)\n",
      "Requirement already satisfied: urllib3!=1.25.0,!=1.25.1,<1.26,>=1.21.1 in /home/tm/miniconda3/envs/cs231n/lib/python3.7/site-packages (from requests<3,>=2.21.0->tensorboard<2.1.0,>=2.0.0->tensorflow-gpu==2.0.0) (1.25.8)\n",
      "Requirement already satisfied: certifi>=2017.4.17 in /home/tm/miniconda3/envs/cs231n/lib/python3.7/site-packages (from requests<3,>=2.21.0->tensorboard<2.1.0,>=2.0.0->tensorflow-gpu==2.0.0) (2019.11.28)\n",
      "Requirement already satisfied: idna<2.9,>=2.5 in /home/tm/miniconda3/envs/cs231n/lib/python3.7/site-packages (from requests<3,>=2.21.0->tensorboard<2.1.0,>=2.0.0->tensorflow-gpu==2.0.0) (2.8)\n",
      "Requirement already satisfied: rsa<5,>=3.1.4; python_version >= \"3.5\" in /home/tm/miniconda3/envs/cs231n/lib/python3.7/site-packages (from google-auth<2,>=1.6.3->tensorboard<2.1.0,>=2.0.0->tensorflow-gpu==2.0.0) (4.6)\n",
      "Requirement already satisfied: cachetools<5.0,>=2.0.0 in /home/tm/miniconda3/envs/cs231n/lib/python3.7/site-packages (from google-auth<2,>=1.6.3->tensorboard<2.1.0,>=2.0.0->tensorflow-gpu==2.0.0) (4.1.1)\n",
      "Requirement already satisfied: pyasn1-modules>=0.2.1 in /home/tm/miniconda3/envs/cs231n/lib/python3.7/site-packages (from google-auth<2,>=1.6.3->tensorboard<2.1.0,>=2.0.0->tensorflow-gpu==2.0.0) (0.2.8)\n",
      "Requirement already satisfied: importlib-metadata; python_version < \"3.8\" in /home/tm/miniconda3/envs/cs231n/lib/python3.7/site-packages (from markdown>=2.6.8->tensorboard<2.1.0,>=2.0.0->tensorflow-gpu==2.0.0) (1.5.0)\n",
      "Requirement already satisfied: oauthlib>=3.0.0 in /home/tm/miniconda3/envs/cs231n/lib/python3.7/site-packages (from requests-oauthlib>=0.7.0->google-auth-oauthlib<0.5,>=0.4.1->tensorboard<2.1.0,>=2.0.0->tensorflow-gpu==2.0.0) (3.1.0)\n",
      "Requirement already satisfied: pyasn1>=0.1.3 in /home/tm/miniconda3/envs/cs231n/lib/python3.7/site-packages (from rsa<5,>=3.1.4; python_version >= \"3.5\"->google-auth<2,>=1.6.3->tensorboard<2.1.0,>=2.0.0->tensorflow-gpu==2.0.0) (0.4.8)\n",
      "Requirement already satisfied: zipp>=0.5 in /home/tm/miniconda3/envs/cs231n/lib/python3.7/site-packages (from importlib-metadata; python_version < \"3.8\"->markdown>=2.6.8->tensorboard<2.1.0,>=2.0.0->tensorflow-gpu==2.0.0) (2.2.0)\n"
     ]
    }
   ],
   "source": [
    "!pip install tensorflow-gpu==2.0.0\n",
    "import tensorflow as tf\n",
    "import numpy as np\n",
    "import matplotlib.pyplot as plt\n",
    "import os\n",
    "import time\n",
    "from tqdm import tqdm_notebook"
   ]
  },
  {
   "cell_type": "markdown",
   "metadata": {},
   "source": [
    "파일을 가져오자"
   ]
  },
  {
   "cell_type": "code",
   "execution_count": 833,
   "metadata": {},
   "outputs": [],
   "source": [
    "path_to_file = tf.keras.utils.get_file('shakespeare.txt', 'https://storage.googleapis.com/download.tensorflow.org/data/shakespeare.txt')"
   ]
  },
  {
   "cell_type": "markdown",
   "metadata": {},
   "source": [
    "### 1.2. 문자열 벡터화\n",
    "#### 1.2.1 Decoding from utf-8\n",
    "파이썬 3과 호환되도록 디코딩하자"
   ]
  },
  {
   "cell_type": "code",
   "execution_count": 834,
   "metadata": {},
   "outputs": [],
   "source": [
    "text = open(path_to_file, 'rb').read().decode(encoding='utf-8')"
   ]
  },
  {
   "cell_type": "markdown",
   "metadata": {},
   "source": [
    "텍스트가 어떤 형태인지 살펴보자. 평범(?)한 파이썬 문자열 형태이다."
   ]
  },
  {
   "cell_type": "code",
   "execution_count": 835,
   "metadata": {
    "scrolled": true
   },
   "outputs": [
    {
     "name": "stdout",
     "output_type": "stream",
     "text": [
      "First Citizen:\n",
      "Before we proceed any further, hear me speak.\n",
      "\n",
      "All:\n",
      "Speak, speak.\n",
      "\n",
      "First Citizen:\n",
      "You are all resolved rather to die than to famish?\n",
      "\n",
      "All:\n",
      "Resolved. resolved.\n",
      "\n",
      "First Citizen:\n",
      "First, you know Caius Marcius is chief enemy to the people.\n",
      "\n"
     ]
    }
   ],
   "source": [
    "print(text[:250])"
   ]
  },
  {
   "cell_type": "markdown",
   "metadata": {},
   "source": [
    "#### 1.2.2. 문자를 수에 대응하기\n",
    "텍스트에 존재하는 문자들을 수에 대응시키고 변환과 역변환 딕셔너리를 만들어두자."
   ]
  },
  {
   "cell_type": "code",
   "execution_count": 836,
   "metadata": {},
   "outputs": [
    {
     "name": "stdout",
     "output_type": "stream",
     "text": [
      "고유 문자수 65개\n",
      "\n",
      "c2i\n",
      "{'\\n': 0, ' ': 1, '!': 2, '$': 3, '&': 4, \"'\": 5, ',': 6, '-': 7, '.': 8, '3': 9, ':': 10, ';': 11, '?': 12, 'A': 13, 'B': 14, 'C': 15, 'D': 16, 'E': 17, 'F': 18, 'G': 19, 'H': 20, 'I': 21, 'J': 22, 'K': 23, 'L': 24, 'M': 25, 'N': 26, 'O': 27, 'P': 28, 'Q': 29, 'R': 30, 'S': 31, 'T': 32, 'U': 33, 'V': 34, 'W': 35, 'X': 36, 'Y': 37, 'Z': 38, 'a': 39, 'b': 40, 'c': 41, 'd': 42, 'e': 43, 'f': 44, 'g': 45, 'h': 46, 'i': 47, 'j': 48, 'k': 49, 'l': 50, 'm': 51, 'n': 52, 'o': 53, 'p': 54, 'q': 55, 'r': 56, 's': 57, 't': 58, 'u': 59, 'v': 60, 'w': 61, 'x': 62, 'y': 63, 'z': 64}\n",
      "\n",
      "i2c\n",
      "{0: '\\n', 1: ' ', 2: '!', 3: '$', 4: '&', 5: \"'\", 6: ',', 7: '-', 8: '.', 9: '3', 10: ':', 11: ';', 12: '?', 13: 'A', 14: 'B', 15: 'C', 16: 'D', 17: 'E', 18: 'F', 19: 'G', 20: 'H', 21: 'I', 22: 'J', 23: 'K', 24: 'L', 25: 'M', 26: 'N', 27: 'O', 28: 'P', 29: 'Q', 30: 'R', 31: 'S', 32: 'T', 33: 'U', 34: 'V', 35: 'W', 36: 'X', 37: 'Y', 38: 'Z', 39: 'a', 40: 'b', 41: 'c', 42: 'd', 43: 'e', 44: 'f', 45: 'g', 46: 'h', 47: 'i', 48: 'j', 49: 'k', 50: 'l', 51: 'm', 52: 'n', 53: 'o', 54: 'p', 55: 'q', 56: 'r', 57: 's', 58: 't', 59: 'u', 60: 'v', 61: 'w', 62: 'x', 63: 'y', 64: 'z'}\n"
     ]
    }
   ],
   "source": [
    "vocab = sorted(set(text))\n",
    "print('고유 문자수 {}개\\n'.format(len(vocab)))\n",
    "c2i = {u:i for i, u in enumerate(vocab)}\n",
    "i2c = {i:u for u, i in c2i.items()}\n",
    "print('c2i\\n{}\\n'.format(c2i))\n",
    "print('i2c\\n{}'.format(i2c))"
   ]
  },
  {
   "cell_type": "markdown",
   "metadata": {},
   "source": [
    "#### 1.2.3. text를 numpy array로 변환\n",
    "텍스트를 숫자로 변환하고, 이를 numpy array로 만들자"
   ]
  },
  {
   "cell_type": "code",
   "execution_count": 837,
   "metadata": {},
   "outputs": [
    {
     "name": "stdout",
     "output_type": "stream",
     "text": [
      "[18 47 56 57 58  1 15 47 58 47 64 43 52 10  0 14 43 44 53 56]\n"
     ]
    }
   ],
   "source": [
    "t2i = [c2i[i] for i in text]\n",
    "ntext = np.array(t2i)\n",
    "print(ntext[:20])"
   ]
  },
  {
   "cell_type": "markdown",
   "metadata": {},
   "source": [
    "### 1.3. 데이터 전처리"
   ]
  },
  {
   "cell_type": "markdown",
   "metadata": {},
   "source": [
    "X랑 Y 만들기<br>\n",
    "X는 문자인 텍스트를 숫자에 대응시킨 것이고, Y는 다음 문자를 나타내는 배열로 X를 옆으로 한 칸 밀어서 만든다."
   ]
  },
  {
   "cell_type": "code",
   "execution_count": 838,
   "metadata": {},
   "outputs": [
    {
     "name": "stdout",
     "output_type": "stream",
     "text": [
      "[18 47 56 57 58  1 15 47 58 47 64 43 52 10  0 14 43 44 53 56 43  1 61 43\n",
      "  1 54 56 53 41 43 43 42  1 39 52 63  1 44 59 56 58 46 43 56  6  1 46 43\n",
      " 39 56  1 51 43  1 57 54 43 39 49  8  0  0 13 50 50 10  0 31 54 43 39 49\n",
      "  6  1 57 54 43 39 49  8  0  0 18 47 56 57 58  1 15 47 58 47 64 43 52 10\n",
      "  0 37 53 59]\n",
      "[47 56 57 58  1 15 47 58 47 64 43 52 10  0 14 43 44 53 56 43  1 61 43  1\n",
      " 54 56 53 41 43 43 42  1 39 52 63  1 44 59 56 58 46 43 56  6  1 46 43 39\n",
      " 56  1 51 43  1 57 54 43 39 49  8  0  0 13 50 50 10  0 31 54 43 39 49  6\n",
      "  1 57 54 43 39 49  8  0  0 18 47 56 57 58  1 15 47 58 47 64 43 52 10  0\n",
      " 37 53 59  1]\n"
     ]
    }
   ],
   "source": [
    "# 단일 입력에 대해 원하는 문장의 최대 길이\n",
    "seq_length = 100\n",
    "examples_per_epoch = len(text) // seq_length\n",
    "\n",
    "namoji = len(ntext) % (seq_length)\n",
    "sequences = ntext[:-namoji].reshape((-1, seq_length))\n",
    "X = sequences\n",
    "Y = np.ones(sequences.shape, dtype = np.int64)\n",
    "Y[:,:-1] = sequences[:,1:]\n",
    "print(X[0])\n",
    "print(Y[0])"
   ]
  },
  {
   "cell_type": "markdown",
   "metadata": {},
   "source": [
    "### 1.4. Train set과 Test Set으로 나누기\n",
    "배치 개수를 보자"
   ]
  },
  {
   "cell_type": "code",
   "execution_count": 881,
   "metadata": {},
   "outputs": [
    {
     "name": "stdout",
     "output_type": "stream",
     "text": [
      "11153\n"
     ]
    }
   ],
   "source": [
    "print(X.shape[0])"
   ]
  },
  {
   "cell_type": "markdown",
   "metadata": {},
   "source": [
    "11000개는 train set로 쓰고 153개는 test set로 쓰자"
   ]
  },
  {
   "cell_type": "code",
   "execution_count": 892,
   "metadata": {},
   "outputs": [],
   "source": [
    "X_train = X[:11000]\n",
    "Y_train = Y[:11000]\n",
    "\n",
    "X_test = X[11000:]\n",
    "Y_test = Y[11000:]"
   ]
  },
  {
   "cell_type": "markdown",
   "metadata": {},
   "source": [
    "## 2. RNN"
   ]
  },
  {
   "cell_type": "markdown",
   "metadata": {},
   "source": [
    "### 2.1. 계획\n",
    "\n",
    "Xavier Initialization + RNN + softmax + cross-entropy loss\n",
    "\n",
    "---"
   ]
  },
  {
   "cell_type": "markdown",
   "metadata": {},
   "source": [
    "### 2.2. Xavier Initialization + RNN"
   ]
  },
  {
   "cell_type": "code",
   "execution_count": 944,
   "metadata": {},
   "outputs": [],
   "source": [
    "class RNN:\n",
    "\n",
    "    def __init__(self, x_size, y_size, h_size):\n",
    "\n",
    "        self.x_size = x_size\n",
    "        self.y_size = y_size\n",
    "        self.h_size = h_size\n",
    "\n",
    "        # Xavier Initialization\n",
    "        self.Whh = np.random.uniform(size=(h_size, h_size), low=- 1 / np.sqrt(h_size),\n",
    "                                     high=+ 1 / np.sqrt(h_size)) * 0.001\n",
    "        self.Wxh = np.random.uniform(size=(x_size, h_size), low=- 1 / np.sqrt(x_size),\n",
    "                                     high=+ 1 / np.sqrt(x_size)) * 0.001\n",
    "        self.bh = np.zeros((1, h_size))\n",
    "\n",
    "        self.Why = np.random.uniform(size=(h_size, y_size), low=- 1 / np.sqrt(h_size),\n",
    "                                     high=+ 1 / np.sqrt(h_size)) * 0.001\n",
    "        self.by = np.zeros((1, y_size))\n",
    "\n",
    "        self.h_0 = None\n",
    "\n",
    "    def f(self, x_size, y_size, h_size, Whh, Wxh, bh, Why, by, h_0):\n",
    "\n",
    "        self.x_size = x_size\n",
    "        self.y_size = y_size\n",
    "        self.h_size = h_size\n",
    "        self.Whh = Whh\n",
    "        self.Wxh = Wxh\n",
    "        self.bh = bh\n",
    "        self.Why = Why\n",
    "        self.by = by\n",
    "        self.h_0 = h_0\n",
    "\n",
    "    def forward_t(self, x_t, h_t_bef):\n",
    "\n",
    "        # x_t : [N, x_size]\n",
    "        # h_t_bef : [N, h_size]\n",
    "\n",
    "        h_t = np.tanh(h_t_bef.dot(self.Whh) + x_t.dot(self.Wxh) + self.bh)  # (N, h)\n",
    "        y_t = h_t.dot(self.Why) + self.by  # [N, y_size]\n",
    "\n",
    "        return y_t, h_t  # [N, hidden]\n",
    "\n",
    "    def forward(self, X, h_0=None):\n",
    "\n",
    "        X = X.T\n",
    "        time = X.shape[0]\n",
    "        N = X.shape[1]\n",
    "\n",
    "        # X : [time, N]\n",
    "        # X_one_hot_encoding [time, N] => [time, N, character_개수]\n",
    "\n",
    "        self.X_one_hot_encoding = np.zeros((time, N, self.x_size))\n",
    "        self.X_one_hot_encoding[np.arange(time * N) // N, np.arange(time * N) % N, X.reshape(-1)] = 1\n",
    "\n",
    "        if self.h_0 is None:\n",
    "            self.h_0 = np.zeros(self.h_size)\n",
    "\n",
    "        h_0 = np.array(self.h_0.tolist() * N).T.reshape(N, -1)\n",
    "\n",
    "        y_cache = None\n",
    "        h_cache = np.array([h_0])  # [t, N, h_size]\n",
    "\n",
    "        for x_t in self.X_one_hot_encoding:\n",
    "\n",
    "            y_t, h_t = self.forward_t(x_t, h_cache[-1])\n",
    "            if y_cache is None:\n",
    "                y_cache = np.array([y_t])\n",
    "            else:\n",
    "                y_cache = np.append(y_cache, [y_t], axis=0)\n",
    "            h_cache = np.append(h_cache, [h_t], axis=0)\n",
    "\n",
    "        return y_cache, h_cache\n",
    "\n",
    "    def backward_t(self, x_t, h_t, h_bef, dy_t, dh_t):  # [N, y_size] 글자 단위 backward\n",
    "\n",
    "        # x_t : [N, x_size]\n",
    "        # h_t : [N, h_size]\n",
    "        # h_bef : [N, h_size]\n",
    "        # y_t : [N, y_size]\n",
    "        # dy_t : [N, y_size]\n",
    "        # dh_t : [N, h_size]\n",
    "\n",
    "        dWhy = h_t.T.dot(dy_t)\n",
    "        dby = dy_t.sum(axis=0)\n",
    "        dh_t += dy_t.dot(self.Why.T)\n",
    "\n",
    "        dWhh = dh_t.sum(axis=0) * h_bef.T.dot(1 - h_t ** 2)\n",
    "        dWxh = dh_t.sum(axis=0) * x_t.T.dot(1 - h_t ** 2)\n",
    "        dh_bef = dh_t * (1 - h_t ** 2).dot(self.Whh.T)\n",
    "        dbh = dh_t.sum(axis=0) * (1 - h_t ** 2).sum(axis=0)\n",
    "\n",
    "        return dWhh, dWxh, dbh, dWhy, dby, dh_bef\n",
    "\n",
    "    def backward(self, dy, y_cache, h_cache):\n",
    "\n",
    "        dy = np.flip(dy, axis=0)\n",
    "        y_cache = np.flip(y_cache, axis=0)\n",
    "        h_cache = np.flip(h_cache, axis=0)\n",
    "\n",
    "        # dy : [time(t ~ 1), N, y_size]\n",
    "        # y_cache : [time(t ~ 1), N, y_size]\n",
    "        # h_cahce : [time(t ~ 0), N, h_size]\n",
    "\n",
    "        dWhh = np.zeros_like(self.Whh)\n",
    "        dWxh = np.zeros_like(self.Wxh)\n",
    "        dbh = np.zeros_like(self.bh)\n",
    "        dWhy = np.zeros_like(self.Why)\n",
    "        dby = np.zeros_like(self.by)\n",
    "        dh_t = np.zeros((h_cache.shape[1], h_cache.shape[2]))\n",
    "\n",
    "        for x_t in np.flip(self.X_one_hot_encoding, axis=0):\n",
    "            dWhh_t, dWxh_t, dbh_t, dWhy_t, dby_t, dh_t = self.backward_t(x_t, h_cache[0], h_cache[1], dy[0], dh_t)\n",
    "\n",
    "            # Update\n",
    "            dWhh += dWhh_t\n",
    "            dWxh += dWxh_t\n",
    "            dbh += dbh_t\n",
    "            dWhy += dWhy_t\n",
    "            dby += dby_t\n",
    "\n",
    "            # stack pop\n",
    "            dy = np.delete(dy, (0), axis=0)\n",
    "            y_cache = np.delete(y_cache, (0), axis=0)\n",
    "            h_cache = np.delete(h_cache, (0), axis=0)\n",
    "\n",
    "        dh_0 = dh_t\n",
    "\n",
    "        return dWhh, dWxh, dbh, dWhy, dby, dh_0\n",
    "\n",
    "    def gra_update(self, dWhh, dWxh, dbh, dWhy, dby, dh_0):\n",
    "\n",
    "        np.clip(dWhh, -5, 5, out=dWhh)\n",
    "        np.clip(dWxh, -5, 5, out=dWxh)\n",
    "        np.clip(dbh, -5, 5, out=dbh)\n",
    "        np.clip(dWhy, -5, 5, out=dWhy)\n",
    "        np.clip(dby, -5, 5, out=dby)\n",
    "        np.clip(dh_0, -5, 5, out=dh_0)\n",
    "\n",
    "        self.Whh -= dWhh * 0.001\n",
    "        self.Wxh -= dWxh * 0.001\n",
    "        self.bh -= dbh * 0.001\n",
    "        self.Why -= dWhy * 0.001\n",
    "        self.by -= dby * 0.001\n",
    "        self.h_0 -= dh_0.sum(axis=0) * 0.001\n",
    "\n",
    "    def generator(self, X, length):\n",
    "\n",
    "        X = X.T\n",
    "        time = X.shape[0]\n",
    "        N = X.shape[1]\n",
    "\n",
    "        # X : [time, N]\n",
    "        # X_one_hot_encoding [time, N] => [time, N, character_개수]\n",
    "\n",
    "        self.X_one_hot_encoding = np.zeros((time, N, self.x_size))\n",
    "        self.X_one_hot_encoding[np.arange(time * N) // N, np.arange(time * N) % N, X.reshape(-1)] = 1\n",
    "\n",
    "        if self.h_0 is None:\n",
    "            self.h_0 = np.zeros(self.h_size)\n",
    "\n",
    "        h_0 = np.array(self.h_0.tolist() * N).T.reshape(N, -1)\n",
    "\n",
    "        y_cache = None\n",
    "        h_cache = np.array([h_0])  # [t, N, h_size]\n",
    "\n",
    "        for x_t in self.X_one_hot_encoding:\n",
    "\n",
    "            y_t, h_t = self.forward_t(x_t, h_cache[-1])\n",
    "            if y_cache is None:\n",
    "                y_cache = np.array([y_t])\n",
    "            else:\n",
    "                y_cache = np.append(y_cache, [y_t], axis=0)\n",
    "            h_cache = np.append(h_cache, [h_t], axis=0)\n",
    "        \n",
    "        for x_t in range(length):\n",
    "            \n",
    "            y_t, h_t = self.forward_t(y_t[-1], h_cache[-1])\n",
    "            y_cache = np.append(y_cache, [y_t], axis=0)\n",
    "            h_cache = np.append(h_cache, [h_t], axis=0)\n",
    "\n",
    "        return y_cache"
   ]
  },
  {
   "cell_type": "code",
   "execution_count": 873,
   "metadata": {},
   "outputs": [],
   "source": [
    "class SOFTMAX:\n",
    "    \n",
    "    def __init__(self):\n",
    "\n",
    "        pass\n",
    "    \n",
    "    def loss(self, x, y): # from cs231n assignment\n",
    "        \n",
    "        probs = np.exp(x - np.max(x, axis=1, keepdims=True))\n",
    "        probs /= np.sum(probs, axis=1, keepdims=True)\n",
    "        N = x.shape[0]\n",
    "        loss = -np.sum(np.log(probs[np.arange(N), y])) / N\n",
    "        dx = probs.copy()\n",
    "        dx[np.arange(N), y] -= 1\n",
    "        dx /= N\n",
    "\n",
    "        return loss, dx"
   ]
  },
  {
   "cell_type": "markdown",
   "metadata": {},
   "source": [
    "### 2.2. Small Data에 대한 RNN의 동작 확인"
   ]
  },
  {
   "cell_type": "markdown",
   "metadata": {},
   "source": [
    "#### 2.2.1. training"
   ]
  },
  {
   "cell_type": "code",
   "execution_count": 874,
   "metadata": {
    "scrolled": false
   },
   "outputs": [
    {
     "name": "stderr",
     "output_type": "stream",
     "text": [
      "/home/tm/miniconda3/envs/cs231n/lib/python3.7/site-packages/ipykernel_launcher.py:7: TqdmDeprecationWarning: This function will be removed in tqdm==5.0.0\n",
      "Please use `tqdm.notebook.tqdm` instead of `tqdm.tqdm_notebook`\n",
      "  import sys\n"
     ]
    },
    {
     "data": {
      "application/vnd.jupyter.widget-view+json": {
       "model_id": "de73238e72e34c828e37260ebd81ba51",
       "version_major": 2,
       "version_minor": 0
      },
      "text/plain": [
       "HBox(children=(FloatProgress(value=0.0, max=100000.0), HTML(value='')))"
      ]
     },
     "metadata": {},
     "output_type": "display_data"
    },
    {
     "name": "stdout",
     "output_type": "stream",
     "text": [
      "\n"
     ]
    }
   ],
   "source": [
    "rnn_small = RNN(9, 9, 10)\n",
    "softmax = SOFTMAX()\n",
    "_X = np.array([[1,2,3,4,5], [2,3,4,5,6], [3,4,5,6,7]])\n",
    "_Y = np.array([[2,3,4,5,6], [3,4,5,6,7], [4,5,6,7,8]])\n",
    "history_loss = []\n",
    "\n",
    "for i in tqdm_notebook(range(100000)):\n",
    "    y_cache, h_cache = rnn_small.forward(_X[0:3]) # t, N, y\n",
    "\n",
    "    time = y_cache.shape[0]\n",
    "    N = y_cache.shape[1]\n",
    "\n",
    "    y_cache = y_cache.reshape(time * N, -1)\n",
    "    Real_Y = _Y[0:3].T.reshape(time * N)\n",
    "\n",
    "    loss, dy = softmax.loss(y_cache, Real_Y)\n",
    "    \n",
    "    history_loss.append(loss)\n",
    "\n",
    "    dy = dy.reshape(time, N, -1)\n",
    "    y_cache = y_cache.reshape(time, N, -1)\n",
    "\n",
    "    dWhh, dWxh, dbh, dWhy, dby, dh_0 = rnn_small.backward(dy, y_cache, h_cache)\n",
    "    rnn_small.gra_update(dWhh, dWxh, dbh, dWhy, dby, dh_0)"
   ]
  },
  {
   "cell_type": "markdown",
   "metadata": {},
   "source": [
    "#### 2.2.2. Show Graph"
   ]
  },
  {
   "cell_type": "code",
   "execution_count": 875,
   "metadata": {
    "scrolled": true
   },
   "outputs": [
    {
     "data": {
      "image/png": "[encoded data removed]",
      "text/plain": [
       "<Figure size 432x288 with 1 Axes>"
      ]
     },
     "metadata": {
      "needs_background": "light"
     },
     "output_type": "display_data"
    }
   ],
   "source": [
    "plt.plot(history_loss)\n",
    "plt.show()"
   ]
  },
  {
   "cell_type": "markdown",
   "metadata": {},
   "source": [
    "#### 2.2.3. Test\n",
    "1의 다음 수는 2, 2의 다음 수는 3, 3의 다음 수는 4 ~"
   ]
  },
  {
   "cell_type": "code",
   "execution_count": 880,
   "metadata": {},
   "outputs": [
    {
     "name": "stdout",
     "output_type": "stream",
     "text": [
      "[2 3 4 5 6 7 8 3]\n"
     ]
    }
   ],
   "source": [
    "y_cache, h_cache = rnn.forward(np.array([[1,2,3,4,5,6,7,8]]))\n",
    "print(y_cache.argmax(axis=2).reshape(-1))"
   ]
  },
  {
   "cell_type": "markdown",
   "metadata": {},
   "source": [
    "### 2.3. shakespeare.txt에 적용하기"
   ]
  },
  {
   "cell_type": "markdown",
   "metadata": {},
   "source": [
    "#### 2.3.1. training"
   ]
  },
  {
   "cell_type": "code",
   "execution_count": 888,
   "metadata": {},
   "outputs": [
    {
     "name": "stderr",
     "output_type": "stream",
     "text": [
      "/home/tm/miniconda3/envs/cs231n/lib/python3.7/site-packages/ipykernel_launcher.py:5: TqdmDeprecationWarning: This function will be removed in tqdm==5.0.0\n",
      "Please use `tqdm.notebook.tqdm` instead of `tqdm.tqdm_notebook`\n",
      "  \"\"\"\n"
     ]
    },
    {
     "data": {
      "application/vnd.jupyter.widget-view+json": {
       "model_id": "8329c665e7e04154990e771b5591bc81",
       "version_major": 2,
       "version_minor": 0
      },
      "text/plain": [
       "HBox(children=(FloatProgress(value=0.0, max=200.0), HTML(value='')))"
      ]
     },
     "metadata": {},
     "output_type": "display_data"
    },
    {
     "name": "stdout",
     "output_type": "stream",
     "text": [
      "\n"
     ]
    }
   ],
   "source": [
    "rnn = RNN(65, 65, 30)\n",
    "softmax = SOFTMAX()\n",
    "history_loss = []\n",
    "for j in tqdm_notebook(range(200)):\n",
    "    for i in range(110):\n",
    "        y_cache, h_cache = rnn.forward(X_train[0+100*i:100+100*i]) # t, N, y\n",
    "\n",
    "        time = y_cache.shape[0]\n",
    "        N = y_cache.shape[1]\n",
    "\n",
    "        y_cache = y_cache.reshape(time * N, -1)\n",
    "        Real_Y = Y_train[0+100*i:100+100*i].T.reshape(time * N)\n",
    "\n",
    "        loss, dy = softmax.loss(y_cache, Real_Y)\n",
    "        history_loss.append(loss)\n",
    "\n",
    "        dy = dy.reshape(time, N, -1)\n",
    "        y_cache = y_cache.reshape(time, N, -1)\n",
    "\n",
    "        dWhh, dWxh, dbh, dWhy, dby, dh_0 = rnn.backward(dy, y_cache, h_cache)\n",
    "        rnn.gra_update(dWhh, dWxh, dbh, dWhy, dby, dh_0)"
   ]
  },
  {
   "cell_type": "markdown",
   "metadata": {},
   "source": [
    "#### 2.3.2. Show Graph"
   ]
  },
  {
   "cell_type": "code",
   "execution_count": 908,
   "metadata": {},
   "outputs": [
    {
     "data": {
      "image/png": "[encoded data removed]",
      "text/plain": [
       "<Figure size 432x288 with 1 Axes>"
      ]
     },
     "metadata": {
      "needs_background": "light"
     },
     "output_type": "display_data"
    }
   ],
   "source": [
    "plt.plot(history_loss[:])\n",
    "plt.show()"
   ]
  },
  {
   "cell_type": "markdown",
   "metadata": {},
   "source": [
    "#### 2.3.3 test"
   ]
  },
  {
   "cell_type": "code",
   "execution_count": 964,
   "metadata": {},
   "outputs": [
    {
     "name": "stdout",
     "output_type": "stream",
     "text": [
      "0.1503921568627451\n"
     ]
    }
   ],
   "source": [
    "y_cache, h_cache = rnn.forward(X_test) # t, N, y\n",
    "\n",
    "time = y_cache.shape[0]\n",
    "N = y_cache.shape[1]\n",
    "\n",
    "y_cache = y_cache.reshape(time * N, -1)\n",
    "Real_Y = Y_test.T.reshape(time * N)\n",
    "print(np.sum(y_cache.argmax(axis=1).reshape(-1) == Real_Y) / (time*N))"
   ]
  },
  {
   "cell_type": "markdown",
   "metadata": {},
   "source": [
    "### Generating"
   ]
  },
  {
   "cell_type": "markdown",
   "metadata": {},
   "source": [
    "첫마디 주면 아무거나 그럴싸하게 말하게 만들자"
   ]
  },
  {
   "cell_type": "code",
   "execution_count": 966,
   "metadata": {},
   "outputs": [
    {
     "ename": "SyntaxError",
     "evalue": "invalid token (<ipython-input-966-6532b9aed0d2>, line 6)",
     "output_type": "error",
     "traceback": [
      "\u001b[0;36m  File \u001b[0;32m\"<ipython-input-966-6532b9aed0d2>\"\u001b[0;36m, line \u001b[0;32m6\u001b[0m\n\u001b[0;31m    print(nx.shape[0], nx.shape[1])01).reshape(-1).tolist()\u001b[0m\n\u001b[0m                                    ^\u001b[0m\n\u001b[0;31mSyntaxError\u001b[0m\u001b[0;31m:\u001b[0m invalid token\n"
     ]
    }
   ],
   "source": [
    "rnn2 = RNN(1, 1, 1)\n",
    "rnn2.f(rnn.x_size, rnn.y_size, rnn.h_size, rnn.Whh, rnn.Wxh, rnn.bh, rnn.Why, rnn.by, rnn.h_0)\n",
    "x = input()\n",
    "x2i =[c2i[i] for i in x]\n",
    "nx = np.array(x2i).reshape(1,-1)\n",
    "print(nx.shape[0], nx.shape[1])\n",
    "ret = rnn2.generator(nx, 100).argmax(axis=1).reshape(-1).tolist()\n",
    "print(ret)\n",
    "print(' ')\n",
    "gen = [i2c[i] for i in ret]\n",
    "print(gen)"
   ]
  },
  {
   "cell_type": "markdown",
   "metadata": {},
   "source": [
    "## ~~3. Another~~ 망햇다\n",
    "\n",
    "좋아보이는 거 더 합치기<br>\n",
    "[Xavier Initialization + RNN + softmax + cross-entropy loss] + ADAM + batch normalization\n",
    "\n",
    "하나씩 짜보자"
   ]
  },
  {
   "cell_type": "markdown",
   "metadata": {},
   "source": [
    "### 3.1. Xavier Initialization\n",
    "tanh와 함께 쓰이면 좋다고 한다. 위의 코드에 이미 적용하였다.\n",
    "\n",
    "https://reniew.github.io/13/\n",
    "http://proceedings.mlr.press/v9/glorot10a/glorot10a.pdf<br>\n",
    "나중에 읽어야지."
   ]
  },
  {
   "cell_type": "code",
   "execution_count": 49,
   "metadata": {},
   "outputs": [],
   "source": [
    "# Code"
   ]
  },
  {
   "cell_type": "markdown",
   "metadata": {},
   "source": []
  },
  {
   "cell_type": "markdown",
   "metadata": {},
   "source": [
    "## Reference\n",
    "[ratsgo 블로그 - RNN](https://ratsgo.github.io/natural%20language%20processing/2017/03/09/rnnlstm/)<br>\n",
    "[ratsgo 블로그 - 가중치 초기화](https://reniew.github.io/13/)<br>\n",
    "[karpathy 블로그 - The Unreasonable Effectiveness of Recurrent Neural Networks](http://karpathy.github.io/2015/05/21/rnn-effectiveness/)<br>\n",
    "[TensorFlow - 순환 신경망을 활용한 문자열 생성](https://www.tensorflow.org/tutorials/text/text_generation?hl=ko)"
   ]
  },
  {
   "cell_type": "code",
   "execution_count": null,
   "metadata": {},
   "outputs": [],
   "source": []
  }
 ],
 "metadata": {
  "celltoolbar": "Raw Cell Format",
  "kernelspec": {
   "display_name": "Python 3",
   "language": "python",
   "name": "python3"
  },
  "language_info": {
   "codemirror_mode": {
    "name": "ipython",
    "version": 3
   },
   "file_extension": ".py",
   "mimetype": "text/x-python",
   "name": "python",
   "nbconvert_exporter": "python",
   "pygments_lexer": "ipython3",
   "version": "3.7.6"
  }
 },
 "nbformat": 4,
 "nbformat_minor": 4
}
