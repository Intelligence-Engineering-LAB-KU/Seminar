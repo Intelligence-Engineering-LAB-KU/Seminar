{
 "cells": [
  {
   "cell_type": "markdown",
   "metadata": {
    "colab_type": "text",
    "id": "LhgqyHSYi0HY"
   },
   "source": [
    "# RNN for Develope LSTM\n",
    "## Contents\n",
    "1. Vanilla RNN\n",
    "    - 정의\n",
    "    - 종류\n",
    "    - RNN의 연산(Language Model)\n",
    "    - RNN의 단점\n",
    "2. LSTM(Long Short Term Memory)\n",
    "    - 정의\n",
    "    - LSTM 연산\n",
    "    - LSTM의 Loss와 Back Probagation\n",
    "3. LSTM 구현하기"
   ]
  },
  {
   "cell_type": "markdown",
   "metadata": {
    "colab_type": "text",
    "id": "Sn2JGeYli0Ha"
   },
   "source": [
    "## 1-1. Vanilla RNN 정의"
   ]
  },
  {
   "cell_type": "code",
   "execution_count": 1,
   "metadata": {
    "colab": {
     "base_uri": "https://localhost:8080/",
     "height": 520
    },
    "colab_type": "code",
    "id": "qDdOHYLYjBvK",
    "outputId": "50c46f3e-a768-4ddd-f260-ea5d816347d5"
   },
   "outputs": [
    {
     "data": {
      "text/html": [
       "<img src=\"https://www.dropbox.com/s/g56om5s3vt62pyx/Screenshot%202018-05-27%2021.31.06.png?raw=1\" width=\"900\" height=\"500\"/>"
      ],
      "text/plain": [
       "<IPython.core.display.Image object>"
      ]
     },
     "execution_count": 1,
     "metadata": {},
     "output_type": "execute_result"
    }
   ],
   "source": [
    "from IPython.display import Image\n",
    "from IPython.core.display import HTML \n",
    "Image(url= \"https://www.dropbox.com/s/g56om5s3vt62pyx/Screenshot%202018-05-27%2021.31.06.png?raw=1\", width = 900, height = 500)\n",
    "# print('\\t그림1. Vanila RNN의 표현')"
   ]
  },
  {
   "cell_type": "markdown",
   "metadata": {
    "colab_type": "text",
    "id": "juHoiAy9i0Hc"
   },
   "source": [
    "그림1. Vanila RNN의 표현\n",
    "\n",
    "### 정의  \n",
    "- 각각 이전 cell의 Hidden state $(h_{t-1})$ 와 입력 값$(x_t)$ 을 처리하는 $W_{hh}$ 와 $W_{xh}$를 공유하는 신경망 구조.  \n",
    "- 출력 값을 $y$는 출력 값을 생성하는 층의 Weight Matrix $W_{hy}$와 연산을 통해 값을 예측\n",
    "       \n",
    "### 특징\n",
    "- 정의와 같이 RNN 신경망은 가중치를 공유하는 특성을 갖고 있어, 시계열 데이터(자연어, 동영상)와 같은 데이터를 처리하는데 우수한 성능을 보임  \n",
    "- RNN은 입력 및 출력 시퀀스에 대해 제약이 없음\n",
    "       \n",
    "       \n",
    "※ 이때 tanh를 activatioin function으로 사용하는 이유  \n",
    "- [sigmoid에 비해 tanh가 그레이디언트 소실(Gradient Vanishing) 문제에 비교적 효과적 대안으로 여겨짐](https://brightwon.tistory.com/10)"
   ]
  },
  {
   "cell_type": "markdown",
   "metadata": {
    "colab_type": "text",
    "id": "7JF6IY2Ci0He"
   },
   "source": [
    "## 1-2. RNN의 종류"
   ]
  },
  {
   "cell_type": "code",
   "execution_count": null,
   "metadata": {
    "colab": {
     "base_uri": "https://localhost:8080/",
     "height": 420
    },
    "colab_type": "code",
    "id": "midOwgR1C7Qv",
    "outputId": "c8c63d88-b30b-4eb7-b4e7-fc57a3bd3b66"
   },
   "outputs": [
    {
     "data": {
      "text/html": [
       "<img src=\"https://www.dropbox.com/s/5lvfnk3ahvyarmc/Screenshot%202018-05-27%2020.36.58.png?raw=1\" width=\"1100\" height=\"400\"/>"
      ],
      "text/plain": [
       "<IPython.core.display.Image object>"
      ]
     },
     "execution_count": 4,
     "metadata": {
      "tags": []
     },
     "output_type": "execute_result"
    }
   ],
   "source": [
    "Image(url= \"https://www.dropbox.com/s/5lvfnk3ahvyarmc/Screenshot%202018-05-27%2020.36.58.png?raw=1\", width = 1100, height = 400)"
   ]
  },
  {
   "cell_type": "markdown",
   "metadata": {
    "colab_type": "text",
    "id": "j65SCa_5i0Hf"
   },
   "source": [
    "그림 2. RNN의 이용에 따른 종류  \n",
    "### RNN의 입력 출력에 따른 종류  \n",
    "(RNN은 시퀀스 길이에 상관없이 입력을 받고, 출력을 생성할 수 있음)\n",
    "1. one-to-one : ??\n",
    "2. one-to-many : Image Caption(자막 생성)\n",
    "3. many-to-one : sentiment analysis(감성 분석)\n",
    "4. many-to-many(1) : Machine Translation(기계 번역)\n",
    "5. many-to-many(2) : Sequence Labelling(Pos-Tagging, NER)"
   ]
  },
  {
   "cell_type": "markdown",
   "metadata": {
    "colab_type": "text",
    "id": "m3pwXO5ui0Hh"
   },
   "source": [
    "## 1-3. RNN의 연산"
   ]
  },
  {
   "cell_type": "code",
   "execution_count": null,
   "metadata": {
    "colab": {
     "base_uri": "https://localhost:8080/",
     "height": 420
    },
    "colab_type": "code",
    "id": "oLEViLEcDWLF",
    "outputId": "0a57092d-dc30-4ea0-e228-2569128b7190"
   },
   "outputs": [
    {
     "data": {
      "text/html": [
       "<img src=\"https://www.dropbox.com/s/3vh3et9gdfe4yai/Screenshot%202018-05-27%2021.44.49.png?raw=1\" width=\"800\" height=\"400\"/>"
      ],
      "text/plain": [
       "<IPython.core.display.Image object>"
      ]
     },
     "execution_count": 14,
     "metadata": {
      "tags": []
     },
     "output_type": "execute_result"
    }
   ],
   "source": [
    "Image(url= \"https://www.dropbox.com/s/3vh3et9gdfe4yai/Screenshot%202018-05-27%2021.44.49.png?raw=1\", width = 800, height = 400)"
   ]
  },
  {
   "cell_type": "markdown",
   "metadata": {
    "colab_type": "text",
    "id": "n2Nh_pB1i0Hi"
   },
   "source": [
    "그림 3. RNN의 연산(Many-to-Many)  \n",
    "#### RNN의 연산(Many-to-Many)  \n",
    "- RNN의 내부 가중치인 Weight Matrix $W$는 모든 time-step에서 동일함\n",
    "- t번째 결과인 $y_t$를 통해 각 time-step의 loss를 계산 할 수 있음.\n",
    "- 각 time-step의 모든 loss($L_t$)를 더한 Loss($L$)가 전체 모델의 Loss  "
   ]
  },
  {
   "cell_type": "code",
   "execution_count": null,
   "metadata": {
    "colab": {
     "base_uri": "https://localhost:8080/",
     "height": 420
    },
    "colab_type": "code",
    "id": "UM0lDeIKDgOS",
    "outputId": "f9a39e6c-9a50-4a72-81d6-c22d1e2f5f6a"
   },
   "outputs": [
    {
     "data": {
      "text/html": [
       "<img src=\"https://www.dropbox.com/s/v06pglkpd24d865/Screenshot%202018-05-27%2021.45.03.png?raw=1\" width=\"800\" height=\"400\"/>"
      ],
      "text/plain": [
       "<IPython.core.display.Image object>"
      ]
     },
     "execution_count": 16,
     "metadata": {
      "tags": []
     },
     "output_type": "execute_result"
    }
   ],
   "source": [
    "Image(url= \"https://www.dropbox.com/s/v06pglkpd24d865/Screenshot%202018-05-27%2021.45.03.png?raw=1\", width = 800, height = 400)"
   ]
  },
  {
   "cell_type": "markdown",
   "metadata": {
    "colab_type": "text",
    "id": "52RXWC1mi0Hk"
   },
   "source": [
    "그림 4. RNN의 연산(Many-to-One)\n",
    "#### RNN의 연산(Many-to-one)\n",
    "- RNN의 내부 가중치인 Weight Matrix $W$는 모든 time-step에서 동일함\n",
    "- 마지막 time-step의 결과인 $y_t$의 Loss를 사용해 Loss계산"
   ]
  },
  {
   "cell_type": "code",
   "execution_count": 18,
   "metadata": {},
   "outputs": [
    {
     "data": {
      "text/html": [
       "<img src=\"http://i.imgur.com/XYDxsNs.png\" width=\"800\" height=\"400\"/>"
      ],
      "text/plain": [
       "<IPython.core.display.Image object>"
      ]
     },
     "execution_count": 18,
     "metadata": {},
     "output_type": "execute_result"
    }
   ],
   "source": [
    "Image(url= \"http://i.imgur.com/XYDxsNs.png\", width = 800, height = 400)"
   ]
  },
  {
   "cell_type": "markdown",
   "metadata": {
    "colab_type": "text",
    "id": "8QpVqP7Fi0Hl"
   },
   "source": [
    "그림 5. RNN 모델의 역전파 그림  \n",
    "RNN의 역전파(Backpropagation Trough Time)\n",
    "- RNN의 역전파는 시간에 역순으로 진행함\n",
    "- RNN의 역전파 과정은 긴 Sequence에 대해 너무 연산시간이 너무 길기 때문에, 가장 끝으로 부터 n번째까지의 output에 대해서 역전파 되는 값을 고려하기도 함"
   ]
  },
  {
   "cell_type": "markdown",
   "metadata": {
    "colab_type": "text",
    "id": "Lk-fbAWli0Hn"
   },
   "source": [
    "## 1-4 RNN의 단점\n",
    "### RNN의 단점\n",
    "1. Gradient Explsion\n",
    "2. Gradient Vanishing\n"
   ]
  },
  {
   "cell_type": "markdown",
   "metadata": {
    "colab_type": "text",
    "id": "a7G5Oqr8GgWY"
   },
   "source": [
    "$$\\frac{dE_3}{dW}=\\sum_k^n\\frac{dE_n}{d\\hat{y_n}}\\frac{d\\hat{y_3}}{dh_3}(\\prod_{j=k+1}^n{\\frac{dh_j}{d_{j-1}}})\\frac{dh_k}{dW}$$  \n",
    "이떄, $\\prod_{j=k+1}^n{\\frac{dh_j}{d_{j-1}}}$에 의해 Gradient가 계속 해서 다음 time-step에 전달 되면서 그 값에따라 Gradient가 무한히 커질수도 있고(Gradient Explosion) 무한히 작아져 0에 수렴할 수도 있다(Gradient Vanishing).\n",
    "\n",
    "#### 해결 방법\n",
    "- Gradient Explosion : Gradient전달 과정에서 값을 K 미만으로 고정하여 전달하는 값을 조절하는 방법 Gradient Clipping\n",
    "- Gradient Vanishing : LSTM!! 하지만 완벽한 대안은 아니다."
   ]
  },
  {
   "cell_type": "markdown",
   "metadata": {
    "colab_type": "text",
    "id": "OszWi5ODOEE-"
   },
   "source": [
    "## LSTM 구현 - 데이터 준비"
   ]
  },
  {
   "cell_type": "code",
   "execution_count": 2,
   "metadata": {
    "colab": {
     "base_uri": "https://localhost:8080/",
     "height": 52
    },
    "colab_type": "code",
    "id": "3pONO2iKODxb",
    "outputId": "5b797485-6fe5-4d9c-ba2f-11a51dbd1068"
   },
   "outputs": [],
   "source": [
    "import tensorflow as tf\n",
    "import numpy as np\n",
    "from tensorflow.keras.utils import to_categorical\n",
    "from tensorflow.keras.preprocessing.sequence import pad_sequences\n",
    "from sklearn.model_selection import train_test_split \n",
    "## shakespeare corpus 다운로드\n",
    "path_to_file = tf.keras.utils.get_file('shakespeare.txt', 'https://storage.googleapis.com/download.tensorflow.org/data/shakespeare.txt')"
   ]
  },
  {
   "cell_type": "code",
   "execution_count": 3,
   "metadata": {
    "colab": {},
    "colab_type": "code",
    "id": "KMrZjir79YzW"
   },
   "outputs": [],
   "source": [
    "text = open(path_to_file, 'rb').read().decode(encoding='utf-8')\n",
    "# char --> number로 변환 하기 위한 dictionary 정의\n",
    "char2idx = {char : i for i, char in enumerate(sorted(set(text)))}\n",
    "idx2char = {i : char for i, char in enumerate(sorted(set(text)))}\n"
   ]
  },
  {
   "cell_type": "markdown",
   "metadata": {
    "colab_type": "text",
    "id": "u1sZ0cqI-GnZ"
   },
   "source": [
    "## 정수 인코딩"
   ]
  },
  {
   "cell_type": "code",
   "execution_count": 4,
   "metadata": {
    "colab": {},
    "colab_type": "code",
    "id": "n_hMDa2vGfRz"
   },
   "outputs": [],
   "source": [
    "# \\n 제거\n",
    "data = [char2idx[char] for char in text if char != '\\n']\n",
    "inputs = data[:-1]\n",
    "outputs = data[1:]"
   ]
  },
  {
   "cell_type": "code",
   "execution_count": 5,
   "metadata": {
    "colab": {
     "base_uri": "https://localhost:8080/",
     "height": 35
    },
    "colab_type": "code",
    "id": "ODCfchYztt1H",
    "outputId": "eac66920-8dc5-4b17-d580-49181d385a53"
   },
   "outputs": [
    {
     "name": "stdout",
     "output_type": "stream",
     "text": [
      "[18, 47, 56, 57, 58, 1, 15, 47, 58, 47]\n"
     ]
    }
   ],
   "source": [
    "print(inputs[:10])"
   ]
  },
  {
   "cell_type": "code",
   "execution_count": 6,
   "metadata": {
    "colab": {},
    "colab_type": "code",
    "id": "OBQq10Ygi0Hp"
   },
   "outputs": [],
   "source": [
    "# 각 문장(대사) 단위로 split\n",
    "text = text.split('\\n\\n')\n",
    "# 각 문장의 음절 토큰을 정수 인코딩\n",
    "data = np.array([np.array([char2idx[char]  for char in ' '.join(sentence.split('\\n'))]) for sentence in text])"
   ]
  },
  {
   "cell_type": "code",
   "execution_count": 7,
   "metadata": {
    "colab": {
     "base_uri": "https://localhost:8080/",
     "height": 52
    },
    "colab_type": "code",
    "id": "jJZDfl0AdVe_",
    "outputId": "2832aad8-9116-496f-e759-27e32cd70ca7"
   },
   "outputs": [
    {
     "name": "stdout",
     "output_type": "stream",
     "text": [
      "input :  First Citizen:Before we p\n",
      "output :  irst Citizen:Before we pr\n"
     ]
    }
   ],
   "source": [
    "print('input : ',''.join([idx2char[i] for i in inputs[:25]]))\n",
    "print('output : ', ''.join([idx2char[i] for i in outputs[:25]]))"
   ]
  },
  {
   "cell_type": "markdown",
   "metadata": {
    "colab_type": "text",
    "id": "nmrhQvaSpidp"
   },
   "source": [
    "## LSTM 구현 - 모델\n",
    "- 활성함수 정의"
   ]
  },
  {
   "cell_type": "code",
   "execution_count": 8,
   "metadata": {
    "colab": {},
    "colab_type": "code",
    "id": "76GqJXaHrEY5"
   },
   "outputs": [],
   "source": [
    "def sigmoid(x, backpropagation = False):\n",
    "  output = 1/(1 + np.exp(-x))\n",
    "  if backpropagation:\n",
    "    return output*(1-output)\n",
    "  return output\n",
    "  \n",
    "def tanh(x,backpropagation = False):\n",
    "  output = (1-np.exp(-x))/(1+np.exp(-x))\n",
    "  if backpropagation:\n",
    "    return 1-output**2\n",
    "  return output\n",
    "\n",
    "def softmax(x):\n",
    "  output = np.exp(x)/np.sum(np.exp(x))\n",
    "  return output"
   ]
  },
  {
   "cell_type": "code",
   "execution_count": 9,
   "metadata": {
    "colab": {
     "base_uri": "https://localhost:8080/",
     "height": 370
    },
    "colab_type": "code",
    "id": "M1waHjI5gFTr",
    "outputId": "3f770eab-84c4-48ba-83c0-8653f9405754"
   },
   "outputs": [
    {
     "data": {
      "text/html": [
       "<img src=\"https://www.dropbox.com/s/ufx6fm508mieoiz/Screenshot%202018-05-28%2017.09.54.png?raw=1\" width=\"800\" height=\"350\"/>"
      ],
      "text/plain": [
       "<IPython.core.display.Image object>"
      ]
     },
     "execution_count": 9,
     "metadata": {},
     "output_type": "execute_result"
    }
   ],
   "source": [
    "Image(url= \"https://www.dropbox.com/s/ufx6fm508mieoiz/Screenshot%202018-05-28%2017.09.54.png?raw=1\", width = 800, height = 350)"
   ]
  },
  {
   "cell_type": "markdown",
   "metadata": {
    "colab_type": "text",
    "id": "cAD2xrxL-RdM"
   },
   "source": [
    "가중치 행렬 정의 및 forward함수 정의"
   ]
  },
  {
   "cell_type": "code",
   "execution_count": 10,
   "metadata": {
    "colab": {},
    "colab_type": "code",
    "id": "cC3MqHK6s7Jf"
   },
   "outputs": [],
   "source": [
    "def forward(x, h, c, predict_all_sequences = True):\n",
    "#     print(x.shape)\n",
    "#     x = np.expand_dims(x, axis = -1)\n",
    "    tmp = np.dot(W_xh, x) + np.dot(W_hh, h) + bh\n",
    "    f_t = sigmoid(tmp[ :hidden_size])\n",
    "    i_t = sigmoid(tmp[hidden_size : hidden_size*2])\n",
    "    o_t = sigmoid(tmp[hidden_size*2 : hidden_size*3])\n",
    "    g_t = tanh(tmp[hidden_size*3 : ])\n",
    "#     print(f_t.shape, i_t.shape, c.shape, g_t.shape)\n",
    "    c_t = f_t*c + i_t*g_t\n",
    "    h_t = o_t*tanh(c_t)\n",
    "    if predict_all_sequences : \n",
    "        return softmax(np.dot(W_h_y,h_t) + b_y), f_t, i_t, o_t, g_t, h_t, c_t\n",
    "    return h_t\n",
    "\n",
    "def categorical_crossentropy(pred, y):\n",
    "    return -np.log(pred[y,0])\n",
    "\n"
   ]
  },
  {
   "cell_type": "markdown",
   "metadata": {},
   "source": [
    "Loss function 정의"
   ]
  },
  {
   "cell_type": "code",
   "execution_count": null,
   "metadata": {
    "colab": {
     "base_uri": "https://localhost:8080/",
     "height": 520
    },
    "colab_type": "code",
    "id": "M_36qXUAEIcz",
    "outputId": "4f5d03d6-e25e-4643-c5f2-db4b38e0d77d"
   },
   "outputs": [
    {
     "data": {
      "text/html": [
       "<img src=\"http://i.imgur.com/XYDxsNs.png\" width=\"800\" height=\"500\"/>"
      ],
      "text/plain": [
       "<IPython.core.display.Image object>"
      ]
     },
     "execution_count": 18,
     "metadata": {
      "tags": []
     },
     "output_type": "execute_result"
    }
   ],
   "source": [
    "Image(url= \"http://i.imgur.com/XYDxsNs.png\", width = 800, height = 500)"
   ]
  },
  {
   "cell_type": "code",
   "execution_count": 11,
   "metadata": {
    "colab": {},
    "colab_type": "code",
    "id": "-ev-rDlNs8Wx"
   },
   "outputs": [],
   "source": [
    "def lossFun(inputs, targets, hprev, cprev):\n",
    "    xs, hs, cs, is_, fs, os, gs, ys, ps = {}, {}, {}, {}, {}, {}, {}, {}, {}\n",
    "    # t = 0 일때 입력 hidden state, cell state 정의\n",
    "    hs[-1] = np.copy(hprev)\n",
    "    cs[-1] = np.copy(cprev)\n",
    "    loss = 0\n",
    "    H = hidden_size\n",
    "    # loss 계산을 하기위한 forward연산\n",
    "    for t in range(len(inputs)):\n",
    "        xs[t] = np.zeros((vocab_size, 1))  # encode in 1-of-k representation\n",
    "        xs[t][inputs[t]] = 1\n",
    "        tmp = np.dot(Wxh, xs[t]) + np.dot(Whh, hs[t - 1]) + bh  # hidden state\n",
    "        '''\n",
    "          input gate, forget gate, gate gate, cell state, hidden state 정의\n",
    "        '''\n",
    "        is_[t] = sigmoid(tmp[:H])\n",
    "        fs[t] = sigmoid(tmp[H:2 * H])\n",
    "        os[t] = sigmoid(tmp[2 * H: 3 * H])\n",
    "        gs[t] = np.tanh(tmp[3 * H:])\n",
    "        cs[t] = fs[t] * cs[t-1] + is_[t] * gs[t]\n",
    "        hs[t] = os[t] * np.tanh(cs[t])\n",
    "        ys[t] = np.dot(Why, hs[t]) + by \n",
    "        # softmax function\n",
    "        ps[t] = np.exp(ys[t]) / np.sum(np.exp(ys[t]))\n",
    "        loss += categorical_crossentropy(ps[t],targets[t])\n",
    "    # 역전파 계산을 위한 변수 설정\n",
    "    dWxh, dWhh, dWhy = np.zeros_like(Wxh), np.zeros_like(Whh), np.zeros_like(Why)\n",
    "    dbh, dby = np.zeros_like(bh), np.zeros_like(by)\n",
    "    dhnext, dcnext = np.zeros_like(hs[0]), np.zeros_like(hs[0])\n",
    "    for t in reversed(range(len(inputs))):\n",
    "        dy = np.copy(ps[t])\n",
    "        dy[targets[t]] -= 1  #  y 미분값 계산\n",
    "        dWhy += np.dot(dy, hs[t].T)\n",
    "        dby += dy\n",
    "        dh = np.dot(Why.T, dy) + dhnext # h의 미분값 계산\n",
    "        dc = dcnext + (1 - np.tanh(cs[t]) * np.tanh(cs[t])) * dh * os[t]  # tanh에 대한 미분값 계산\n",
    "        dcnext = dc * fs[t]\n",
    "        di = dc * gs[t]\n",
    "        df = dc * cs[t-1]\n",
    "        do = dh * np.tanh(cs[t])\n",
    "        dg = dc * is_[t]\n",
    "        ddi = (1 - is_[t]) * is_[t] * di # tanh 미분값 계산\n",
    "        ddf = (1 - fs[t]) * fs[t] * df # tanh 미분값 계산\n",
    "        ddo = (1 - os[t]) * os[t] * do # tanh 미분값 계산\n",
    "        ddg = (1 - np.tanh(gs[t]) * np.tanh(gs[t])) * dg # tanh 미분값 계산\n",
    "        da = np.hstack((ddi.ravel(),ddf.ravel(),ddo.ravel(),ddg.ravel()))\n",
    "        dWxh += np.dot(da[:,np.newaxis],xs[t].T)\n",
    "        dWhh += np.dot(da[:,np.newaxis],hs[t-1].T)\n",
    "        dbh += da[:, np.newaxis]\n",
    "        dhnext = np.dot(Whh.T, da[:, np.newaxis])\n",
    "    for dparam in [dWxh, dWhh, dWhy, dbh, dby]:\n",
    "        np.clip(dparam, -5, 5, out=dparam)  # Gradient clipping\n",
    "    return loss, dWxh, dWhh, dWhy, dbh, dby, hs[len(inputs) - 1], cs[len(inputs) - 1]"
   ]
  },
  {
   "cell_type": "code",
   "execution_count": 12,
   "metadata": {
    "colab": {},
    "colab_type": "code",
    "id": "v5cvAFTwncyY"
   },
   "outputs": [],
   "source": [
    "def sample(prevh, prevc, seed_ix, n):\n",
    "    x = np.zeros((vocab_size, 1))\n",
    "    x[seed_ix] = 1\n",
    "    ixes = []\n",
    "    c = prevc\n",
    "    h = prevh\n",
    "    H = hidden_size\n",
    "    for t in range(n):\n",
    "        tmp = np.dot(Wxh, x) + np.dot(Whh, h) + bh  # 가중치 행렬을 통한 hidden state 계산\n",
    "        i = sigmoid(tmp[:H])\n",
    "        f = sigmoid(tmp[H:2 * H])\n",
    "        o = sigmoid(tmp[2 * H: 3 * H])\n",
    "        g = np.tanh(tmp[3 * H:])\n",
    "        # gate값 분할\n",
    "        c = f * c + i * g\n",
    "        h = o * np.tanh(c)\n",
    "        y = np.dot(Why, h) + by \n",
    "        # softmax 수행\n",
    "        p = np.exp(y) / np.sum(np.exp(y))\n",
    "        ix = np.random.choice(range(vocab_size), p=p.ravel())\n",
    "        # 단어 예측\n",
    "        x = np.zeros((vocab_size, 1))\n",
    "        x[ix] = 1\n",
    "        ixes.append(ix)\n",
    "    return ixes"
   ]
  },
  {
   "cell_type": "code",
   "execution_count": 13,
   "metadata": {
    "colab": {
     "base_uri": "https://localhost:8080/",
     "height": 1000
    },
    "colab_type": "code",
    "id": "dOurCSL8ndXw",
    "outputId": "af435501-da4a-42db-b40b-6f75c4007b4c"
   },
   "outputs": [
    {
     "name": "stdout",
     "output_type": "stream",
     "text": [
      "----\n",
      " UPdR:TF&CzRXHW FFyOTVTsU!VOdv!BmpwCYCv'F;IlVYZvFQSrfhe;ti:jjtAKGN Ct\n",
      "vqc Pkm\n",
      "Pcd'Zlt?ySaHxKAo, LHGDu \n",
      "----\n",
      "iter 0, loss: 104.359681\n",
      "----\n",
      " rstCius!eUt eoy'.Frst:t nsedbgt odcknt eToe.iNsU,Frs o e;bnwteeoT e ir u aaiyuadyl,h sree sstoes-rut \n",
      "----\n",
      "iter 10000, loss: 31.392290\n",
      "----\n",
      " r hsrwyl,tyu usfo usn ir\n",
      "cnefisc,ieeSu:mie ortemlyba hlnfrcnt fyse!e u.ih catnter d ees csitt akiyuu \n",
      "----\n",
      "iter 20000, loss: 20.277315\n",
      "----\n",
      " ssg oetfrliv d ik e orsrlfo hvrsyu o o hreiyso e bd pthn orMmet;l;slatyh u ntera,nc ua oy wa iyhrvrs \n",
      "----\n",
      "iter 30000, loss: 16.159469\n",
      "----\n",
      " ys hmnw,dl o hsl inehah rsesesai s;rmlgeTot t but ntusrcrpt a ademv.ethrh a aciv ei i,pru,ees ad ort \n",
      "----\n",
      "iter 40000, loss: 14.921582\n",
      "----\n",
      " r t il ett evygs h ade orm asytyMiN fbit i wieAyik edwrsec setoh asemp,tisihs neeoy u o hal onha,ert \n",
      "----\n",
      "iter 50000, loss: 14.354012\n",
      "----\n",
      " rit sadirs as npathasyS,hi or rvrni;amscevnehmm o o odmri;t peeig ui ha hc rvgtrcutv eatl' ha eesmot \n",
      "----\n",
      "iter 60000, loss: 14.713169\n",
      "----\n",
      " dsyht asn eepatorsal,laselht ese?wr tetyupotekm,.EN:h o' lvprnt tlnv satrcet ilbnn tot.asaT alie nte \n",
      "----\n",
      "iter 70000, loss: 14.956205\n",
      "----\n",
      " t, i edyorhrlr,' o ywldScnte o ede?ih h gndonoraporetet n wll.et rmo!I,dWlk friedi' hvneh hael nterl \n",
      "----\n",
      "iter 80000, loss: 17.366194\n",
      "----\n",
      " tyu pitbyuIiedigt w,tiitu waetntorpaa aylo rmpie,etetie ist te aselr oa omit his o hsl ecus neo t te \n",
      "----\n",
      "iter 90000, loss: 17.885161\n",
      "----\n",
      " ryoe ou uuslnT u o,eoet rmaebeSFrseaeot sec sat te?laleoO sapeo hvrs ptat yu,aeano,msraeofbel;t s ic \n",
      "----\n",
      "iter 100000, loss: 20.391057\n",
      "----\n",
      " rceitttCpek setyFrs oe isn t nlpetwnles h emedet ihlha oeeh mk, cmni te- gen' hlh?in hrcly ntwassett \n",
      "----\n",
      "iter 110000, loss: 21.438008\n",
      "----\n",
      " rnevneo a ad te og rsebi, ha sa a o-icor o,odrcii, haeMd o haedrntha hcirtywakih o ede ametbea.etoea \n",
      "----\n",
      "iter 120000, loss: 23.644235\n",
      "----\n",
      " reton ormetiedigM:o ''tl o'hhh ontdig nsrtTh h i, o tlfbde,hih ocu,e o tal ay ocodrmtfrin,to!hn or f \n",
      "----\n",
      "iter 130000, loss: 25.702954\n",
      "----\n",
      " rcis hag ntutepetoeo o ukl onorfbut,lit ha av tafMEENIS:whe os rseoe hae te oI rmesii usnes rvues e  \n",
      "----\n",
      "iter 140000, loss: 27.048886\n",
      "----\n",
      " o osmii nsntrog netrcn e bih oy o rmed,deqtrpha icerceie oih ik acesrfieins ikoB aaseluoTasrcplntyuS \n",
      "----\n",
      "iter 150000, loss: 30.671285\n",
      "----\n",
      "  ae rpekree.ToreI'Watee or hya salon hve einseemmd,te,hu icod wodeto haeoc ne ie on oprl;iieoreaywrs \n",
      "----\n",
      "iter 160000, loss: 31.589066\n",
      "----\n",
      " rsnleat sfb ciotorsa o sfbic i srins rvptzf:EIla acutig a uptlylearted n u h aeh e eemetsNryg g i,ah \n",
      "----\n",
      "iter 170000, loss: 32.508760\n",
      "----\n",
      " rs h hueisrsybuspaiicsaslc,wee'c ne as lrn hs bie nta can hmh hmr?i;or u o wu:laeudayd,nso;m u orhr  \n",
      "----\n",
      "iter 180000, loss: 33.268707\n",
      "----\n",
      " rsth feinw seoyhrcwiSeameoTeoedWatIYsese u m a,ip niit uopaed,tet ta eeoesFrmne e uporebiysehm oreo  \n",
      "----\n",
      "iter 190000, loss: 35.226679\n",
      "----\n",
      " o hl rsa eeret t snt rgins o hsie?etotweUtr uerie snt yo hael orsm eeo,tefi  v esfrm o tal,bll acesi \n",
      "----\n",
      "iter 200000, loss: 37.541354\n",
      "----\n",
      " t gud,tolcnee frmit Eru eludetl oesafin hoi as patiN mttznsaes offal,d ak yu;wedeTas ed gd,i;bi,haes \n",
      "----\n",
      "iter 210000, loss: 39.226638\n",
      "----\n",
      " wet:Tose n tepl;oefeor ptrig bsa eihr ot fyo;o fiedr teh sn o hrklg,di  v trfl,tntl al  lebes por ie \n",
      "----\n",
      "iter 220000, loss: 38.686871\n",
      "----\n",
      " ystlk yuri eewepr hteaynro al elnehs nte upta aeFr t i tenvy u;wuwrceiiettta asycnc isrcruih a t i,d \n",
      "----\n",
      "iter 230000, loss: 39.045294\n",
      "----\n",
      " oe-Frs hTea,dn tit opeta,teca,tWlcS.ilcaeareth eal oAl i aat elvesalWoTt acatee tas trnueMnt rvicsa  \n",
      "----\n",
      "iter 240000, loss: 40.466681\n",
      "----\n",
      " lsFf usnww' odhm ar clneA tylc,godats edusoeh ieM;wsethreteacasdYwsu isl in ak a udu hwecb hog eet n \n",
      "----\n",
      "iter 250000, loss: 40.745772\n",
      "----\n",
      " r oat a ictO hth o adu o ar tenymut h  eonA.Ffat yu:i tcnsfigtor u o t r b a,ira,hmc padya!ISih tes  \n",
      "----\n",
      "iter 260000, loss: 42.126722\n",
      "----\n",
      " rsrfil:e or eth raeed 'oyca,eoti sa o, i, al,sefi srmiel;a,ih hsral udsrmr othm or agotntokh hlhsy a \n",
      "----\n",
      "iter 270000, loss: 43.159438\n",
      "----\n",
      " f hst frmntnT s,men o h'l temiedo;msefel:soMesasspfr icie.Ethtr  ora,Ii,tafcmel.it r h as,ie,iv m o  \n",
      "----\n",
      "iter 280000, loss: 44.093156\n",
      "----\n",
      " dmeseTieos ncu t t orfirTetwlwuduTotte?Ecety upnsvdsdfif iti  vrw yfrconees Wi  h hl vetefetocusievs \n",
      "----\n",
      "iter 290000, loss: 44.630459\n",
      "----\n",
      " rltha hYu emks fo uFtof srrlesgtlwyu,wa, t rpeir,d net eemeeut i s,ad eot u h edne huf neot atoteraa \n",
      "----\n",
      "iter 300000, loss: 45.052647\n",
      "----\n",
      " rcrveis,smnehuuineatihiyhg oc ptlh o ht oeoy i harayun a mr or oml,w tecbsev'tws  n papsfah hi at s  \n",
      "----\n",
      "iter 310000, loss: 44.968775\n",
      "----\n",
      " rsltnsshs see hyte;rt sefirt t n!rYyu aneb';o,etrs ioe.icEhrmreles tepored o ted tat et,clc oi o hma \n",
      "----\n",
      "iter 320000, loss: 45.991249\n",
      "----\n",
      " l outwac nt crvebihl eehti hrgtcnsfbtl;t ikdeywiwo rmlie ostapato!haSeorsafy,Rtlcesetrl oceae or aeo \n",
      "----\n",
      "iter 330000, loss: 45.766712\n",
      "----\n",
      " 'ahif loe, ors a iuhEeodo ak yu hhht ac eent.Folte i ing nrsrba ou-t ftcett ntedc st a ugeyo hmts pa \n",
      "----\n",
      "iter 340000, loss: 46.087396\n",
      "----\n",
      " alys n arsu;neus cmnsnfo w l anwCh ai cewnteltewresaiedc vcudlnAa il oro potol.etr ofie,wAligdtofigt \n",
      "----\n",
      "iter 350000, loss: 47.433451\n",
      "----\n",
      " rctnshwa,Il te iee hntaki lm rkehfhier h es oa ofrcice eetl ntetrtelkysn tetsmgdntsanetot frcicsYehs \n",
      "----\n",
      "iter 360000, loss: 47.301958\n",
      "----\n",
      " r os on aeo ni oreem ain hce onormo flRteytt eiele eae acu!Wt a'td m?tisr,ed .il:o udod eshhyw h e u \n",
      "----\n",
      "iter 370000, loss: 47.580934\n",
      "----\n",
      " eIpdyyti o,eo u astaitrnWetansd h sl eh apanTete hisffrcekty  uodaewel haetdnd telyprcevn hteaknte h \n",
      "----\n",
      "iter 380000, loss: 48.512979\n",
      "----\n",
      " n?tfntets wada,wik h eardeemutsRFrstns bls oSo rmrie A eso eesiilsloyurasodhrptasa of-cise au tepsa  \n",
      "----\n",
      "iter 390000, loss: 48.321203\n",
      "----\n",
      " emrs o h o hm emot arersnt t attris hahlrtrpwte sriusSednTet n o tfll-rcwihpa whs rmors, 'utln htprc \n",
      "----\n",
      "iter 400000, loss: 48.597004\n",
      "----\n",
      " o, h uely adncus,t t  ua hwhsl o t o t tlygrse teeht rml oe hiecin esrce ted nteeegod e m amyh osdsy \n",
      "----\n",
      "iter 410000, loss: 49.050967\n",
      "----\n",
      " rcio, srsewsh nongeos o eauseas ti,,usesealslTgrrs et hn ht e wo as teibdn ncedseet!l hh o,dsu eob,i \n",
      "----\n",
      "iter 420000, loss: 49.617425\n",
      "----\n",
      " r tChutaa onea teee o e ag titorpekneftot nswic atossfioo h rceventas telbr hrtyMrcuir esp:oda t'mte \n",
      "----\n",
      "iter 430000, loss: 50.186866\n",
      "----\n",
      " o, orbscmyl'mmm tedhrpted,oa',lFrstfrrt n,w'Walsi ea ettrlsfo i; lko:ea i ev  el os hvescnr teuysosf \n",
      "----\n",
      "iter 440000, loss: 49.897774\n",
      "----\n",
      " ', ht espw syisTyyten yyumus bcl.ehodyudieci l;nne ea un ,gettt ou an itte ha hlidiatrte iieelAdCprt \n",
      "----\n",
      "iter 450000, loss: 50.188608\n",
      "----\n",
      " reib,h awikdl o hi oeFii hCtonhwr tan e e to!?h s o,wtemet epigety;tepin uiieocorftih ortfiii a ndnt \n",
      "----\n",
      "iter 460000, loss: 50.683465\n",
      "----\n",
      " r eetla anYmpnie.atihe euyly nrtusMRus,tigitt as rnet o o  vd nis,ISs ntiis os osneet eti nLttupretr \n",
      "----\n",
      "iter 470000, loss: 51.206288\n",
      "----\n",
      " u saai,nne eeme oseot,mo, rht ao hb seyu eev samnn'Fre dgtcineorhreemrwr i esa eis ocueseae i or orn \n",
      "----\n",
      "iter 480000, loss: 52.442110\n",
      "----\n",
      " rstw hw h hvesa nteew  od see oo ak ehs hnn tewo hll ini fr os vr atsecn o isd rkyc ue onea a  isdsr \n",
      "----\n",
      "iter 490000, loss: 52.348273\n",
      "----\n",
      " ro vobie eeruh hoy ov as,hw haedhsmrnef are oe ns lvnyehFrsns'ot,te irmehwyweI: hsefay hrv' wrciNFfh \n",
      "----\n",
      "iter 500000, loss: 52.523494\n",
      "----\n",
      " rtl e:u olcditwetOrmug 'ota a  n sfrntrfuti ag ogtttacuceewaciee.o o,ne ieh o tdywfliv hflEt,Nih  yu \n",
      "----\n",
      "iter 510000, loss: 53.320086\n",
      "----\n",
      " ?eik nr hsrfyu elt ile:i okeednih,I nee htcysmn yu u eluo,tihowa:ngrbo; acussThreuaeeyutputoeaga tit \n",
      "----\n",
      "iter 520000, loss: 53.778774\n",
      "----\n",
      " re ieom hm saoisMhmr i nr i h;rc eer ntorwtlatntoywyhsn itlN yus ev teast,Iht oa h ht nnw lvn ina o  \n",
      "----\n",
      "iter 530000, loss: 54.173080\n",
      "----\n",
      " rv w  taesc o htyta,yu rst frl,o hl pikn, h emni,hheebrte rpeo,eeems otemliyu,waletnfeu t slkne'htFr \n",
      "----\n",
      "iter 540000, loss: 54.695241\n",
      "----\n",
      " rle aditl niu,sne or hi or for e ef,taihthngednii ad o t h e ag tet hmc aaotrlfytrcitznAt orftil sel \n",
      "----\n",
      "iter 550000, loss: 54.584537\n",
      "----\n",
      " rcups,irs ho a,ISil syl o hltotRnir tnb oreFrfuon ha or osmieWigieeb yu nig yum vnoSr.ifa uut,Yua  t \n",
      "----\n",
      "iter 560000, loss: 53.876871\n",
      "----\n",
      " rsieshbt etog ateaplcoy tol os e peat i o  tugano'lkdue ted epis htft o ceed al tepun hyn rsbie cses \n",
      "----\n",
      "iter 570000, loss: 54.274675\n",
      "----\n",
      " lAltyurosl;ersrtedi,wW ecee oceCittn u, dneh tey u ely ne tesFo,h  ekg  oedwysrateesha o hs tik nrye \n",
      "----\n",
      "iter 580000, loss: 54.434686\n",
      "----\n",
      " ms sakmdot w loe,tey hshstrt frsrei o hsa i w !a oclNtd. hae el bmk:Hermo,rhlh ieprhnigdmecivo wi it \n",
      "----\n",
      "iter 590000, loss: 55.011891\n",
      "----\n",
      " vgin,n,te hss altufTe w  nspv trt a hcen o o al,w tecru nnu ''doro fsevno oTer h  hle,o is ivc hs  a \n",
      "----\n",
      "iter 600000, loss: 54.985664\n",
      "----\n",
      " mt htm hvrty,I h rs oigtrniieceY a em iitttpin isew'Waksyho dsd isii t yuei, uatmmet prmicbnesASorhi \n",
      "----\n",
      "iter 610000, loss: 55.371871\n",
      "----\n",
      " riod ose-ette tea?iha u  utol al h lkst-srcntou uptahuesal-fibuassa addrtieyn l:r.ichrttl ont ed fti \n",
      "----\n",
      "iter 620000, loss: 55.506467\n",
      "----\n",
      " td evr o ad fmittoy ai nrtrcig:dnae iedspaftcntetbl.ENNtItsT oelesWstoe oesnth poreshnttdi oo,wi orh \n",
      "----\n",
      "iter 630000, loss: 55.778075\n",
      "----\n",
      " orpv ad rvpttec ietA o o, uce etr as evn tut?ENNNIUSotTetAecnsul e' hsw hopsalantwt-enysihi, a eefI  \n",
      "----\n",
      "iter 640000, loss: 56.579021\n",
      "----\n",
      " tehi aeewyf!lN,I iptct edis;rm i siksfnteytetae i  tealvpeas rktfsr horcpedrsasc gsngirs om fiih i   \n",
      "----\n",
      "iter 650000, loss: 56.576650\n",
      "----\n",
      " retcyh sreigk eat,I e hl l;oraetwnl,os a adah hvup adwyhrsaeetrtesrmrptrgt edl ntttfikteeai is orc h \n",
      "----\n",
      "iter 660000, loss: 57.233521\n",
      "----\n",
      " rsn:tor,cn ai hsk,atre ie tro eow.ai;ret e trcig o ,tetO avssprfih uitried hutsevn ted-A hs o, orcri \n",
      "----\n",
      "iter 670000, loss: 56.693232\n",
      "----\n",
      " Ttti hvrlnA forahhCr,h oyprkwh iiscihe asetlg ohsfhau hcsapornwta ha se orutwyl;ehe o hnroy epesadtw \n",
      "----\n",
      "iter 680000, loss: 56.932100\n",
      "----\n",
      " rtyb.oelMIt 'sf crsMyteev ah,catol e dotrfhfercsvsa o usfo  eeoe rtt oror i poyames eiu: un glr,fFri \n",
      "----\n",
      "iter 690000, loss: 57.542811\n",
      "----\n",
      "  ieln',Iethteai triIsMosrWlttied,hsr ntutey ht usa:eretwyh tsn eat o elni, ysaiedh  hsl,os u becunsl \n",
      "----\n",
      "iter 700000, loss: 57.673359\n",
      "----\n",
      " rgos hCiis  eysypaeepry,wo,horcsro o ha ya,o filneftzns'a o hv rdibat aboculb ed,Sa hvseignrbea ol e \n",
      "----\n",
      "iter 710000, loss: 57.805943\n",
      "----\n",
      " rstihecrub h e?ir ueo hspstnhmr ipwporntigr m eatwss eau sufistwstO o,h rvrono mkgi o hspoSesl ht hm \n",
      "----\n",
      "iter 720000, loss: 58.121535\n",
      "----\n",
      "  nr atihu,il oeaslo ocoh cnvslT'-beshrnewwh all i hn orfiii a sevOsiCrssedfaseFycupns aksdgnrtee w o \n",
      "----\n",
      "iter 730000, loss: 58.219716\n",
      "----\n",
      " ala.ENNISStw'WWaedee!Frs htgy,te.ocav teilw rcttb hoyuciev amsoi,mOevtel ethA  hr e rmsfA,ioedFrwrk  \n",
      "----\n",
      "iter 740000, loss: 58.730700\n",
      "----\n",
      " o earh,oto hsevbttk otoow id wl ,oeg i m b;r n e tgnblta sYt oneeoI tehgnYe  u ns  po  vns amrpiesSy \n",
      "----\n",
      "iter 750000, loss: 58.784500\n",
      "----\n",
      " fatoslhl'oti;pE ihgeares fiy h otsly rceee ooshr hmk hycaymreieoA eorewr!,rh bly rvo h csrneo hon od \n",
      "----\n",
      "iter 760000, loss: 58.465460\n",
      "----\n",
      " ys h'ulog at eow d tekwy!a a hsen!wrpbyhh' o!trksklmorhlvsnirerpided, ua,wrtheTofy,nugt'  htugas uto \n",
      "----\n",
      "iter 770000, loss: 58.608045\n",
      "----\n",
      " n,t hie nwof oemflr htsa mrtret:eoyht telytodn,ormot e oeamhWhndigw,pe rsikeoeelel:wh oel ocl cnee e \n",
      "----\n",
      "iter 780000, loss: 58.978589\n",
      "----\n",
      " os ntot ticniaerd pr,i hWo,at tee atw  stbtl,wpa rms es n o . i;rbotddtn al.frmetc' ubmton ukareftms \n",
      "----\n",
      "iter 790000, loss: 58.956882\n",
      "----\n",
      " rmei;hAnaftrs eo u tis ikt o i esh eeb ojtaktyytipfin EAt:Weks;ahtt u  ek eti m oj o o tothmloTer mt \n",
      "----\n",
      "iter 800000, loss: 59.285740\n",
      "----\n",
      " Ri e: hr,n u tY  ahtsms alndut:aeesbadths,sia evesleytkeeyako os.ENNN:Sbiis akttntttlrculA  euev ecr \n",
      "----\n",
      "iter 810000, loss: 59.715594\n",
      "----\n",
      " h hel o olmsruv teobt-tgg',tFu to ha basadWkortyheueetc oeaysnfm ihs ti ti.myEtnebac net cbYurefrca  \n",
      "----\n",
      "iter 820000, loss: 60.616590\n",
      "----\n",
      " x tieCyheme,,hh ewnpi ftUu o, e oes ttspe i t od el ctate!;wur no,teftrtei nys d,n,I oi tg telar, or \n",
      "----\n",
      "iter 830000, loss: 59.501697\n",
      "----\n",
      " riy!elssmvd h esM:ei te pi tkeFretrfi eB eebie oeogo h't ikB aeen emm yuresn,o h's hvnse:ihs,csaor h \n",
      "----\n",
      "iter 840000, loss: 59.962986\n",
      "----\n",
      " rahhS ot srvOrwE  a pea crstfa tsyshiymni d ioe porsyhvefcrnAl oc'tsa fu!otwe oee otoe oa osehlss hv \n",
      "----\n",
      "iter 850000, loss: 59.660099\n",
      "----\n",
      "    iumit odehrcfso ee eelrsfa uslyfrci l oembtI'm'l:ftee ovtae,rct e hsh aeoroctso haks ga,c sWtto e \n",
      "----\n",
      "iter 860000, loss: 60.686929\n",
      "----\n",
      " fkiteSytt telbathfrcosdahw oear hv ote oitwy ih udO eeBs o ose ntekfati i rve,tnr fms,n,a o  eg rt i \n",
      "----\n",
      "iter 870000, loss: 60.383237\n",
      "----\n",
      "  a uecbBlo ore e!ueesyuninyM eidhyhupef otd oodad,t oraml?sfrltia hepnsl o o eok e'e inc,noec t alla \n",
      "----\n",
      "iter 880000, loss: 60.538067\n",
      "----\n",
      " rmnh onint  o u,hl o n, icndl ekom l or ort;ottFrsslbnrn,o eot yuksrc,get k tut ihds,h eat aeln Enwr \n",
      "----\n",
      "iter 890000, loss: 60.502380\n",
      "----\n",
      " rst eeo hbacseleIdTyowsvttttu u eet oma ih epo!t t w a,ol;faete nnwyu!u eey erl fpIa e r ihe;,c edtr \n",
      "----\n",
      "iter 900000, loss: 60.553402\n",
      "----\n",
      " og rmh h'alybedae u i dttuui b h rggha ua frcunslpiaot ti hkiseanl ealeFNIShhsfatt ote hemseanyuso h \n",
      "----\n",
      "iter 910000, loss: 60.664497\n",
      "----\n",
      " ntwnwaa etu oeMrin nitnh e wt eefi hhsr roi' o, hve httHYl  ' ihtoft utu b  atir t e aphn autl Ttod  \n",
      "----\n",
      "iter 920000, loss: 61.159028\n",
      "----\n",
      " nll;eetrdbsrsgnc,ostTAdcdeefaunr ojo h iiseign huilmaeee'  or.isslue a evsamnt?k e mst te bctwtuh ti \n",
      "----\n",
      "iter 930000, loss: 61.288491\n",
      "----\n",
      " ieawo h ise nsCkky-h'l  iecvnnretfhoybihsaeTSu,ie ueae.o h  neeasteeyuode aaemnwi,v tmneThmstlevdhus \n",
      "----\n",
      "iter 940000, loss: 61.033130\n",
      "----\n",
      " rss o  mntytgru tes iee ls nto hminiia ee rmrht upron wt oe odete,h  hda sretAtibigMNrt ene:Teoyl'or \n",
      "----\n",
      "iter 950000, loss: 61.836345\n",
      "----\n",
      "  eeitr h  hv n atiae   hlrinftu!e rprusr;h  dtttnn mrhu evreaua eew o,rcelioS hu,rhn eaenevrsl,tedhr \n",
      "----\n",
      "iter 960000, loss: 62.160691\n",
      "----\n",
      " chsaeih o'dtno cui,ii u eec hmns bni e n has orosortecc hin  rc teeuci oedlhv t alveFt oyuc  h  oths \n",
      "----\n",
      "iter 970000, loss: 62.473232\n",
      "----\n",
      " rsevd ih epty?i o ta ne ih sntC tal oedbouo' aeisebns h sd an ai fa orc adrse i da,th cnng st yuks o \n",
      "----\n",
      "iter 980000, loss: 62.524375\n",
      "----\n",
      "   i sy h rp ip cu!e o elirlegtuuOrsev tertise aWdtua in Frc ig nt haesvb'rRcstapik  ed ig:o h ru.Wca \n",
      "----\n",
      "iter 990000, loss: 62.222087\n",
      "----\n",
      " r,h'h rtrsganpatt oesrl i,ou lvn,svTiik ikeyteorssgdow tosfiN,u;s  l tetatioc oreosoiw r  aev uFro   \n",
      "----\n",
      "iter 1000000, loss: 62.533332\n"
     ]
    }
   ],
   "source": [
    "hidden_size = 100  # size of hidden layer of neurons\n",
    "seq_length = 25 # number of steps to unroll the RNN for / 한번에 처리할 문자 개수\n",
    "learning_rate = 1e-1\n",
    "vocab_size = len(char2idx)\n",
    "# 가중치 정의\n",
    "Wxh = np.random.randn(4 * hidden_size, vocab_size) * 0.01  \n",
    "Whh = np.random.randn(4 * hidden_size, hidden_size) * 0.01 \n",
    "Why = np.random.randn(vocab_size, hidden_size) * 0.01  \n",
    "bh = np.zeros((4 * hidden_size, 1))  \n",
    "by = np.zeros((vocab_size, 1))  \n",
    "loss_list = []\n",
    "n, p = 0, 0\n",
    "mWxh, mWhh, mWhy = np.zeros_like(Wxh), np.zeros_like(Whh), np.zeros_like(Why)\n",
    "mbh, mby = np.zeros_like(bh), np.zeros_like(by)  \n",
    "smooth_loss = -np.log(1.0 / vocab_size) * seq_length \n",
    "while n < 1000001:\n",
    "    # Epoch가 시작이 되면 RNN값 초기화\n",
    "    if p + seq_length + 1 >= len(data) or n == 0:\n",
    "        hprev = np.zeros((hidden_size, 1))  # RNN 값 초기화\n",
    "        cprev = np.zeros((hidden_size, 1))\n",
    "        p = 0  # go from start of data\n",
    "    input = [ch for ch in inputs[p:p + seq_length]] # 25글자씩을 index로 바꿈\n",
    "    target = [ch for ch in outputs[p + 1:p + seq_length + 1]] # 바로 다음 글자가 target이 됨\n",
    "\n",
    "    # 10000번마다 예측\n",
    "    if n % 10000 == 0:\n",
    "        sample_ix = sample(hprev, cprev, inputs[0], 100)\n",
    "        txt = ''.join(idx2char[ix] for ix in sample_ix)\n",
    "        print('----\\n %s \\n----' % (txt,))\n",
    "\n",
    "    # loss 및 역전파를 통한 각 가중치의 미분값 계산\n",
    "    loss, dWxh, dWhh, dWhy, dbh, dby, hprev, cprev = lossFun(input, target, hprev, cprev)\n",
    "    loss_list.append(loss)\n",
    "    smooth_loss = smooth_loss * 0.999 + loss * 0.001\n",
    "    if n % 10000 == 0:\n",
    "        print('iter %d, loss: %f' % (n, smooth_loss)) # print progress\n",
    "\n",
    "    # Adagrad를 통한 weight 갱신\n",
    "    for param, dparam, mem in zip([Wxh, Whh, Why, bh, by],\n",
    "                                  [dWxh, dWhh, dWhy, dbh, dby],\n",
    "                                  [mWxh, mWhh, mWhy, mbh, mby]):\n",
    "        mem += dparam * dparam\n",
    "        param += -learning_rate * dparam / np.sqrt(mem + 1e-8)  # adagrad update\n",
    "\n",
    "    p += seq_length\n",
    "    n += 1 "
   ]
  },
  {
   "cell_type": "code",
   "execution_count": 17,
   "metadata": {
    "colab": {},
    "colab_type": "code",
    "id": "3zJZ_-yLQwSS"
   },
   "outputs": [
    {
     "data": {
      "image/png": "[encoded data removed]",
      "text/plain": [
       "<Figure size 720x720 with 1 Axes>"
      ]
     },
     "metadata": {
      "needs_background": "light"
     },
     "output_type": "display_data"
    }
   ],
   "source": [
    "import matplotlib.pyplot as plt\n",
    "plt.figure(figsize = (10,10))\n",
    "plt.plot(loss_list)\n",
    "plt.show()"
   ]
  },
  {
   "cell_type": "markdown",
   "metadata": {},
   "source": [
    "## Reference\n",
    "1. https://ratsgo.github.io/natural%20language%20processing/2017/03/09/rnnlstm/\n",
    "2. [기계학습] 오일석. 2018\n",
    "3. https://github.com/ratsgo/models/tree/master/LSTM_numpy\n",
    "4. cs231n lecture 10. https://www.youtube.com/watch?v=6niqTuYFZLQ"
   ]
  },
  {
   "cell_type": "code",
   "execution_count": null,
   "metadata": {},
   "outputs": [],
   "source": []
  }
 ],
 "metadata": {
  "colab": {
   "collapsed_sections": [],
   "name": "RNN.ipynb",
   "provenance": []
  },
  "kernelspec": {
   "display_name": "Python 3",
   "language": "python",
   "name": "python3"
  },
  "language_info": {
   "codemirror_mode": {
    "name": "ipython",
    "version": 3
   },
   "file_extension": ".py",
   "mimetype": "text/x-python",
   "name": "python",
   "nbconvert_exporter": "python",
   "pygments_lexer": "ipython3",
   "version": "3.6.8"
  }
 },
 "nbformat": 4,
 "nbformat_minor": 4
}
