{
  "nbformat": 4,
  "nbformat_minor": 0,
  "metadata": {
    "kernelspec": {
      "display_name": "Python 3",
      "language": "python",
      "name": "python3"
    },
    "language_info": {
      "codemirror_mode": {
        "name": "ipython",
        "version": 3
      },
      "file_extension": ".py",
      "mimetype": "text/x-python",
      "name": "python",
      "nbconvert_exporter": "python",
      "pygments_lexer": "ipython3",
      "version": "3.7.6"
    },
    "colab": {
      "name": "0721_wschoi_momentum.ipynb",
      "provenance": [],
      "include_colab_link": true
    }
  },
  "cells": [
    {
      "cell_type": "markdown",
      "metadata": {
        "id": "view-in-github",
        "colab_type": "text"
      },
      "source": [
        "<a href=\"https://colab.research.google.com/github/Intelligence-Engineering-LAB-KU/Seminar/blob/master/summer_2020/0721_wschoi_momentum.ipynb\" target=\"_parent\"><img src=\"https://colab.research.google.com/assets/colab-badge.svg\" alt=\"Open In Colab\"/></a>"
      ]
    },
    {
      "cell_type": "code",
      "metadata": {
        "id": "z5K0BprxycWk",
        "colab_type": "code",
        "colab": {}
      },
      "source": [
        "import IPython.display as display\n",
        "import random\n",
        "import time\n",
        "import matplotlib.pyplot as plt\n",
        "\n",
        "\n",
        "def plot_function (f):\n",
        "    x = [0.1*x for x in range(0,  80)]\n",
        "    plt.plot(x, [f(x) for x in x])\n",
        "\n",
        "def plot_point (f, x):\n",
        "    plt.plot(x,f(x), '.')\n"
      ],
      "execution_count": 1,
      "outputs": []
    },
    {
      "cell_type": "code",
      "metadata": {
        "scrolled": false,
        "id": "pdbDGW_uycWs",
        "colab_type": "code",
        "colab": {
          "base_uri": "https://localhost:8080/",
          "height": 303
        },
        "outputId": "a94217c3-3b49-46ed-e3ae-92c4a882d7a0"
      },
      "source": [
        "def f(x):\n",
        "#    return 0.25*x*x*x*x - 4*x*x*x +22*x*x - 48*x -10 -2*(x*x-4*x+8) + (x*x-4*x+4)\n",
        "    return 0.25*x*x*x*x - 4*x*x*x +21*x*x - 44*x \n",
        "\n",
        "def df(x):\n",
        "    return x*x*x - 12*x*x + 42*x - 44\n",
        "\n",
        "learning_rate = 0.01\n",
        "\n",
        "x = 1\n",
        "\n",
        "print('epoch: ', 0)    \n",
        "print('f(x):',f(x))\n",
        "plot_function(f)\n",
        "plt.show()\n",
        "time.sleep(3)\n",
        "display.clear_output(3)\n",
        "\n",
        "x_trace = [x]\n",
        "y_trace = [f(x)]\n",
        "for i in range(50):\n",
        "    \n",
        "    x -= learning_rate * df(x)\n",
        "    \n",
        "    x_trace.append(x)\n",
        "    y_trace.append(f(x))\n",
        "\n",
        "    print('epoch: ', i)    \n",
        "    print('f(x):',f(x))\n",
        "    plot_function(f)\n",
        "    plt.plot(x_trace, y_trace)\n",
        "    plot_point(f, x)\n",
        "    plt.show()\n",
        "    display.clear_output(0.1)\n",
        "    time.sleep(0.1)     "
      ],
      "execution_count": 2,
      "outputs": [
        {
          "output_type": "stream",
          "text": [
            "epoch:  49\n",
            "f(x): -31.998605693186377\n"
          ],
          "name": "stdout"
        },
        {
          "output_type": "display_data",
          "data": {
            "image/png": "[encoded data removed]",
            "text/plain": [
              "<Figure size 432x288 with 1 Axes>"
            ]
          },
          "metadata": {
            "tags": [],
            "needs_background": "light"
          }
        }
      ]
    },
    {
      "cell_type": "code",
      "metadata": {
        "id": "7OaFJwYGycWx",
        "colab_type": "code",
        "colab": {
          "base_uri": "https://localhost:8080/",
          "height": 303
        },
        "outputId": "92de3a3c-7ad9-43dd-e709-03047812227d"
      },
      "source": [
        "def f(x):\n",
        "#    return 0.25*x*x*x*x - 4*x*x*x +22*x*x - 48*x -10 -2*(x*x-4*x+8) + (x*x-4*x+4)\n",
        "    return 0.25*x*x*x*x - 4*x*x*x +21*x*x - 44*x \n",
        "\n",
        "def df(x):\n",
        "    return x*x*x - 12*x*x + 42*x - 44\n",
        "\n",
        "learning_rate = 0.01\n",
        "\n",
        "x = 1\n",
        "\n",
        "print('epoch: ', 0)    \n",
        "print('f(x):',f(x))\n",
        "plot_function(f)\n",
        "plt.show()\n",
        "time.sleep(3)\n",
        "display.clear_output(3)\n",
        "\n",
        "x_trace = [x]\n",
        "y_trace = [f(x)]\n",
        "\n",
        "m = 0\n",
        "gamma = 0.99\n",
        "\n",
        "for i in range(50):\n",
        "    \n",
        "  \n",
        "    m = learning_rate * df(x) + gamma*m\n",
        "    x -= m\n",
        "  \n",
        "    \n",
        "    x_trace.append(x)\n",
        "    y_trace.append(f(x))\n",
        "\n",
        "    print('epoch: ', i)    \n",
        "    print('f(x):',f(x))\n",
        "    plot_function(f)\n",
        "    plt.plot(x_trace, y_trace)\n",
        "    plot_point(f, x)\n",
        "    plt.show()\n",
        "    display.clear_output(0.1)\n",
        "    time.sleep(0.1)    "
      ],
      "execution_count": 3,
      "outputs": [
        {
          "output_type": "stream",
          "text": [
            "epoch:  49\n",
            "f(x): -51.16510668105241\n"
          ],
          "name": "stdout"
        },
        {
          "output_type": "display_data",
          "data": {
            "image/png": "[encoded data removed]",
            "text/plain": [
              "<Figure size 432x288 with 1 Axes>"
            ]
          },
          "metadata": {
            "tags": [],
            "needs_background": "light"
          }
        }
      ]
    },
    {
      "cell_type": "code",
      "metadata": {
        "id": "_PqtbLaMycW1",
        "colab_type": "code",
        "colab": {
          "base_uri": "https://localhost:8080/",
          "height": 284
        },
        "outputId": "4a336756-7ae7-48e5-ed33-fcf151c7f48a"
      },
      "source": [
        "def f(x):\n",
        "    return x*x\n",
        "\n",
        "def df(x):\n",
        "    return 2*x\n",
        "\n",
        "def line(x):\n",
        "    return 10*x -25\n",
        "\n",
        "plot_function(f)\n",
        "plt.plot(range(2,9), [line(x) for x in range(2,9)])"
      ],
      "execution_count": 4,
      "outputs": [
        {
          "output_type": "execute_result",
          "data": {
            "text/plain": [
              "[<matplotlib.lines.Line2D at 0x7f1860351208>]"
            ]
          },
          "metadata": {
            "tags": []
          },
          "execution_count": 4
        },
        {
          "output_type": "display_data",
          "data": {
            "image/png": "[encoded data removed]",
            "text/plain": [
              "<Figure size 432x288 with 1 Axes>"
            ]
          },
          "metadata": {
            "tags": [],
            "needs_background": "light"
          }
        }
      ]
    },
    {
      "cell_type": "code",
      "metadata": {
        "id": "h7xJQLPyycW-",
        "colab_type": "code",
        "colab": {}
      },
      "source": [
        "def sigmoid(x):\n",
        "    return 1/(1+math.exp(-x))\n",
        "\n",
        "def d_sigmoid(x):\n",
        "    return sigmoid(x)*(1-sigmoid(x))\n",
        "\n",
        "def relu(x):\n",
        "    return max(0, x)\n",
        "\n",
        "def d_relu(x):\n",
        "    return 1 if x>= 0 else 0\n",
        "\n",
        "def leaky_relu(x):\n",
        "    return max(0.2*x, x)\n",
        "\n",
        "def d_leaky_relu(x):\n",
        "    return 1 if x>=0 else 0.1\n",
        "\n",
        "def elu(x):\n",
        "    return x if x >= 0 else 0.4*(math.exp(x)-1)\n",
        "\n",
        "def d_elu(x):\n",
        "    return 1 if x >= 0 else 0.5DD*math.exp(x)\n",
        "\n",
        "def plot_function (f):\n",
        "    x = [0.01*x for x in range(-200, 201)]\n",
        "    plt.plot(x, [f(x) for x in x])"
      ],
      "execution_count": null,
      "outputs": []
    },
    {
      "cell_type": "code",
      "metadata": {
        "id": "ocfGBxF-ycXC",
        "colab_type": "code",
        "colab": {}
      },
      "source": [
        "plot_function(elu)\n",
        "plot_function(d_elu)"
      ],
      "execution_count": null,
      "outputs": []
    }
  ]
}