{
 "cells": [
  {
   "cell_type": "markdown",
   "metadata": {},
   "source": [
    "# paper"
   ]
  },
  {
   "cell_type": "markdown",
   "metadata": {},
   "source": [
    "# [Generative Adversarial Nets](https://papers.nips.cc/paper/5423-generative-adversarial-nets.pdf)\n",
    "\n",
    "**Ian J. Goodfellow∗\n",
    ", Jean Pouget-Abadie†\n",
    ", Mehdi Mirza, Bing Xu, David Warde-Farley,\n",
    "Sherjil Ozair‡\n",
    ", Aaron Courville, Yoshua Bengio§**\n",
    "\n",
    "Departement d’informatique et de recherche op ´ erationnelle ´\n",
    "Universite de Montr ´ eal ´\n",
    "Montreal, QC H3C 3J7 \n",
    "\n"
   ]
  },
  {
   "cell_type": "code",
   "execution_count": 1,
   "metadata": {},
   "outputs": [
    {
     "name": "stdout",
     "output_type": "stream",
     "text": [
      "2.0.0\n"
     ]
    }
   ],
   "source": [
    "import math\n",
    "import numpy as np\n",
    "import matplotlib.pyplot as plt\n",
    "import tensorflow as tf\n",
    "print(tf.__version__)"
   ]
  },
  {
   "cell_type": "markdown",
   "metadata": {},
   "source": [
    "# 목차\n",
    "\n",
    "---\n",
    "\n",
    "### - 1. GAN 기본 개념\n",
    "### - 2. Objective function \n",
    "### - 3. 학습과정\n",
    "### - 4. Theoretical result\n",
    "\n",
    "---"
   ]
  },
  {
   "cell_type": "markdown",
   "metadata": {},
   "source": [
    "# 1 GAN 기본 개념\n",
    "\n",
    "### 1.1 GAN은 생성모델을 만드는 프레임워크이다.\n",
    "\n",
    "- 생성모델(G)과 분류모델(D)의 적대적 관계(adversarial process)를 이용한다.\n",
    "\n",
    "- 생성모델(G)는 데이터 분포(data distribution)을 생성한다.\n",
    "\n",
    "- 분류모델(D)는 샘플이 G로부터 왔는지, 데이터로부터 왔는지 분류한다. \n",
    "\n",
    "- G는 D의 실수를 maximize 하는 방향으로 학습하고, D는 실수를 minimize하도록 학습한다. (minmax game)\n",
    "\n",
    "### 1.2 Counterfeiters and Police\n",
    "\n",
    "논문에서 G는 위조범(Counterfeiters), D는 경찰(Police)로 비유하여 설명한다.\n",
    "\n",
    "위조범은 경찰에게 걸리지 않고, 가짜를 만들기 위해 노력할 것이고, 경찰은 그 가짜를 구별하기 위해 노력할 것이다. 이 경쟁을 통해 둘다 그 일을 잘하게 될것이고, 위조범이 구별할 수 없는 가짜를 만들어 낼 때까지 계속될 것이다.\n",
    "\n",
    "\n",
    "### 1.3 GAN의 구조\n",
    "\n",
    "GAN 프레임워크는 다음과 같이 표현할 수 있다.\n",
    "\n",
    "![GAN 구조](img/03.png)\n",
    "\n",
    "먼저 z가 Generator를 통과(forward propagation)하며 sample을 만들어 낸다. 이때 논문에서는 z값을 random하게 만들어 사용하였다. 또한 sample의 크기는 학습 데이터(x)의 크기와 동일하다.\n",
    "\n",
    "만들어진 sample과 데이터(x) Discriminator를 통과하여 분류된다.\n",
    "\n",
    "Generator와 Discriminator는 둘다 multilayer perceptron 모델이다. 따라서 backkpropagation과 dropout 알고리즘으로 학습 될 수 있다.\n"
   ]
  },
  {
   "cell_type": "markdown",
   "metadata": {},
   "source": [
    "# 2 Objective function\n",
    "---\n",
    "### 2.0 용어 정리\n",
    "- $x$ : 데이터\n",
    "- $z$ : Input noise\n",
    "- $p$ : 분포(distribution)\n",
    "    - $p_g(x) $ : x에 대한 g의 분포\n",
    "    - $p_{data}(x) $ x의 분포\n",
    "    - $p_z(z) $ 노이즈에 대한 분포\n",
    "\n",
    "\n",
    "- $G$ : Generator,  $G(z;\\theta_g)$ \n",
    "    - $ \\theta_g $ : G의 파라미터\n",
    "    \n",
    "    \n",
    "- $D$ : Discriminator, $D(x;\\theta_d)$\n",
    "     - $ \\theta_d $ : D의 파라미터\n",
    "---\n",
    "\n"
   ]
  },
  {
   "cell_type": "markdown",
   "metadata": {},
   "source": [
    "### 2.1 Value function\n",
    "$G(z;\\theta_g)$의 결과는 공간 데이터가 나올 것이고, $D(x;\\theta_d)$는 하나의 스칼라 값이 나올 것이다.\n",
    "\n",
    "$D$는 판별을 잘하는 방향으로 학습해야 되므로, correct label(True, False)의 확률을 maximize 하는 방향이 될 것이고, $G$는 minimize 하는 방향으로 학습 될 것이다.\n",
    "\n",
    "$D,G$ 에 대한 가치함수(value function) $V(G,D)$는 다음과 같다.\n",
    "\n",
    "\n",
    "![value_function](img/01.png)\n",
    "\n",
    "---\n",
    "\n",
    "### 2.2 Value function 에 대한 유도\n",
    "\n",
    "위의 value function을 보면 cross entropy 수식과 유사한 형태를 보인다. 따라서 위 value function을 보다 이해해 보고자, 기본적인 cross entropy로 부터 유도해 보았다.\n",
    "\n",
    "- `Binary Cross entropy`는 다음과 같이 정리된다.<br>\n",
    "$$ y log(\\hat{y}) + (1-y)log(1-\\hat{y})$$\n",
    "    - $y$ : real label , 0 or 1\n",
    "    - $\\hat{y}$ : predict 값, [0,1]\n",
    "\n",
    "\n",
    "위 식을 Discriminator에 적용하면, x가 들어간 경우와, G(z)가 들어간 경우 두가지로 나누어 볼 수 있다.\n",
    "\n",
    "- **1) input : x 인 경우**\n",
    "\n",
    "    - input 이 x 일때, $y=1$ 이고, $\\hat{y} = D(x)$ 이다. 이 경우의 Cross entropy는 다음과 같다.\n",
    "$$ log(D(x)) $$\n",
    "    \n",
    "\n",
    "- **2) input : G(z)인 경우**\n",
    "\n",
    "    - input 이 G(z) 일때, $y=0$ 이고, $\\hat{y} = D(G(z))$ 이므로 Cross entropy는 다음과 같다.\n",
    "$$ log(1 - D( G(z) ) ) $$\n",
    "\n",
    "\n",
    "1)과 2)를 합치면 위의 Value function의 오른쪽 수식이 나오게 된다.\n",
    "\n",
    "---"
   ]
  },
  {
   "cell_type": "markdown",
   "metadata": {},
   "source": [
    "### 2.3 Value function 으로 본 해석\n",
    "\n",
    "**D의 입장**에서 생각해 볼 때, 잘 동작하는 D의 value function은 0 이 된다.\n",
    "(D(x)=1, D(G(z)) = 0 이므로) \n",
    "\n",
    "반대로 잘 동작하지 못하는 D의 경우 value function은 -$\\infty$ (D(x)=0, D(G(z))=1 )가 된다.\n",
    "\n",
    "따라서 **D의 입장에서는 Value function을 maximize 하는 방향**으로 학습하여야 한다.\n",
    "\n",
    "위와 마찬가지로 G의 입장에서 생각해볼 때, D를 잘 속이는 G는 D(G(z)) = 1 이 되어야 하므로 value funtion을 작게 만든다. 그러므로 **G는 value function을 minimize 하는 방향**이 되어야 한다.\n",
    "\n",
    "따라서 $\\min\\limits_G \\max\\limits_D V(D,G) $ 로 표현 할 수 있다.\n",
    "\n",
    "---"
   ]
  },
  {
   "cell_type": "markdown",
   "metadata": {},
   "source": [
    "# 3 학습과정\n",
    "### 3.1 학습 과정\n",
    "\n",
    "논문에 있는, 학습과정을 잘 보여주는 이미지.\n",
    "\n",
    "![Figure 1](img/02.png)\n",
    "<center>논문의에 있는 figure 1 사진</center>\n",
    "\n",
    "- (a) : 처음 시작할 때. $p_g$ 가 $p_{data}$와 전혀 다르게 생긴 것을 확인 할 수 있다.\n",
    "- (b) : (a) 상태에서 $D$가 학습 하였을 때. $p_d$가 좀 더 smooth 하고 잘 구별하는 distribution이 만들어 진다.\n",
    "- (c) : (b)에서 $G$가 학습 ($D$가 잘 구별하지 못하는 방향으로) 한 상태. $p_g$ 와 $p_{data}$ 가 좀더 가까워 진다.\n",
    "- (d) : 위 과정을 반복한다면 최종적으로 $p_g$ = $p_{data}$ 가 되어 $D$가 둘을 전혀 구별하지 못하는 상태. 즉 $D(x) = \\frac{1}{2}$ 이 된다.\n",
    "\n",
    "학습을 할 때, $D$는 k-step 많큼 학습을 하고, $G$는 1-step 많큼 학습을 한다. 이는 inner loop에서 $D$가 완전히 학습되지 않고 optimal solution 근처에 있게 하고, 그로인해 $G$가 천천히 학습될 수 있게 하는 효과를 가진다.(논문에서는 k=1 을 사용했다고 한다.) \n",
    "\n",
    "또한 논문에서, 실전에서 G의 목적함수 $log(1-D(G(z))$를 minimize 하는 대신 $log(D(G(z))$를 maximize 하게 한다. 학습 초기에 기반 데이터가 다르므로 G는 빠르게 학습되지 못하고, D는 잘 학습되는 경향이 있다. 그로인해 G의 학습이 잘 되지 못하는데, $log(D(G(z))$를 사용하면 학습 초기에 더 강한 gradients를 발생 시킬 수 있어 위의 문제를 어느정도 방지 할 수 있다.\n"
   ]
  },
  {
   "cell_type": "code",
   "execution_count": 2,
   "metadata": {},
   "outputs": [
    {
     "data": {
      "image/png": "[encoded data removed]",
      "text/plain": [
       "<Figure size 720x360 with 2 Axes>"
      ]
     },
     "metadata": {
      "needs_background": "light"
     },
     "output_type": "display_data"
    }
   ],
   "source": [
    "delta = 1e-5\n",
    "x = np.linspace(0+delta,1-delta,1000)\n",
    "fig = plt.figure(figsize=(10,5))\n",
    "\n",
    "ax1 = fig.add_subplot(121)\n",
    "ax1.plot(x,np.log(x))\n",
    "ax1.title.set_text('y=log(x)')\n",
    "\n",
    "ax2 = fig.add_subplot(122)\n",
    "ax2.plot(x,np.log(1-x))\n",
    "ax2.title.set_text('y=log(1-x)')\n",
    "\n",
    "plt.show()\n"
   ]
  },
  {
   "cell_type": "markdown",
   "metadata": {},
   "source": [
    "---\n",
    "위의 내용으로 학습과정을 정리하면 다음과 같이 정리 할 수 있다.\n",
    "![gan_minibatch](img/04.png)\n",
    "---"
   ]
  },
  {
   "cell_type": "markdown",
   "metadata": {},
   "source": [
    "# 4. Theoretical Results\n",
    "\n",
    "### 4.1 Global Optimality of $p_g = p_{data}$\n",
    "\n",
    "Global Optimal 이 $p_g = p_{data}$ 임을 증명은 아래의 과정을 거친다.\n",
    "\n",
    "1) G가 fixed 되어 있을 때, optimal D의 값을 찾는다.\n",
    "$$D^*_G(x) = \\frac{p_{data}(x)}{p_{data}(x) + p_g(x)} $$\n",
    "\n",
    "\n",
    "2) 1에서 구한 D의 값으로, $V(G,D)$의 $\\min\\limits_G$값이 $p_g = p_{data}$ 일 때를 확인한다.\n",
    "- 논문에서는 $p_g = p_{data}$ 를 가질 때, $V(G,D)=-log(4)$를 가지고, 이 값이 $min$값임을 보여 증명한다. \n",
    "\n",
    "---\n",
    "    \n",
    "![pg=pdata](img/06.png)\n",
    "\n",
    "---\n",
    "\n"
   ]
  },
  {
   "cell_type": "markdown",
   "metadata": {},
   "source": [
    "### 4.1.1) Proposition 1.\n",
    "\n",
    "**a)** Value function을 전개 하면 다음과 같다.\n",
    "\n",
    "$\n",
    "\\begin{align}\n",
    " \\ V(G,D) &= \\int_x p_{data}(x) logD(x)dx + \\int_z p_z(z) log(1-D(g(z)))dz\n",
    "\\\\        &= \\int_x \\Bigl( p_{data}(x) logD(x) + p_g(x)log(1-D(x)) \\Bigl) dx\n",
    "\\end{align}\n",
    "$\n",
    " \n",
    "**b)** 여기서 두번째 식은 $alog(y)+blog(1-y)$ 형태이다. \n",
    "\n",
    "$f(y) = alog(y) + b log(1-y)$에서 $a,b$가 0이 아닌 실수($(a,b) \\in \\mathbb R^2 \\backslash \\{0,0\\}$ )이고, [0,1] 구간일 때, $ y=\\frac{a}{a+b} $에서 최대값을 가진다.\n",
    "    \n",
    "이는 간단한 미분 계산이다. $alog(y) + b log(1-y)$는 convex(위로 볼록)한 형태를 가지므로, 미분값이 0인 곳이 max point 이다.\n",
    "    \n",
    "$\n",
    "\\begin{align}\n",
    " \\ f(y)\\prime &= \\frac{1}{10} \\bigl( \\frac{a}{y} - \\frac{b}{1-y} \\bigl) = 0\n",
    " \\\\           &= \\frac{a-(a+b)y}{y(1-y)} = 0\n",
    " \\\\ \\therefore y = \\frac{a}{a+b}\n",
    "\\end{align}\n",
    "$\n",
    "    \n",
    "**c)** b의 식을 a에 적용하면 \n",
    "$$\n",
    "\\begin{align}\n",
    " \\ D^*_G(x) = \\frac{p_{data}(x)}{p_{data}(x) + p_g(x)}\n",
    "\\end{align}\n",
    "$$\n",
    "\n",
    "$Supp(p_{data}) \\bigcup Supp(p_g)$ 이외의 범위는 논의 할 필요가 없다..."
   ]
  },
  {
   "cell_type": "markdown",
   "metadata": {},
   "source": [
    "### 4.1.2) Theorem 1.\n",
    "위에서 $D$가 maxmize 되었을 때의 값을 찾았으므로, 이번에는 $D$가 maximize 되었다($D^*$)고 생각하고 $\\min\\limits_G V(G,D^*)$일 때를 생각한다.\n",
    "\n",
    "**a)** $C(G) = \\max\\limits_D V(G,D) = V(G,D^*)$ 라고 할 때, $C(G)$를 다시 전개하면\n",
    "\n",
    "$\\begin{align}\n",
    " \\ C(G) &= \\mathbb E_{x \\sim p_{data}} [logD^*_G(x)] + \\mathbb E_{z \\sim p_z}[log(1-D^*_G(G(z)))]\n",
    "\\\\      &= \\mathbb E_{x \\sim p_{data}} [logD^*_G(x) ] + \\mathbb E_{x \\sim p_g}[log(1-D^*_G(x))]\n",
    "\\\\      &= \\mathbb E_{x \\sim p_{data}} [log \\frac{p_{data}(x)}{p_{data}(x) + p_g(x)}]\n",
    "           + \\mathbb E_{x \\sim p_{g}}[log \\frac{p_g(x)}{p_{data}(x)+p_g(x)}]\n",
    "\\end{align}$\n",
    "<br><br>\n",
    "\n",
    "**b)** $p_g = p_{data}$ 일 때, C(G)의 값은 $-log(4)$ 를 가진다.\n",
    "\n",
    "이를 이용하여 역으로 C(G)의 최소값이 $-log(4)$임을 보이면, $p_g = p_{data}$일 때가 최소점임을 알 수 있다.\n",
    "\n",
    "$\\begin{align}\n",
    " \\ C(G)&=-log(4)+log(4)+C(G)\n",
    "\\\\     &= -log(4) + log(4)+ \\mathbb E_{x \\sim p_{data}} [log \\frac{p_{data}(x)}{p_{data}(x) + p_g(x)}]\n",
    "           + \\mathbb E_{x \\sim p_{g}}[log \\frac{p_g(x)}{p_{data}(x)+p_g(x)}]\n",
    "\\\\     &= -log(4) + \\mathbb E_{x \\sim p_{data}} [log \\frac{p_{data}(x)}{p_{data}(x) + p_g(x)}] + log(2)\n",
    "           + \\mathbb E_{x \\sim p_{g}}[log \\frac{p_g(x)}{p_{data}(x)+p_g(x)}] +log(2)\n",
    "\\\\     &= -log(4) + \\mathbb E_{x \\sim p_{data}} [log \\frac{2p_{data}(x)}{p_{data}(x) + p_g(x)}]\n",
    "           + \\mathbb E_{x \\sim p_{g}}[log \\frac{2p_g(x)}{p_{data}(x)+p_g(x)}]\n",
    "\\\\\n",
    "\\\\     &= -log(4) + KL \\Bigl( p_{data}|| \\frac{p_{data} + p_g}{22} \\Bigl) \n",
    "                 + KL \\Bigl( p_{g}|| \\frac{p_{data} + p_g}{22} \\Bigl)\n",
    "\\\\\n",
    "\\\\     &= -log(4) + 2 JSD(p_{data} || p_q)\n",
    "\\end{align}$\n",
    "\n",
    "---\n",
    "\n",
    "여기서 KL(Kullback_leibler divergence)에 대해 알아보면. \n",
    "[Wiki -ko](https://ko.wikipedia.org/wiki/%EC%BF%A8%EB%B0%B1-%EB%9D%BC%EC%9D%B4%EB%B8%94%EB%9F%AC_%EB%B0%9C%EC%82%B0),\n",
    "[Wiki-en](https://en.wikipedia.org/wiki/Kullback%E2%80%93Leibler_divergence)\n",
    "\n",
    "- KL은 두 확률분포의 차이를 계산하는 데 사용하는 함수이다. 상대 엔트로피 등으로 불린다.\n",
    "\n",
    "- $D_{KL}(P||Q) = H(P,Q) - H(P)$로 부터 유도할 수 있다. 여기서 $H$는 cross entropy를 뜻한다.\n",
    "\n",
    "- 연속확률변수일 경우 $D_{KL}(P||Q) = \\int_x p(x)log\\frac{p(x)}{q(x)}dx$ 로 정의 된다. (p,q는 확률 밀도 함수)\n",
    "\n",
    "- 비대칭으로, 두 값의 위치를 바꾸면 함수값도 달라진다. 따라서 이 함수는 거리 함수가 아니다.\n",
    "\n",
    "- 항상 0 이상의 값을 가진다. (non-negative) \n",
    "\n",
    "마찬가지로 JSD(Jensen-Shannon Divergence)에 대해 잠깐 알아보면\n",
    "\n",
    "- KL의 Unsymmetric 한 성질을 때문에 사용\n",
    "\n",
    "- $JSD(P||Q) = \\frac{1}{2} D_{KL} ( p|| \\frac{p+q}{2} ) + \\frac{1}{2} D_{KL} (q || \\frac{p+q}{2})$ 로 정의 된다.\n",
    "\n",
    "- $ 0 \\leq JSD(P||Q) \\leq 1$ 값을 가진다.\n",
    "\n",
    "---\n",
    "\n",
    "**c)** $C(G)$는 -log(4) 이상의 값을 가지므로, $p_g = p_{data}$ 일 때, global minimum 값을 가진다.\n",
    "\n",
    "따라서 Generative model은 완벽하게 data distribution을 구현해 낼 수 있다.\n",
    "\n",
    "---"
   ]
  },
  {
   "cell_type": "markdown",
   "metadata": {},
   "source": [
    "## 4.2 Convergence of Algorithm 1\n",
    "\n",
    "- G와 D가 학습할 것이 남은 상황에서, Algorithm1의 step을 따를때, 학습된 G와 p_g가 D를 optimium 값으로 유도 할 수 있다. 라는 것에 대한 증명.\n",
    "\n",
    "- 교차학습하는 것이 optimum으로 이끌 수 있는가의 증명?\n",
    "\n",
    "---\n",
    "\n",
    "![Convergence of algorithm](img/07.png)\n",
    "\n",
    "---\n",
    "\n",
    "step에서 충분히 학습된 $p_g$에 대한 $V(G,D)$를 $U(p_g,D)$라고 할 때, $U(p_g,D)$ 역시 convex하다. \n",
    "\n",
    "`The subderivatives of a supremum of convex functions include the derivative of the function at the point where the maximum is attained`\n",
    "\n",
    "볼록함수에서, supremum에 있는 subderivatives는 maximum에 도달한 derivative를 포함한다. 그러므로 몇번의 업데이트를 통해서 $p_g = p_{data}$로 수렴 할 수 있다.\n",
    "\n",
    "\n",
    "---\n",
    "\n",
    "실제로는, $p_g$ 대신 $\\theta_g$를 학습 시키는 것이므로, 이론과 정확히 일치 하지 않는 허점이 있다. 하지만 실제 실험에서 좋은 성능을 내는것으로 보아, 이론적인 허점이 있음에도 불구하고 충분히 함리적인 모델이라고 말하고 있다.\n"
   ]
  },
  {
   "cell_type": "markdown",
   "metadata": {},
   "source": [
    "# Ref\n",
    "\n",
    "\n",
    "https://en.wikipedia.org/wiki/Kullback%E2%80%93Leibler_divergence\n",
    "\n",
    "https://ko.wikipedia.org/wiki/%EC%BF%A8%EB%B0%B1-%EB%9D%BC%EC%9D%B4%EB%B8%94%EB%9F%AC_%EB%B0%9C%EC%82%B0\n",
    "\n",
    "https://en.wikipedia.org/wiki/Jensen%E2%80%93Shannon_divergence\n",
    "\n",
    "https://hyeongminlee.github.io/post/prob002_kld_jsd/"
   ]
  }
 ],
 "metadata": {
  "kernelspec": {
   "display_name": "Python 3",
   "language": "python",
   "name": "python3"
  },
  "language_info": {
   "codemirror_mode": {
    "name": "ipython",
    "version": 3
   },
   "file_extension": ".py",
   "mimetype": "text/x-python",
   "name": "python",
   "nbconvert_exporter": "python",
   "pygments_lexer": "ipython3",
   "version": "3.7.7"
  }
 },
 "nbformat": 4,
 "nbformat_minor": 4
}
