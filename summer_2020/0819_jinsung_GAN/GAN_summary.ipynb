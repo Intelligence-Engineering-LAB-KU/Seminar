{
 "cells": [
  {
   "cell_type": "markdown",
   "metadata": {},
   "source": [
    "# paper"
   ]
  },
  {
   "cell_type": "markdown",
   "metadata": {},
   "source": [
    "# [Generative Adversarial Nets](https://papers.nips.cc/paper/5423-generative-adversarial-nets.pdf)\n",
    "\n",
    "**Ian J. Goodfellow∗\n",
    ", Jean Pouget-Abadie†\n",
    ", Mehdi Mirza, Bing Xu, David Warde-Farley,\n",
    "Sherjil Ozair‡\n",
    ", Aaron Courville, Yoshua Bengio§**\n",
    "\n",
    "Departement d’informatique et de recherche op ´ erationnelle ´\n",
    "Universite de Montr ´ eal ´\n",
    "Montreal, QC H3C 3J7 \n",
    "\n"
   ]
  },
  {
   "cell_type": "code",
   "execution_count": 1,
   "metadata": {},
   "outputs": [
    {
     "name": "stdout",
     "output_type": "stream",
     "text": [
      "2.0.0\n"
     ]
    }
   ],
   "source": [
    "import math\n",
    "import numpy as np\n",
    "import matplotlib.pyplot as plt\n",
    "import tensorflow as tf\n",
    "print(tf.__version__)"
   ]
  },
  {
   "cell_type": "markdown",
   "metadata": {},
   "source": [
    "# 목차\n",
    "\n",
    "---\n",
    "\n",
    "### - 1. GAN 기본 개념\n",
    "### - 2. Objective function \n",
    "### - 3. 학습과정\n",
    "### - 4. Theoretical result\n",
    "\n",
    "---"
   ]
  },
  {
   "cell_type": "markdown",
   "metadata": {},
   "source": [
    "# 1 GAN 기본 개념\n",
    "\n",
    "### 1.1 GAN은 생성모델을 만드는 프레임워크이다.\n",
    "\n",
    "- 생성모델(G)과 분류모델(D)의 적대적 관계(adversarial process)를 이용한다.\n",
    "\n",
    "- 생성모델(G)는 데이터 분포(data distribution)을 생성한다.\n",
    "\n",
    "- 분류모델(D)는 샘플이 G로부터 왔는지, 데이터로부터 왔는지 분류한다. \n",
    "\n",
    "- G는 D의 실수를 maximize 하는 방향으로 학습하고, D는 실수를 minimize하도록 학습한다. (minmax game)\n",
    "\n",
    "### 1.2 Counterfeiters and Police\n",
    "\n",
    "논문에서 G는 위조범(Counterfeiters), D는 경찰(Police)로 비유하여 설명한다.\n",
    "\n",
    "위조범은 경찰에게 걸리지 않고, 가짜를 만들기 위해 노력할 것이고, 경찰은 그 가짜를 구별하기 위해 노력할 것이다. 이 경쟁을 통해 둘다 그 일을 잘하게 될것이고, 위조범이 구별할 수 없는 가짜를 만들어 낼 때까지 계속될 것이다.\n",
    "\n",
    "\n",
    "### 1.3 GAN의 구조\n",
    "\n",
    "GAN 프레임워크는 다음과 같이 표현할 수 있다.\n",
    "\n",
    "![GAN 구조](img/03.png)\n",
    "\n",
    "먼저 z가 Generator를 통과(forward propagation)하며 sample을 만들어 낸다. 이때 논문에서는 z값을 random하게 만들어 사용하였다. 또한 sample의 크기는 학습 데이터(x)의 크기와 동일하다.\n",
    "\n",
    "만들어진 sample과 데이터(x) Discriminator를 통과하여 분류된다.\n",
    "\n",
    "Generator와 Discriminator는 둘다 multilayer perceptron 모델이다. 따라서 backkpropagation과 dropout 알고리즘으로 학습 될 수 있다.\n"
   ]
  },
  {
   "cell_type": "markdown",
   "metadata": {},
   "source": [
    "# 2 Objective function\n",
    "---\n",
    "### 2.0 용어 정리\n",
    "- $x$ : 데이터\n",
    "- $z$ : Input noise\n",
    "- $p$ : 분포(distribution)\n",
    "    - $p_g(x) $ : x에 대한 g의 분포\n",
    "    - $p_{data}(x) $ x의 분포\n",
    "    - $p_z(z) $ 노이즈에 대한 분포\n",
    "\n",
    "\n",
    "- $G$ : Generator,  $G(z;\\theta_g)$ \n",
    "    - $ \\theta_g $ : G의 파라미터\n",
    "    \n",
    "    \n",
    "- $D$ : Discriminator, $D(x;\\theta_d)$\n",
    "     - $ \\theta_d $ : D의 파라미터\n",
    "---\n",
    "\n"
   ]
  },
  {
   "cell_type": "markdown",
   "metadata": {},
   "source": [
    "### 2.1 Value function\n",
    "$G(z;\\theta_g)$의 결과는 공간 데이터가 나올 것이고, $D(x;\\theta_d)$는 하나의 스칼라 값이 나올 것이다.\n",
    "\n",
    "$D$는 판별을 잘하는 방향으로 학습해야 되므로, correct label(True, False)의 확률을 maximize 하는 방향이 될 것이고, $G$는 minimize 하는 방향으로 학습 될 것이다.\n",
    "\n",
    "$D,G$ 에 대한 가치함수(value function) $V(G,D)$는 다음과 같다.\n",
    "\n",
    "\n",
    "![value_function](img/01.png)\n",
    "\n",
    "---\n",
    "\n",
    "### 2.2 Value function 에 대한 유도\n",
    "\n",
    "위의 value function을 보면 cross entropy 수식과 유사한 형태를 보인다. 따라서 위 value function을 보다 이해해 보고자, 기본적인 cross entropy로 부터 유도해 보았다.\n",
    "\n",
    "- `Binary Cross entropy`는 다음과 같이 정리된다.<br>\n",
    "$$ y log(\\hat{y}) + (1-y)log(1-\\hat{y})$$\n",
    "    - $y$ : real label , 0 or 1\n",
    "    - $\\hat{y}$ : predict 값, [0,1]\n",
    "\n",
    "\n",
    "위 식을 Discriminator에 적용하면, x가 들어간 경우와, G(z)가 들어간 경우 두가지로 나누어 볼 수 있다.\n",
    "\n",
    "- **1) input : x 인 경우**\n",
    "\n",
    "    - input 이 x 일때, $y=1$ 이고, $\\hat{y} = D(x)$ 이다. 이 경우의 Cross entropy는 다음과 같다.\n",
    "$$ log(D(x)) $$\n",
    "    \n",
    "\n",
    "- **2) input : G(z)인 경우**\n",
    "\n",
    "    - input 이 G(z) 일때, $y=0$ 이고, $\\hat{y} = D(G(z))$ 이므로 Cross entropy는 다음과 같다.\n",
    "$$ log(1 - D( G(z) ) ) $$\n",
    "\n",
    "\n",
    "1)과 2)를 합치면 위의 Value function의 오른쪽 수식이 나오게 된다.\n",
    "\n",
    "---"
   ]
  },
  {
   "cell_type": "markdown",
   "metadata": {},
   "source": [
    "### 2.3 Value function 으로 본 해석\n",
    "\n",
    "**D의 입장**에서 생각해 볼 때, 잘 동작하는 D의 value function은 0 이 된다.\n",
    "(D(x)=1, D(G(z)) = 0 이므로) \n",
    "\n",
    "반대로 잘 동작하지 못하는 D의 경우 value function은 -$\\infty$ (D(x)=0, D(G(z))=1 )가 된다.\n",
    "\n",
    "따라서 **D의 입장에서는 Value function을 maximize 하는 방향**으로 학습하여야 한다.\n",
    "\n",
    "위와 마찬가지로 G의 입장에서 생각해볼 때, D를 잘 속이는 G는 D(G(z)) = 1 이 되어야 하므로 value funtion을 작게 만든다. 그러므로 **G는 value function을 minimize 하는 방향**이 되어야 한다.\n",
    "\n",
    "따라서 $\\min\\limits_G \\max\\limits_D V(D,G) $ 로 표현 할 수 있다.\n",
    "\n",
    "---"
   ]
  },
  {
   "cell_type": "markdown",
   "metadata": {},
   "source": [
    "# 3 학습과정\n",
    "### 3.1 학습 과정\n",
    "\n",
    "논문에 있는, 학습과정을 잘 보여주는 이미지.\n",
    "\n",
    "![Figure 1](img/02.png)\n",
    "<center>논문의에 있는 figure 1 사진</center>\n",
    "\n",
    "- (a) : 처음 시작할 때. $p_g$ 가 $p_{data}$와 전혀 다르게 생긴 것을 확인 할 수 있다.\n",
    "- (b) : (a) 상태에서 $D$가 학습 하였을 때. $p_d$가 좀 더 smooth 하고 잘 구별하는 distribution이 만들어 진다.\n",
    "- (c) : (b)에서 $G$가 학습 ($D$가 잘 구별하지 못하는 방향으로) 한 상태. $p_g$ 와 $p_{data}$ 가 좀더 가까워 진다.\n",
    "- (d) : 위 과정을 반복한다면 최종적으로 $p_g$ = $p_{data}$ 가 되어 $D$가 둘을 전혀 구별하지 못하는 상태. 즉 $D(x) = \\frac{1}{2}$ 이 된다.\n",
    "\n",
    "학습을 할 때, $D$는 k-step 많큼 학습을 하고, $G$는 1-step 많큼 학습을 한다. 이는 inner loop에서 $D$가 완전히 학습되지 않고 optimal solution 근처에 있게 하고, 그로인해 $G$가 천천히 학습될 수 있게 하는 효과를 가진다.(논문에서는 k=1 을 사용했다고 한다.) \n",
    "\n",
    "또한 논문에서, 실전에서 G의 목적함수 $log(1-D(G(z))$를 minimize 하는 대신 $log(D(G(z))$를 maximize 하게 한다. 학습 초기에 기반 데이터가 다르므로 G는 빠르게 학습되지 못하고, D는 잘 학습되는 경향이 있다. 그로인해 G의 학습이 잘 되지 못하는데, $log(D(G(z))$를 사용하면 학습 초기에 더 강한 gradients를 발생 시킬 수 있어 위의 문제를 어느정도 방지 할 수 있다.\n"
   ]
  },
  {
   "cell_type": "code",
   "execution_count": 2,
   "metadata": {},
   "outputs": [
    {
     "data": {
      "image/png": "[encoded data removed]",
      "text/plain": [
       "<Figure size 720x360 with 2 Axes>"
      ]
     },
     "metadata": {
      "needs_background": "light"
     },
     "output_type": "display_data"
    }
   ],
   "source": [
    "delta = 1e-5\n",
    "x = np.linspace(0+delta,1-delta,1000)\n",
    "fig = plt.figure(figsize=(10,5))\n",
    "\n",
    "ax1 = fig.add_subplot(121)\n",
    "ax1.plot(x,np.log(x))\n",
    "ax1.title.set_text('y=log(x)')\n",
    "\n",
    "ax2 = fig.add_subplot(122)\n",
    "ax2.plot(x,np.log(1-x))\n",
    "ax2.title.set_text('y=log(1-x)')\n",
    "\n",
    "plt.show()\n"
   ]
  },
  {
   "cell_type": "markdown",
   "metadata": {},
   "source": [
    "---\n",
    "위의 내용으로 학습과정을 정리하면 다음과 같이 정리 할 수 있다.\n",
    "![gan_minibatch](img/04.png)\n",
    "---"
   ]
  },
  {
   "cell_type": "markdown",
   "metadata": {},
   "source": [
    "# 4. Theoretical Results\n",
    "\n",
    "### 4.1 Global Optimality of $p_g = p_{data}$\n",
    "\n",
    "Global Optimal 이 $p_g = p_{data}$ 임을 증명은 아래의 과정을 거친다.\n",
    "\n",
    "1) G가 fixed 되어 있을 때, optimal D의 값을 찾는다.\n",
    "$$D^*_G(x) = \\frac{p_{data}(x)}{p_{data}(x) + p_g(x)} $$\n",
    "\n",
    "\n",
    "2) 1에서 구한 D의 값으로, $V(G,D)$의 $\\min\\limits_G$값이 $p_g = p_{data}$ 일 때를 확인한다.\n",
    "- 논문에서는 $p_g = p_{data}$ 를 가질 때, $V(G,D)=-log(4)$를 가지고, 이 값이 $min$값임을 보여 증명한다. \n",
    "\n",
    "---\n",
    "    \n",
    "![pg=pdata](img/06.png)\n",
    "\n",
    "---\n",
    "\n"
   ]
  },
  {
   "cell_type": "markdown",
   "metadata": {},
   "source": [
    "### 4.1.1) Proposition 1.\n",
    "\n",
    "**a)** Value function을 전개 하면 다음과 같다.\n",
    "\n",
    "![08](img/08.png)\n",
    "<!-- $\n",
    "\\begin{align}\n",
    " \\ V(G,D) &= \\int_x p_{data}(x) logD(x)dx + \\int_z p_z(z) log(1-D(g(z)))dz\n",
    "\\\\        &= \\int_x \\Bigl( p_{data}(x) logD(x) + p_g(x)log(1-D(x)) \\Bigl) dx\n",
    "\\end{align}\n",
    "$ -->\n",
    " \n",
    "**b)** 여기서 두번째 식은 $alog(y)+blog(1-y)$ 형태이다. \n",
    "\n",
    "$f(y) = alog(y) + b log(1-y)$에서 $a,b$가 0이 아닌 실수($(a,b) \\in \\mathbb R^2 \\backslash \\{0,0\\}$ )이고, [0,1] 구간일 때, $ y=\\frac{a}{a+b} $에서 최대값을 가진다.\n",
    "    \n",
    "이는 간단한 미분 계산이다. $alog(y) + b log(1-y)$는 convex(위로 볼록)한 형태를 가지므로, 미분값이 0인 곳이 max point 이다.\n",
    "\n",
    "![09](img/09.png)\n",
    "<!-- $\n",
    "\\begin{align}\n",
    " \\ f(y)\\prime &= \\frac{1}{10} \\bigl( \\frac{a}{y} - \\frac{b}{1-y} \\bigl) = 0\n",
    " \\\\           &= \\frac{a-(a+b)y}{y(1-y)} = 0\n",
    " \\\\ \\therefore y = \\frac{a}{a+b}\n",
    "\\end{align}\n",
    "$ -->\n",
    "    \n",
    "**c)** b의 식을 a에 적용하면 \n",
    "$$ D^*_G(x) = \\frac{p_{data}(x)}{p_{data}(x) + p_g(x)}$$\n",
    "\n",
    "$Supp(p_{data}) \\bigcup Supp(p_g)$ 이외의 범위는 논의 할 필요가 없다..."
   ]
  },
  {
   "cell_type": "markdown",
   "metadata": {},
   "source": [
    "### 4.1.2) Theorem 1.\n",
    "위에서 $D$가 maxmize 되었을 때의 값을 찾았으므로, 이번에는 $D$가 maximize 되었다($D^*$)고 생각하고 $\\min\\limits_G V(G,D^*)$일 때를 생각한다.\n",
    "\n",
    "**a)** $C(G) = \\max\\limits_D V(G,D) = V(G,D^*)$ 라고 할 때, $C(G)$를 다시 전개하면\n",
    "\n",
    "![10](img/10.png)\n",
    "<!-- $\\begin{align}\n",
    " \\ C(G) &= \\mathbb E_{x \\sim p_{data}} [logD^*_G(x)] + \\mathbb E_{z \\sim p_z}[log(1-D^*_G(G(z)))]\n",
    "\\\\      &= \\mathbb E_{x \\sim p_{data}} [logD^*_G(x) ] + \\mathbb E_{x \\sim p_g}[log(1-D^*_G(x))]\n",
    "\\\\      &= \\mathbb E_{x \\sim p_{data}} [log \\frac{p_{data}(x)}{p_{data}(x) + p_g(x)}]\n",
    "           + \\mathbb E_{x \\sim p_{g}}[log \\frac{p_g(x)}{p_{data}(x)+p_g(x)}]\n",
    "\\end{align}$ -->\n",
    "<br><br>\n",
    "\n",
    "**b)** $p_g = p_{data}$ 일 때, C(G)의 값은 $-log(4)$ 를 가진다.\n",
    "\n",
    "이를 이용하여 역으로 C(G)의 최소값이 $-log(4)$임을 보이면, $p_g = p_{data}$일 때가 최소점임을 알 수 있다.\n",
    "\n",
    "![11](img/11.png)\n",
    "<!-- $\\begin{align}\n",
    " \\ C(G)&=-log(4)+log(4)+C(G)\n",
    "\\\\     &= -log(4) + log(4)+ \\mathbb E_{x \\sim p_{data}} [log \\frac{p_{data}(x)}{p_{data}(x) + p_g(x)}]\n",
    "           + \\mathbb E_{x \\sim p_{g}}[log \\frac{p_g(x)}{p_{data}(x)+p_g(x)}]\n",
    "\\\\     &= -log(4) + \\mathbb E_{x \\sim p_{data}} [log \\frac{p_{data}(x)}{p_{data}(x) + p_g(x)}] + log(2)\n",
    "           + \\mathbb E_{x \\sim p_{g}}[log \\frac{p_g(x)}{p_{data}(x)+p_g(x)}] +log(2)\n",
    "\\\\     &= -log(4) + \\mathbb E_{x \\sim p_{data}} [log \\frac{2p_{data}(x)}{p_{data}(x) + p_g(x)}]\n",
    "           + \\mathbb E_{x \\sim p_{g}}[log \\frac{2p_g(x)}{p_{data}(x)+p_g(x)}]\n",
    "\\\\\n",
    "\\\\     &= -log(4) + KL \\Bigl( p_{data}|| \\frac{p_{data} + p_g}{22} \\Bigl) \n",
    "                 + KL \\Bigl( p_{g}|| \\frac{p_{data} + p_g}{22} \\Bigl)\n",
    "\\\\\n",
    "\\\\     &= -log(4) + 2 JSD(p_{data} || p_q)\n",
    "\\end{align}$ -->\n",
    "\n",
    "---\n",
    "\n",
    "여기서 KL(Kullback_leibler divergence)에 대해 알아보면. \n",
    "\n",
    "[Wiki-en](https://en.wikipedia.org/wiki/Kullback%E2%80%93Leibler_divergence)\n",
    "\n",
    "- KL은 두 확률분포의 차이를 계산하는 데 사용하는 함수이다. 상대 엔트로피 등으로 불린다.\n",
    "\n",
    "- $D_{KL}(P||Q) = H(P,Q) - H(P)$로 부터 유도할 수 있다. 여기서 $H$는 cross entropy를 뜻한다.\n",
    "\n",
    "- 연속확률변수일 경우 $D_{KL}(P||Q) = \\int_x p(x)log\\frac{p(x)}{q(x)}dx$ 로 정의 된다. (p,q는 확률 밀도 함수)\n",
    "\n",
    "- 비대칭으로, 두 값의 위치를 바꾸면 함수값도 달라진다. 따라서 이 함수는 거리 함수가 아니다.\n",
    "\n",
    "- 항상 0 이상의 값을 가진다. (non-negative) \n",
    "\n",
    "마찬가지로 JSD(Jensen-Shannon Divergence)에 대해 잠깐 알아보면\n",
    "\n",
    "- KL의 Unsymmetric 한 성질을 때문에 사용\n",
    "\n",
    "- $JSD(P||Q) = \\frac{1}{2} D_{KL} ( p|| \\frac{p+q}{2} ) + \\frac{1}{2} D_{KL} (q || \\frac{p+q}{2})$ 로 정의 된다.\n",
    "\n",
    "- $ 0 \\leq JSD(P||Q) \\leq 1$ 값을 가진다.\n",
    "\n",
    "---\n",
    "\n",
    "**c)** $C(G)$는 -log(4) 이상의 값을 가지므로, $p_g = p_{data}$ 일 때, global minimum 값을 가진다.\n",
    "\n",
    "따라서 Generative model은 완벽하게 data distribution을 구현해 낼 수 있다.\n",
    "\n",
    "---"
   ]
  },
  {
   "cell_type": "markdown",
   "metadata": {},
   "source": [
    "## 4.2 Convergence of Algorithm 1\n",
    "\n",
    "- G와 D가 학습할 것이 남은 상황에서, Algorithm1의 step을 따를때, 학습된 G와 p_g가 D를 optimium 값으로 유도 할 수 있다. 라는 것에 대한 증명.\n",
    "\n",
    "- 교차학습하는 것이 optimum으로 이끌 수 있는가의 증명?\n",
    "\n",
    "---\n",
    "\n",
    "![Convergence of algorithm](img/07.png)\n",
    "\n",
    "---\n",
    "\n",
    "step에서 충분히 학습된 $p_g$에 대한 $V(G,D)$를 $U(p_g,D)$라고 할 때, $U(p_g,D)$ 역시 convex하다. \n",
    "\n",
    "`The subderivatives of a supremum of convex functions include the derivative of the function at the point where the maximum is attained`\n",
    "\n",
    "볼록함수에서, supremum에 있는 subderivatives는 maximum에 도달한 derivative를 포함한다. 그러므로 몇번의 업데이트를 통해서 $p_g = p_{data}$로 수렴 할 수 있다.\n",
    "\n",
    "\n",
    "---\n",
    "\n",
    "실제로는, $p_g$ 대신 $\\theta_g$를 학습 시키는 것이므로, 이론과 정확히 일치 하지 않는 허점이 있다. 하지만 실제 실험에서 좋은 성능을 내는것으로 보아, 이론적인 허점이 있음에도 불구하고 충분히 함리적인 모델이라고 말하고 있다.\n"
   ]
  },
  {
   "cell_type": "markdown",
   "metadata": {},
   "source": [
    "---\n",
    "\n",
    "# Code\n",
    "\n",
    "###### 안된다 너무 슬프다."
   ]
  },
  {
   "cell_type": "markdown",
   "metadata": {},
   "source": [
    "## 1. Data"
   ]
  },
  {
   "cell_type": "markdown",
   "metadata": {},
   "source": [
    "### MNIST data set"
   ]
  },
  {
   "cell_type": "code",
   "execution_count": 3,
   "metadata": {},
   "outputs": [
    {
     "name": "stdout",
     "output_type": "stream",
     "text": [
      "(60000, 28, 28)\n",
      "(60000,)\n"
     ]
    }
   ],
   "source": [
    "(train_images, train_labels), (_, _) = tf.keras.datasets.mnist.load_data()\n",
    "print(train_images.shape)\n",
    "print(train_labels.shape)"
   ]
  },
  {
   "cell_type": "code",
   "execution_count": 4,
   "metadata": {},
   "outputs": [
    {
     "name": "stdout",
     "output_type": "stream",
     "text": [
      "(60000, 28, 28)\n",
      "(6131, 28, 28)\n"
     ]
    },
    {
     "data": {
      "image/png": "[encoded data removed]",
      "text/plain": [
       "<Figure size 720x360 with 16 Axes>"
      ]
     },
     "metadata": {
      "needs_background": "light"
     },
     "output_type": "display_data"
    }
   ],
   "source": [
    "(train_images, train_labels), (_, _) = tf.keras.datasets.mnist.load_data()\n",
    "print(train_images.shape)\n",
    "\n",
    "learn_label = 3\n",
    "train_images = train_images[train_labels==learn_label]\n",
    "print(train_images.shape)\n",
    "\n",
    "fig = plt.figure(figsize=(10,5))\n",
    "for i in range(16):\n",
    "        plt.subplot(4,4,i+1)\n",
    "        plt.imshow(train_images[i],cmap='gray')\n",
    "plt.show()"
   ]
  },
  {
   "cell_type": "code",
   "execution_count": 5,
   "metadata": {},
   "outputs": [],
   "source": [
    "train_images = (train_images-127.5)/127.5"
   ]
  },
  {
   "cell_type": "markdown",
   "metadata": {},
   "source": [
    "### create noise"
   ]
  },
  {
   "cell_type": "code",
   "execution_count": 6,
   "metadata": {},
   "outputs": [],
   "source": [
    "def create_noise(batch_size, noise_dim):\n",
    "    return np.random.uniform(low=-1, high=1, size=(batch_size, noise_dim))\n",
    "#     return np.random.normal(size=(batch_size, noise_dim))"
   ]
  },
  {
   "cell_type": "code",
   "execution_count": 7,
   "metadata": {},
   "outputs": [
    {
     "data": {
      "image/png": "[encoded data removed]",
      "text/plain": [
       "<Figure size 432x288 with 1 Axes>"
      ]
     },
     "metadata": {
      "needs_background": "light"
     },
     "output_type": "display_data"
    }
   ],
   "source": [
    "noise = create_noise(32,100)\n",
    "plt.imshow(noise,cmap= 'gray')\n",
    "plt.show()"
   ]
  },
  {
   "cell_type": "markdown",
   "metadata": {},
   "source": [
    "## 2. Model"
   ]
  },
  {
   "cell_type": "markdown",
   "metadata": {},
   "source": [
    "### Fully connected layer"
   ]
  },
  {
   "cell_type": "code",
   "execution_count": 8,
   "metadata": {},
   "outputs": [],
   "source": [
    "def Xavier(size):\n",
    "    return np.random.normal(size = size, scale = np.sqrt(2/(np.sum(size))))\n",
    "\n",
    "class DNN:\n",
    "    def __init__(self, size, **kwargs):\n",
    "        \n",
    "        self.size = size\n",
    "        \n",
    "        self.w = Xavier(size)\n",
    "        self.b = np.zeros(size[-1])\n",
    "        \n",
    "        # for backward\n",
    "        self.cache = None\n",
    "        \n",
    "        # for sgd_momentum\n",
    "        self.w_config = {'v': np.zeros_like(self.w)}\n",
    "        self.b_config = {'v': np.zeros_like(self.b)}\n",
    "        for config in [self.w_config, self.b_config]:\n",
    "            config['lr'] = kwargs.get('lr', 1e-3)\n",
    "            config['m'] = kwargs.get('m', 0.9)\n",
    "        \n",
    "        \n",
    "    def __str__(self):\n",
    "        return \"{size} size fully connect layer\".format(size=self.size)\n",
    "        \n",
    "    def forward(self,x):\n",
    "        out = x.reshape(x.shape[0], -1).dot(self.w) + self.b\n",
    "        self.cache = x\n",
    "        return out\n",
    "        \n",
    "    def backward(self, dout):\n",
    "        x = self.cache\n",
    "        w = self.w\n",
    "        b = self.b\n",
    "        \n",
    "        dx = dout.dot(w.T).reshape(x.shape)\n",
    "        dw = x.reshape(x.shape[0], -1).T.dot(dout)\n",
    "        db = np.sum(dout, axis=0)\n",
    "        \n",
    "        return dx, dw, db    \n",
    "        \n",
    "    def momentum_update(self,dw,db):\n",
    "        \n",
    "        self.w_config['v'] = self.w_config['m'] * self.w_config['v'] - self.w_config['lr'] * dw\n",
    "        self.w = self.w + self.w_config['v']\n",
    "        \n",
    "        self.b_config['v'] = self.b_config['m'] * self.b_config['v'] - self.b_config['lr'] * db\n",
    "        self.b = self.b + self.b_config['v']\n",
    "              "
   ]
  },
  {
   "cell_type": "code",
   "execution_count": 9,
   "metadata": {},
   "outputs": [
    {
     "name": "stdout",
     "output_type": "stream",
     "text": [
      "forward output shape : (3, 4)\n",
      "backward output shape : (3, 5) (5, 4) (4,)\n"
     ]
    }
   ],
   "source": [
    "BATCH_SIZE = 3\n",
    "NOISE_DIM = 5\n",
    "HIDDEN_SIZE = 4\n",
    "\n",
    "d = DNN((NOISE_DIM,HIDDEN_SIZE))\n",
    "noise = create_noise(BATCH_SIZE, NOISE_DIM)\n",
    "out = d.forward(noise)\n",
    "print('forward output shape :',out.shape)\n",
    "\n",
    "dout = create_noise(BATCH_SIZE,HIDDEN_SIZE)\n",
    "dout, dw, db = d.backward(dout)\n",
    "print('backward output shape :',dout.shape, dw.shape, db.shape)"
   ]
  },
  {
   "cell_type": "markdown",
   "metadata": {},
   "source": [
    "### RELU, SIGMOID"
   ]
  },
  {
   "cell_type": "code",
   "execution_count": 10,
   "metadata": {},
   "outputs": [],
   "source": [
    "class RELU:\n",
    "    def __init__(self):\n",
    "        self.cache = None\n",
    "        \n",
    "    def forward(self,x):\n",
    "        out = np.maximum(0,x)\n",
    "        self.cache = x\n",
    "        return out\n",
    "    \n",
    "    def backward(self, dout):\n",
    "        x = self.cache\n",
    "        dx = np.where(x>0, dout, 0)\n",
    "        return dx\n",
    "        \n",
    "class SIGMOID:\n",
    "    def __init__(self):\n",
    "        self.cache = None\n",
    "    \n",
    "    def forward(self, x):\n",
    "        out = 1/(1+np.exp(-x))\n",
    "        self.cache = out\n",
    "        return out\n",
    "    \n",
    "    def backward(self, dout):\n",
    "        out = self.cache\n",
    "        return out*(1-out)*dout"
   ]
  },
  {
   "cell_type": "code",
   "execution_count": 11,
   "metadata": {},
   "outputs": [
    {
     "name": "stdout",
     "output_type": "stream",
     "text": [
      "out\n",
      "[[-5.         -4.09090909 -3.18181818 -2.27272727]\n",
      " [-1.36363636 -0.45454545  0.45454545  1.36363636]\n",
      " [ 2.27272727  3.18181818  4.09090909  5.        ]]\n",
      "relu_out\n",
      "[[0.         0.         0.         0.        ]\n",
      " [0.         0.         0.45454545 1.36363636]\n",
      " [2.27272727 3.18181818 4.09090909 5.        ]]\n",
      "\n",
      "[[-0.14162187  0.25871128 -0.15342149 -0.47483014]\n",
      " [-0.65898086 -0.6648865   0.71679597 -0.19581201]\n",
      " [ 0.13852886 -0.36390803 -0.31059965  0.28898069]]\n",
      "[[ 0.          0.          0.          0.        ]\n",
      " [ 0.          0.          0.71679597 -0.19581201]\n",
      " [ 0.13852886 -0.36390803 -0.31059965  0.28898069]]\n"
     ]
    }
   ],
   "source": [
    "re = RELU()\n",
    "out = np.linspace(-5,5,num=12).reshape(3,4)\n",
    "re_out = re.forward(out)\n",
    "print('out')\n",
    "print(out)\n",
    "print('relu_out')\n",
    "print(re_out)\n",
    "print()\n",
    "\n",
    "dout = create_noise(3,4)\n",
    "re_dout = re.backward(dout)\n",
    "print(dout)\n",
    "print(re_dout)\n"
   ]
  },
  {
   "cell_type": "markdown",
   "metadata": {},
   "source": [
    "## Dropout"
   ]
  },
  {
   "cell_type": "code",
   "execution_count": 12,
   "metadata": {},
   "outputs": [],
   "source": [
    "class DROPOUT:\n",
    "    def __init__(self,p=0.5):\n",
    "        self.p = p\n",
    "        self.mask = None\n",
    "        \n",
    "    def forward(self,x, train=True):\n",
    "\n",
    "        p = self.p\n",
    "        mask = None\n",
    "        out = None\n",
    "        \n",
    "        if train:\n",
    "            mask = (np.random.rand(*x.shape) <p)/p\n",
    "            out = mask*x\n",
    "            \n",
    "        else:\n",
    "            out = x\n",
    "            \n",
    "        self.mask = mask\n",
    "        return out.astype(x.dtype, copy=False)\n",
    "    \n",
    "    def backward(self,dout,train=True):\n",
    "        \n",
    "        mask = self.mask\n",
    "        if train:\n",
    "            dx = mask * dout\n",
    "        else:\n",
    "            dx = dout\n",
    "        return dx"
   ]
  },
  {
   "cell_type": "markdown",
   "metadata": {},
   "source": [
    "## G,D"
   ]
  },
  {
   "cell_type": "code",
   "execution_count": 13,
   "metadata": {},
   "outputs": [],
   "source": [
    "class Generator:\n",
    "    def __init__(self,noise_size,output_size):\n",
    "        self.d1 = DNN((noise_size,output_size//4))\n",
    "        self.re1 = RELU()\n",
    "        self.d2 = DNN((output_size//4,output_size))\n",
    "        \n",
    "    def forward(self,x):\n",
    "        out = self.d1.forward(x)\n",
    "        out = self.re1.forward(out)\n",
    "        out = self.d2.forward(out)\n",
    "        return out\n",
    "    \n",
    "    def backward(self,dout,train=True):\n",
    "        \n",
    "        dout, dw2, db2 = self.d2.backward(dout)\n",
    "        dout = self.re1.backward(dout)\n",
    "        dout, dw1, db1 = self.d1.backward(dout)\n",
    "        \n",
    "        if train:\n",
    "            self.d2.momentum_update(dw2,db2)\n",
    "            self.d1.momentum_update(dw1,db1)\n",
    "        \n",
    "class Discriminator:\n",
    "    def __init__(self, x_size):\n",
    "        self.d1 = DNN((x_size,256))\n",
    "        self.dr1 = DROPOUT()\n",
    "        self.re1 = RELU()\n",
    "        self.d2 = DNN((256, 128))\n",
    "        self.dr2 = DROPOUT()\n",
    "        self.re2 = RELU()\n",
    "        self.d3 = DNN((128,1))\n",
    "        self.sig3 = SIGMOID()\n",
    "        \n",
    "    def forward(self,x, train=True):\n",
    "        out = self.d1.forward(x)\n",
    "        out = self.dr1.forward(out,train=train)\n",
    "        out = self.re1.forward(out)\n",
    "        out = self.d2.forward(out)\n",
    "        out = self.dr2.forward(out,train=train)\n",
    "        out = self.re2.forward(out)\n",
    "        out = self.d3.forward(out)\n",
    "        out = self.sig3.forward(out)\n",
    "        return out\n",
    "\n",
    "    def backward(self,dout, train=True):\n",
    "\n",
    "        dout = self.sig3.backward(dout)\n",
    "        dout,dw3,db3 = self.d3.backward(dout)\n",
    "        dout = self.re2.backward(dout)\n",
    "        dout = self.dr2.backward(dout,train)\n",
    "        dout,dw2,db2 = self.d2.backward(dout)\n",
    "        dout = self.re1.backward(dout)\n",
    "        dout = self.dr1.backward(dout,train)\n",
    "        dout,dw1,db1 = self.d1.backward(dout)\n",
    "        \n",
    "        if train:\n",
    "            self.d3.momentum_update(dw3,db3)\n",
    "            self.d2.momentum_update(dw2,db2)\n",
    "            self.d1.momentum_update(dw1,db1)\n",
    "        \n",
    "        return dout"
   ]
  },
  {
   "cell_type": "code",
   "execution_count": 14,
   "metadata": {},
   "outputs": [],
   "source": [
    "def binary_cross_entropy_loss(x, y):\n",
    "    loss = -np.mean(y*np.log(x) + (1-y)*np.log(1-x))    \n",
    "    dx = -y/(x+1e-8) + (1-y)/(1-x+1e-8)\n",
    "    return loss, dx\n",
    "\n",
    "def G_loss(fake_output):\n",
    "    loss = np.mean(-np.log(fake_output))\n",
    "    grad = -1./(fake_output+1e-8)\n",
    "    return loss, grad\n",
    "\n",
    "def D_loss(real_output, fake_output):\n",
    "    # max_D_loss = log(R) + log(1-F)\n",
    "    # min_D_loss = - log(R)  -log(1-F)\n",
    "    # deriva ... = - 1/R + 1/(1-F)\n",
    "    loss = np.mean(-np.log(real_output) - np.log(1-fake_output))\n",
    "    grad = -1./(real_output+1e-8) + 1./(1-fake_output+1e-8)\n",
    "    return loss, grad\n",
    "    "
   ]
  },
  {
   "cell_type": "code",
   "execution_count": 17,
   "metadata": {},
   "outputs": [
    {
     "name": "stdout",
     "output_type": "stream",
     "text": [
      "0 done 1.7051512465457306 0.4850822076824101\n"
     ]
    },
    {
     "data": {
      "image/png": "[encoded data removed]",
      "text/plain": [
       "<Figure size 216x216 with 1 Axes>"
      ]
     },
     "metadata": {
      "needs_background": "light"
     },
     "output_type": "display_data"
    },
    {
     "name": "stdout",
     "output_type": "stream",
     "text": [
      "1 done 1.474646203585229 0.5978702959594767\n",
      "2 done 1.4180778094946755 0.6485555294514609\n",
      "3 done 1.3934045784139557 0.6662889153493299\n",
      "4 done 1.3961741413854094 0.6635274558458787\n",
      "5 done 1.3690503512153436 0.6832853496799461\n",
      "6 done 1.3776947740582404 0.6760505370358553\n",
      "7 done 1.378011032330947 0.6798496163206418\n",
      "8 done 1.4012768109127154 0.6671406538835498\n",
      "9 done 1.3799970942627713 0.6796018021791445\n",
      "10 done 1.3770828827990431 0.6785321489794329\n",
      "11 done 1.3862878892638282 0.6749596156234008\n",
      "12 done 1.407706685257415 0.6623865273425623\n",
      "13 done 1.3941293067392424 0.6701526585033986\n",
      "14 done 1.3942373771264729 0.6720774985842044\n",
      "15 done 1.3949816690603203 0.6696449502012505\n",
      "16 done 1.3862328142716376 0.6743727649460718\n",
      "17 done 1.394764389039136 0.6702625368015599\n",
      "18 done 1.3908945159536013 0.6713552432589776\n",
      "19 done 1.3715488938510516 0.6811075145486785\n",
      "20 done 1.376318494789695 0.6793873162551028\n",
      "21 done 1.3786873306714196 0.6791663626108116\n",
      "22 done 1.3835758792266544 0.6772672173142864\n",
      "23 done 1.3838219854816316 0.6749353192337756\n",
      "24 done 1.382167103262394 0.6761765725478468\n",
      "25 done 1.389836535973173 0.6729944088144119\n",
      "26 done 1.3921527174815524 0.6720161377333913\n",
      "27 done 1.395427099608838 0.6716182247023209\n",
      "28 done 1.4005868164788324 0.6675515583916746\n",
      "29 done 1.394803202825504 0.671471080707397\n",
      "30 done 1.389717502299566 0.6763621905734973\n",
      "31 done 1.3923098753009415 0.6727322299513572\n",
      "32 done 1.3923686716728403 0.6719829323876003\n",
      "33 done 1.3850276617744801 0.6759443557375961\n",
      "34 done 1.3847826692306027 0.6767924132108364\n",
      "35 done 1.380549122409408 0.6800700188487283\n",
      "36 done 1.3704610293203212 0.6862993644551048\n",
      "37 done 1.379475287444666 0.6792951275714888\n",
      "38 done 1.384083411079763 0.6778222698186903\n",
      "39 done 1.3765432002808833 0.6825769849459072\n",
      "40 done 1.38126501121383 0.6792062063547442\n",
      "41 done 1.3874912406273519 0.6751527982727544\n",
      "42 done 1.3790874659668757 0.6804724610143296\n",
      "43 done 1.3728290306551392 0.6842019599312569\n",
      "44 done 1.3755119290147337 0.6804027897234625\n",
      "45 done 1.386212359851818 0.6765169617963386\n",
      "46 done 1.3905446775679475 0.6746805174795333\n",
      "47 done 1.375688109785065 0.6839308263972177\n",
      "48 done 1.382240014710246 0.6801623717499844\n",
      "49 done 1.364211266473566 0.6905546810665192\n",
      "50 done 1.367536266079855 0.6891918508468707\n",
      "51 done 1.374988938328161 0.68254221807603\n",
      "52 done 1.3737450794332995 0.6850698896282855\n",
      "53 done 1.3776507030585403 0.6815289319751833\n",
      "54 done 1.375642822417314 0.6838410280571393\n",
      "55 done 1.381959946204172 0.6810171060328397\n",
      "56 done 1.3837218291638225 0.6791548711672762\n",
      "57 done 1.3807457552438982 0.680576890201412\n",
      "58 done 1.376515699852663 0.682841105600675\n",
      "59 done 1.3819390912069651 0.6805144896175548\n",
      "60 done 1.3810065496725021 0.6813678248755043\n",
      "61 done 1.3853054874079986 0.6783151314981223\n",
      "62 done 1.3897058141890992 0.6762084217566244\n",
      "63 done 1.389646175425165 0.6775196660917071\n",
      "64 done 1.391414372329381 0.6751563514078662\n",
      "65 done 1.3983909342984993 0.6703726289878449\n",
      "66 done 1.4074958558049355 0.668250041498839\n",
      "67 done 1.4121618198676997 0.6631877936244277\n",
      "68 done 1.405022759637636 0.6669851301865996\n",
      "69 done 1.4148056143688195 0.6632881687851198\n",
      "70 done 1.40461588377095 0.6718265776892476\n",
      "71 done 1.413049396445206 0.6624001787935826\n",
      "72 done 1.4104948669649828 0.6639616206170867\n",
      "73 done 1.4148894646729662 0.6628065131447691\n",
      "74 done 1.4111443028240107 0.6649883746159744\n",
      "75 done 1.4137407169101162 0.6639738040065591\n",
      "76 done 1.407197913405319 0.6671410522089342\n",
      "77 done 1.399447098390578 0.670407126719534\n",
      "78 done 1.4004216777380287 0.6699751283377944\n",
      "79 done 1.4021955906197374 0.6710323507724576\n",
      "80 done 1.4025007982034643 0.6703824668530532\n",
      "81 done 1.4008674027513384 0.6706263672000881\n",
      "82 done 1.4058741585121726 0.6687982881972141\n",
      "83 done 1.4027969437335062 0.6715164833262465\n",
      "84 done 1.3973556924748194 0.6731187590126869\n",
      "85 done 1.4070509540588325 0.6683013111043007\n",
      "86 done 1.4114662110642406 0.6668064318817422\n",
      "87 done 1.4119762575191992 0.6640459168737752\n",
      "88 done 1.4161015933878092 0.6635122824935658\n",
      "89 done 1.416699941157239 0.6623226878103561\n",
      "90 done 1.408266719718011 0.6670633031271345\n",
      "91 done 1.4126054107207513 0.6675132760847223\n",
      "92 done 1.4117231556926522 0.6652612908027442\n",
      "93 done 1.403697865108862 0.669548722700849\n",
      "94 done 1.3983873060621732 0.6715001126431696\n",
      "95 done 1.3982018248543604 0.6737294209920822\n",
      "96 done 1.3965517551777966 0.67226313218102\n",
      "97 done 1.4018331320950048 0.6699152499165928\n",
      "98 done 1.3942217600500784 0.6723715039987531\n",
      "99 done 1.3985686952385326 0.6727295500778201\n",
      "100 done 1.3985771569661778 0.6712912999211739\n"
     ]
    },
    {
     "data": {
      "image/png": "[encoded data removed]",
      "text/plain": [
       "<Figure size 216x216 with 1 Axes>"
      ]
     },
     "metadata": {
      "needs_background": "light"
     },
     "output_type": "display_data"
    },
    {
     "name": "stdout",
     "output_type": "stream",
     "text": [
      "101 done 1.3994081899473039 0.6709720921878285\n",
      "102 done 1.4034056715898098 0.6703691835740008\n",
      "103 done 1.4002040775718128 0.6724136057011232\n",
      "104 done 1.3982046287664547 0.6707001483961699\n",
      "105 done 1.3946253445870702 0.6760814791032357\n",
      "106 done 1.4082783859109251 0.6667788740080645\n",
      "107 done 1.4069614846215928 0.6680131842165953\n",
      "108 done 1.417401716573944 0.6649616674569739\n",
      "109 done 1.4136045694086814 0.6626720113353154\n",
      "110 done 1.4093148196574594 0.6682711829376631\n",
      "111 done 1.402139102782311 0.6701352547777568\n",
      "112 done 1.4041617669984032 0.670357930931167\n",
      "113 done 1.4048685512731633 0.6688636262399198\n",
      "114 done 1.4035049983339656 0.6699218518022357\n",
      "115 done 1.400400186033716 0.6719540223852902\n",
      "116 done 1.4043099369083631 0.6698242453511952\n",
      "117 done 1.3997063203651003 0.6716886243294405\n",
      "118 done 1.401192378619215 0.6712137198195746\n",
      "119 done 1.4056261794222271 0.6689726670310172\n",
      "120 done 1.4039214573607646 0.6700214447572589\n",
      "121 done 1.4034332864835242 0.6704589637953637\n",
      "122 done 1.408721492026865 0.6667015659611866\n",
      "123 done 1.4029884572988507 0.6712513524725989\n",
      "124 done 1.4002127862220586 0.6719420937210401\n",
      "125 done 1.408261343420864 0.6678489041840289\n",
      "126 done 1.395673430590551 0.675157170039722\n",
      "127 done 1.3915911296136712 0.6779164885791372\n",
      "128 done 1.3941600012046267 0.6744002947120555\n",
      "129 done 1.3955505543643492 0.6742133653932186\n",
      "130 done 1.389030469652439 0.6768924420032665\n",
      "131 done 1.3933552540695093 0.6749649154044085\n",
      "132 done 1.3868991005816775 0.6796476265164478\n",
      "133 done 1.3913750874421698 0.6772454692933673\n",
      "134 done 1.3989246499563284 0.6734166915797962\n",
      "135 done 1.3950363943878938 0.6774431079341561\n",
      "136 done 1.3978039473219954 0.6722490169571864\n",
      "137 done 1.403897528406193 0.6697110398796564\n",
      "138 done 1.4057130112987921 0.6692906714156401\n",
      "139 done 1.4065409228393253 0.6687225957805607\n",
      "140 done 1.4109686922815594 0.6670877423620903\n",
      "141 done 1.4094602078044602 0.6648753832431774\n",
      "142 done 1.4044910476296901 0.6710856713267752\n",
      "143 done 1.4006747525158172 0.6734421965683058\n",
      "144 done 1.4065470923431547 0.6715595899482724\n",
      "145 done 1.4061658048715868 0.6683216394100473\n",
      "146 done 1.402382856007784 0.6716394373042597\n",
      "147 done 1.4017870569836854 0.6707813268353346\n",
      "148 done 1.4035874624045095 0.6707705495131315\n",
      "149 done 1.406723789968527 0.6697811940324344\n",
      "150 done 1.4102665940990413 0.6670781834751419\n",
      "151 done 1.4078553468026236 0.6699624282317964\n",
      "152 done 1.4043192349277824 0.6700009923159821\n",
      "153 done 1.409478107721937 0.667688751822286\n",
      "154 done 1.4052325239076229 0.6711286734365991\n",
      "155 done 1.404634431699477 0.6677940119040242\n",
      "156 done 1.4060454095663333 0.6702573992661464\n",
      "157 done 1.4108284895075813 0.6654203911073268\n",
      "158 done 1.4078767943163828 0.6695326528423157\n",
      "159 done 1.4095666425704507 0.6698020747129604\n",
      "160 done 1.4112103478146638 0.6658140686675066\n",
      "161 done 1.4115906390082635 0.6673196662018482\n",
      "162 done 1.4135545598622 0.6648871823895333\n",
      "163 done 1.4142085772512112 0.6667945418091906\n",
      "164 done 1.4147889965701534 0.6639548834599764\n",
      "165 done 1.4173352930771064 0.6639916230746323\n",
      "166 done 1.410503769746445 0.6671951743397321\n",
      "167 done 1.4159104895622787 0.6645805128193348\n",
      "168 done 1.4120478586053753 0.6662419851645442\n",
      "169 done 1.41450114203595 0.6647872699658756\n",
      "170 done 1.4060219655605677 0.6701423578319692\n",
      "171 done 1.4050523283639005 0.6700427651446694\n",
      "172 done 1.4085452164708572 0.6672715562375908\n",
      "173 done 1.4016557590376557 0.6730698829297399\n",
      "174 done 1.409401363218082 0.6657660166033895\n",
      "175 done 1.4049255654698685 0.6698665827458595\n",
      "176 done 1.4066358246445052 0.6708627489712742\n",
      "177 done 1.4118837486524018 0.667136459736094\n",
      "178 done 1.4038037292482237 0.6728449282325644\n",
      "179 done 1.399742005872367 0.6721592538241281\n",
      "180 done 1.4024208279027415 0.6730950152863193\n",
      "181 done 1.4083796222363503 0.6696495869184603\n",
      "182 done 1.4084406052265634 0.669145258368711\n",
      "183 done 1.4120350494829519 0.6678259792124343\n",
      "184 done 1.4090639089230015 0.6673154930635682\n",
      "185 done 1.4055046331070966 0.6718574196012835\n",
      "186 done 1.4021926146228434 0.6732260470470012\n",
      "187 done 1.4090008522609525 0.66881449569928\n",
      "188 done 1.4068660483688853 0.6697220611737262\n",
      "189 done 1.4054684388703436 0.6706586850444095\n",
      "190 done 1.408937320291948 0.667600953448255\n",
      "191 done 1.4030040693120347 0.6717499020531422\n",
      "192 done 1.4072526260384426 0.6678897207509368\n",
      "193 done 1.4082593636781289 0.6693916744781753\n",
      "194 done 1.4043798242408612 0.6700558191260946\n",
      "195 done 1.4021034183823788 0.6732163731479212\n",
      "196 done 1.3998413907923875 0.672979561047788\n",
      "197 done 1.3976133795661652 0.6739788800112306\n",
      "198 done 1.3945471107454792 0.6757993018763183\n",
      "199 done 1.391943848124674 0.6774565889645334\n",
      "200 done 1.3963707921740276 0.6738843292728959\n"
     ]
    },
    {
     "data": {
      "image/png": "[encoded data removed]",
      "text/plain": [
       "<Figure size 216x216 with 1 Axes>"
      ]
     },
     "metadata": {
      "needs_background": "light"
     },
     "output_type": "display_data"
    },
    {
     "name": "stdout",
     "output_type": "stream",
     "text": [
      "201 done 1.3948245192300694 0.6779967892598137\n",
      "202 done 1.390305847977817 0.6775770789459978\n",
      "203 done 1.3869644721294743 0.6809878620967299\n",
      "204 done 1.3903377557014964 0.6768113330660145\n",
      "205 done 1.389831319675239 0.6783208588085953\n",
      "206 done 1.3865013769911996 0.6807948879456491\n",
      "207 done 1.3913174149423322 0.6776422065760919\n",
      "208 done 1.388266741997569 0.6800356227507489\n",
      "209 done 1.3923734423936343 0.6787612956966439\n",
      "210 done 1.393377639716732 0.6773660683150878\n",
      "211 done 1.389406474688002 0.6765009587385405\n",
      "212 done 1.3890225021698113 0.6800605187076626\n",
      "213 done 1.3867330667791153 0.6806607703700516\n",
      "214 done 1.3858653736445818 0.6813177629705891\n",
      "215 done 1.3883352637613837 0.6786191998199673\n",
      "216 done 1.3973082878218215 0.6761073048041386\n",
      "217 done 1.3932957809598747 0.675092288962978\n",
      "218 done 1.3993093746734988 0.6744946144952684\n",
      "219 done 1.3974041653300238 0.6754851034845571\n",
      "220 done 1.401283500942139 0.6731395435390007\n",
      "221 done 1.3964130025604662 0.6738508066950646\n",
      "222 done 1.3969764709769283 0.6739488787648779\n",
      "223 done 1.3940507593015394 0.6774091462223052\n",
      "224 done 1.3986673781409054 0.6729008489452822\n",
      "225 done 1.3957654478599828 0.675617116062031\n",
      "226 done 1.3885683370960764 0.6786590002125109\n",
      "227 done 1.3902850807546911 0.6774352228646252\n",
      "228 done 1.3816602960726585 0.684480886587996\n",
      "229 done 1.3837853850895288 0.6813265257731497\n"
     ]
    },
    {
     "ename": "KeyboardInterrupt",
     "evalue": "",
     "output_type": "error",
     "traceback": [
      "\u001b[1;31m---------------------------------------------------------------------------\u001b[0m",
      "\u001b[1;31mKeyboardInterrupt\u001b[0m                         Traceback (most recent call last)",
      "\u001b[1;32m<ipython-input-17-3f777733fe48>\u001b[0m in \u001b[0;36m<module>\u001b[1;34m\u001b[0m\n\u001b[0;32m     41\u001b[0m         \u001b[1;31m## G train\u001b[0m\u001b[1;33m\u001b[0m\u001b[1;33m\u001b[0m\u001b[1;33m\u001b[0m\u001b[0m\n\u001b[0;32m     42\u001b[0m         \u001b[0mnoises\u001b[0m \u001b[1;33m=\u001b[0m \u001b[0mcreate_noise\u001b[0m\u001b[1;33m(\u001b[0m\u001b[0mBATCH_SIZE\u001b[0m\u001b[1;33m,\u001b[0m\u001b[0mNOISE_DIM\u001b[0m\u001b[1;33m)\u001b[0m\u001b[1;33m\u001b[0m\u001b[1;33m\u001b[0m\u001b[0m\n\u001b[1;32m---> 43\u001b[1;33m         \u001b[0mfake_img\u001b[0m \u001b[1;33m=\u001b[0m \u001b[0mG\u001b[0m\u001b[1;33m.\u001b[0m\u001b[0mforward\u001b[0m\u001b[1;33m(\u001b[0m\u001b[0mnoises\u001b[0m\u001b[1;33m)\u001b[0m\u001b[1;33m\u001b[0m\u001b[1;33m\u001b[0m\u001b[0m\n\u001b[0m\u001b[0;32m     44\u001b[0m         \u001b[0mfake_output\u001b[0m \u001b[1;33m=\u001b[0m \u001b[0mD\u001b[0m\u001b[1;33m.\u001b[0m\u001b[0mforward\u001b[0m\u001b[1;33m(\u001b[0m\u001b[0mfake_img\u001b[0m\u001b[1;33m,\u001b[0m\u001b[0mtrain\u001b[0m\u001b[1;33m=\u001b[0m\u001b[1;32mFalse\u001b[0m\u001b[1;33m)\u001b[0m\u001b[1;33m\u001b[0m\u001b[1;33m\u001b[0m\u001b[0m\n\u001b[0;32m     45\u001b[0m \u001b[1;33m\u001b[0m\u001b[0m\n",
      "\u001b[1;32m<ipython-input-13-e0df9c89c108>\u001b[0m in \u001b[0;36mforward\u001b[1;34m(self, x)\u001b[0m\n\u001b[0;32m      6\u001b[0m \u001b[1;33m\u001b[0m\u001b[0m\n\u001b[0;32m      7\u001b[0m     \u001b[1;32mdef\u001b[0m \u001b[0mforward\u001b[0m\u001b[1;33m(\u001b[0m\u001b[0mself\u001b[0m\u001b[1;33m,\u001b[0m\u001b[0mx\u001b[0m\u001b[1;33m)\u001b[0m\u001b[1;33m:\u001b[0m\u001b[1;33m\u001b[0m\u001b[1;33m\u001b[0m\u001b[0m\n\u001b[1;32m----> 8\u001b[1;33m         \u001b[0mout\u001b[0m \u001b[1;33m=\u001b[0m \u001b[0mself\u001b[0m\u001b[1;33m.\u001b[0m\u001b[0md1\u001b[0m\u001b[1;33m.\u001b[0m\u001b[0mforward\u001b[0m\u001b[1;33m(\u001b[0m\u001b[0mx\u001b[0m\u001b[1;33m)\u001b[0m\u001b[1;33m\u001b[0m\u001b[1;33m\u001b[0m\u001b[0m\n\u001b[0m\u001b[0;32m      9\u001b[0m         \u001b[0mout\u001b[0m \u001b[1;33m=\u001b[0m \u001b[0mself\u001b[0m\u001b[1;33m.\u001b[0m\u001b[0mre1\u001b[0m\u001b[1;33m.\u001b[0m\u001b[0mforward\u001b[0m\u001b[1;33m(\u001b[0m\u001b[0mout\u001b[0m\u001b[1;33m)\u001b[0m\u001b[1;33m\u001b[0m\u001b[1;33m\u001b[0m\u001b[0m\n\u001b[0;32m     10\u001b[0m         \u001b[0mout\u001b[0m \u001b[1;33m=\u001b[0m \u001b[0mself\u001b[0m\u001b[1;33m.\u001b[0m\u001b[0md2\u001b[0m\u001b[1;33m.\u001b[0m\u001b[0mforward\u001b[0m\u001b[1;33m(\u001b[0m\u001b[0mout\u001b[0m\u001b[1;33m)\u001b[0m\u001b[1;33m\u001b[0m\u001b[1;33m\u001b[0m\u001b[0m\n",
      "\u001b[1;32m<ipython-input-8-d42b026c27ae>\u001b[0m in \u001b[0;36mforward\u001b[1;34m(self, x)\u001b[0m\n\u001b[0;32m     25\u001b[0m \u001b[1;33m\u001b[0m\u001b[0m\n\u001b[0;32m     26\u001b[0m     \u001b[1;32mdef\u001b[0m \u001b[0mforward\u001b[0m\u001b[1;33m(\u001b[0m\u001b[0mself\u001b[0m\u001b[1;33m,\u001b[0m\u001b[0mx\u001b[0m\u001b[1;33m)\u001b[0m\u001b[1;33m:\u001b[0m\u001b[1;33m\u001b[0m\u001b[1;33m\u001b[0m\u001b[0m\n\u001b[1;32m---> 27\u001b[1;33m         \u001b[0mout\u001b[0m \u001b[1;33m=\u001b[0m \u001b[0mx\u001b[0m\u001b[1;33m.\u001b[0m\u001b[0mreshape\u001b[0m\u001b[1;33m(\u001b[0m\u001b[0mx\u001b[0m\u001b[1;33m.\u001b[0m\u001b[0mshape\u001b[0m\u001b[1;33m[\u001b[0m\u001b[1;36m0\u001b[0m\u001b[1;33m]\u001b[0m\u001b[1;33m,\u001b[0m \u001b[1;33m-\u001b[0m\u001b[1;36m1\u001b[0m\u001b[1;33m)\u001b[0m\u001b[1;33m.\u001b[0m\u001b[0mdot\u001b[0m\u001b[1;33m(\u001b[0m\u001b[0mself\u001b[0m\u001b[1;33m.\u001b[0m\u001b[0mw\u001b[0m\u001b[1;33m)\u001b[0m \u001b[1;33m+\u001b[0m \u001b[0mself\u001b[0m\u001b[1;33m.\u001b[0m\u001b[0mb\u001b[0m\u001b[1;33m\u001b[0m\u001b[1;33m\u001b[0m\u001b[0m\n\u001b[0m\u001b[0;32m     28\u001b[0m         \u001b[0mself\u001b[0m\u001b[1;33m.\u001b[0m\u001b[0mcache\u001b[0m \u001b[1;33m=\u001b[0m \u001b[0mx\u001b[0m\u001b[1;33m\u001b[0m\u001b[1;33m\u001b[0m\u001b[0m\n\u001b[0;32m     29\u001b[0m         \u001b[1;32mreturn\u001b[0m \u001b[0mout\u001b[0m\u001b[1;33m\u001b[0m\u001b[1;33m\u001b[0m\u001b[0m\n",
      "\u001b[1;31mKeyboardInterrupt\u001b[0m: "
     ]
    }
   ],
   "source": [
    "BATCH_SIZE = 64\n",
    "NOISE_DIM = 100\n",
    "IMG_SIZE = 28*28\n",
    "EPOCHS = 500\n",
    "\n",
    "G = Generator(noise_size = NOISE_DIM, output_size = IMG_SIZE)\n",
    "D = Discriminator(x_size = IMG_SIZE)\n",
    "\n",
    "# \n",
    "batch_iters=train_images.shape[0]//BATCH_SIZE\n",
    "\n",
    "# visualizing noise\n",
    "np.random.seed(7777)\n",
    "testing_noise = create_noise(1,100)\n",
    "\n",
    "D_loss_history=[]\n",
    "G_loss_history=[]\n",
    "for epoch in range(EPOCHS):\n",
    "    g_losses = 0\n",
    "    d_losses = 0\n",
    "    for batch_iter in range(batch_iters):        \n",
    "        ## D train\n",
    "        # generate fake image\n",
    "        noises = create_noise(BATCH_SIZE,NOISE_DIM)\n",
    "        fake_img = G.forward(noises)\n",
    "\n",
    "        # prepare real image\n",
    "        real_img = train_images[batch_iter*BATCH_SIZE:(batch_iter+1)*BATCH_SIZE]\n",
    "\n",
    "        #forward\n",
    "        real_output = D.forward(real_img)\n",
    "        fake_output = D.forward(fake_img)\n",
    "\n",
    "        # loss, gradient\n",
    "        d_loss, d_grad = D_loss(real_output, fake_output)\n",
    "        \n",
    "        # train\n",
    "        D.backward(d_grad,train=True)\n",
    "        \n",
    "\n",
    "        ## G train\n",
    "        noises = create_noise(BATCH_SIZE,NOISE_DIM)\n",
    "        fake_img = G.forward(noises)\n",
    "        fake_output = D.forward(fake_img,train=False)\n",
    "        \n",
    "        g_loss, g_grad = G_loss(fake_output)\n",
    "        \n",
    "        dout = D.backward(g_grad, train=False)\n",
    "        G.backward(dout,train=True)\n",
    "        \n",
    "        g_losses += g_loss\n",
    "        d_losses += d_loss\n",
    "        \n",
    "    # loss history\n",
    "    D_loss_history.append(d_losses/batch_iters)\n",
    "    G_loss_history.append(g_losses/batch_iters)\n",
    "    \n",
    "    \n",
    "    print(epoch,'done',D_loss_history[-1], G_loss_history[-1])\n",
    "    # \n",
    "    if epoch%100 == 0:\n",
    "        t_img = G.forward(testing_noise).reshape(28,28)\n",
    "        plt.figure(figsize=(3,3))\n",
    "        plt.imshow(t_img, cmap='gray')\n",
    "        plt.show()"
   ]
  },
  {
   "cell_type": "code",
   "execution_count": 18,
   "metadata": {},
   "outputs": [
    {
     "data": {
      "image/png": "[encoded data removed]",
      "text/plain": [
       "<Figure size 432x288 with 2 Axes>"
      ]
     },
     "metadata": {
      "needs_background": "light"
     },
     "output_type": "display_data"
    }
   ],
   "source": [
    "plt.subplot(1,2,1)\n",
    "plt.plot(D_loss_history)\n",
    "\n",
    "plt.subplot(1,2,2)\n",
    "plt.plot(G_loss_history)\n",
    "\n",
    "plt.show()"
   ]
  },
  {
   "cell_type": "markdown",
   "metadata": {},
   "source": [
    "# Ref\n",
    "\n",
    "\n",
    "https://en.wikipedia.org/wiki/Kullback%E2%80%93Leibler_divergence\n",
    "\n",
    "https://ko.wikipedia.org/wiki/%EC%BF%A8%EB%B0%B1-%EB%9D%BC%EC%9D%B4%EB%B8%94%EB%9F%AC_%EB%B0%9C%EC%82%B0\n",
    "\n",
    "https://en.wikipedia.org/wiki/Jensen%E2%80%93Shannon_divergence\n",
    "\n",
    "https://hyeongminlee.github.io/post/prob002_kld_jsd/"
   ]
  }
 ],
 "metadata": {
  "kernelspec": {
   "display_name": "Python 3",
   "language": "python",
   "name": "python3"
  },
  "language_info": {
   "codemirror_mode": {
    "name": "ipython",
    "version": 3
   },
   "file_extension": ".py",
   "mimetype": "text/x-python",
   "name": "python",
   "nbconvert_exporter": "python",
   "pygments_lexer": "ipython3",
   "version": "3.7.7"
  }
 },
 "nbformat": 4,
 "nbformat_minor": 4
}
