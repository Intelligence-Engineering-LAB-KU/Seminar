{
  "nbformat": 4,
  "nbformat_minor": 0,
  "metadata": {
    "colab": {
      "name": "NLP_basic.ipynb",
      "provenance": [],
      "collapsed_sections": []
    },
    "kernelspec": {
      "name": "python3",
      "display_name": "Python 3"
    },
    "language_info": {
      "name": "python"
    }
  },
  "cells": [
    {
      "cell_type": "markdown",
      "metadata": {
        "id": "B37bhC0tze8f"
      },
      "source": [
        "# 자연어 처리 전처리 이해하기 ft.Torchtext"
      ]
    },
    {
      "cell_type": "markdown",
      "metadata": {
        "id": "-pMgvu2A1Hax"
      },
      "source": [
        "- Tip: google colab에서 pip install한 긴 결과물이 안나오게 하고 싶으면 &> /dev/null를 설치 커멘드 뒤에 붙여주기만 하면 됩니다"
      ]
    },
    {
      "cell_type": "markdown",
      "metadata": {
        "id": "PuYmEhE4LWYZ"
      },
      "source": [
        "### 토큰화 -> 단어 집합 생성 -> 정수 인코딩 -> 패딩 -> 벡터화\n",
        "- 토큰화: 주어진 텍스트를 단어 또는 문자 단위로 자르는 것"
      ]
    },
    {
      "cell_type": "markdown",
      "metadata": {
        "id": "4qI2DjHXzpsB"
      },
      "source": [
        "### Split"
      ]
    },
    {
      "cell_type": "code",
      "metadata": {
        "id": "q8jmgxA-zuE0"
      },
      "source": [
        "text = \"\"\"Here’s to the crazy ones, the misfits, the rebels, the troublemakers, the round pegs in the square holes. The ones who see things differently — they’re not fond of rules. You can quote them, disagree with them, glorify or vilify them, but the only thing you can’t do is ignore them because they change things. They push the human race forward, and while some may see them as the crazy ones, we see genius, because the ones who are crazy enough to think\n",
        "that they can change the world, are the ones who do.\"\"\""
      ],
      "execution_count": null,
      "outputs": []
    },
    {
      "cell_type": "code",
      "metadata": {
        "colab": {
          "base_uri": "https://localhost:8080/"
        },
        "id": "UG6-yC52zvlR",
        "outputId": "aeeec166-9449-4951-9e54-7dafc0103018"
      },
      "source": [
        "print(text.split(),end='')"
      ],
      "execution_count": null,
      "outputs": [
        {
          "output_type": "stream",
          "text": [
            "['Here’s', 'to', 'the', 'crazy', 'ones,', 'the', 'misfits,', 'the', 'rebels,', 'the', 'troublemakers,', 'the', 'round', 'pegs', 'in', 'the', 'square', 'holes.', 'The', 'ones', 'who', 'see', 'things', 'differently', '—', 'they’re', 'not', 'fond', 'of', 'rules.', 'You', 'can', 'quote', 'them,', 'disagree', 'with', 'them,', 'glorify', 'or', 'vilify', 'them,', 'but', 'the', 'only', 'thing', 'you', 'can’t', 'do', 'is', 'ignore', 'them', 'because', 'they', 'change', 'things.', 'They', 'push', 'the', 'human', 'race', 'forward,', 'and', 'while', 'some', 'may', 'see', 'them', 'as', 'the', 'crazy', 'ones,', 'we', 'see', 'genius,', 'because', 'the', 'ones', 'who', 'are', 'crazy', 'enough', 'to', 'think', 'that', 'they', 'can', 'change', 'the', 'world,', 'are', 'the', 'ones', 'who', 'do.']"
          ],
          "name": "stdout"
        }
      ]
    },
    {
      "cell_type": "markdown",
      "metadata": {
        "id": "OHeUQC3H0FBH"
      },
      "source": [
        "### NLTK"
      ]
    },
    {
      "cell_type": "code",
      "metadata": {
        "id": "20e0oW92znyb"
      },
      "source": [
        "!pip install nltk&> /dev/null"
      ],
      "execution_count": null,
      "outputs": []
    },
    {
      "cell_type": "code",
      "metadata": {
        "colab": {
          "base_uri": "https://localhost:8080/"
        },
        "id": "zWRECkYZ0pPo",
        "outputId": "dee36023-fd0e-4906-eda3-17e10acc193c"
      },
      "source": [
        "import nltk\n",
        "nltk.download('punkt')"
      ],
      "execution_count": null,
      "outputs": [
        {
          "output_type": "stream",
          "text": [
            "[nltk_data] Downloading package punkt to /root/nltk_data...\n",
            "[nltk_data]   Unzipping tokenizers/punkt.zip.\n"
          ],
          "name": "stdout"
        },
        {
          "output_type": "execute_result",
          "data": {
            "text/plain": [
              "True"
            ]
          },
          "metadata": {
            "tags": []
          },
          "execution_count": 4
        }
      ]
    },
    {
      "cell_type": "code",
      "metadata": {
        "colab": {
          "base_uri": "https://localhost:8080/"
        },
        "id": "Xvb-SrsR0QE-",
        "outputId": "3d9bf550-2770-4340-af75-931db8c829d6"
      },
      "source": [
        "from nltk.tokenize import word_tokenize\n",
        "print(word_tokenize(text),end='')"
      ],
      "execution_count": null,
      "outputs": [
        {
          "output_type": "stream",
          "text": [
            "['Here', '’', 's', 'to', 'the', 'crazy', 'ones', ',', 'the', 'misfits', ',', 'the', 'rebels', ',', 'the', 'troublemakers', ',', 'the', 'round', 'pegs', 'in', 'the', 'square', 'holes', '.', 'The', 'ones', 'who', 'see', 'things', 'differently', '—', 'they', '’', 're', 'not', 'fond', 'of', 'rules', '.', 'You', 'can', 'quote', 'them', ',', 'disagree', 'with', 'them', ',', 'glorify', 'or', 'vilify', 'them', ',', 'but', 'the', 'only', 'thing', 'you', 'can', '’', 't', 'do', 'is', 'ignore', 'them', 'because', 'they', 'change', 'things', '.', 'They', 'push', 'the', 'human', 'race', 'forward', ',', 'and', 'while', 'some', 'may', 'see', 'them', 'as', 'the', 'crazy', 'ones', ',', 'we', 'see', 'genius', ',', 'because', 'the', 'ones', 'who', 'are', 'crazy', 'enough', 'to', 'think', 'that', 'they', 'can', 'change', 'the', 'world', ',', 'are', 'the', 'ones', 'who', 'do', '.']"
          ],
          "name": "stdout"
        }
      ]
    },
    {
      "cell_type": "markdown",
      "metadata": {
        "id": "0Hpl52pG1UmC"
      },
      "source": [
        "- large corpus일 경우에는 sklearn이 이전 것보다 더 활용적 -> corpus: collection of texts(말뭉치)"
      ]
    },
    {
      "cell_type": "markdown",
      "metadata": {
        "id": "gyu_hWDW4BdG"
      },
      "source": [
        "### Sklearn"
      ]
    },
    {
      "cell_type": "code",
      "metadata": {
        "id": "gLYjIjaF4Fi0"
      },
      "source": [
        "!pip install pandas&> /dev/null"
      ],
      "execution_count": null,
      "outputs": []
    },
    {
      "cell_type": "code",
      "metadata": {
        "id": "VuSXp6k31CG9"
      },
      "source": [
        "import pandas as pd\n",
        "texts = [\n",
        "\"\"\"Here’s to the crazy ones, the misfits, the rebels, the troublemakers, the round pegs in the square holes. The ones who see things differently — they’re not fond of rules. You can quote them, disagree with them, glorify or vilify them, but the only thing you can’t do is ignore them because they change things. They push the human race forward, and while some may see them as the crazy ones, we see genius, because the ones who are crazy enough to think that they can change the world, are the ones who do.\"\"\" ,\n",
        " \n",
        "'I choose a lazy person to do a hard job. Because a lazy person will find an easy way to do it.'\n",
        "]\n",
        "df = pd.DataFrame({'author': ['jobs', 'gates'], 'text':texts})"
      ],
      "execution_count": null,
      "outputs": []
    },
    {
      "cell_type": "code",
      "metadata": {
        "colab": {
          "base_uri": "https://localhost:8080/",
          "height": 110
        },
        "id": "M5Khg-6b1CEM",
        "outputId": "3b1de02e-d885-4aa5-c190-1f801a3d98b1"
      },
      "source": [
        "df"
      ],
      "execution_count": null,
      "outputs": [
        {
          "output_type": "execute_result",
          "data": {
            "text/html": [
              "<div>\n",
              "<style scoped>\n",
              "    .dataframe tbody tr th:only-of-type {\n",
              "        vertical-align: middle;\n",
              "    }\n",
              "\n",
              "    .dataframe tbody tr th {\n",
              "        vertical-align: top;\n",
              "    }\n",
              "\n",
              "    .dataframe thead th {\n",
              "        text-align: right;\n",
              "    }\n",
              "</style>\n",
              "<table border=\"1\" class=\"dataframe\">\n",
              "  <thead>\n",
              "    <tr style=\"text-align: right;\">\n",
              "      <th></th>\n",
              "      <th>author</th>\n",
              "      <th>text</th>\n",
              "    </tr>\n",
              "  </thead>\n",
              "  <tbody>\n",
              "    <tr>\n",
              "      <th>0</th>\n",
              "      <td>jobs</td>\n",
              "      <td>Here’s to the crazy ones, the misfits, the reb...</td>\n",
              "    </tr>\n",
              "    <tr>\n",
              "      <th>1</th>\n",
              "      <td>gates</td>\n",
              "      <td>I choose a lazy person to do a hard job. Becau...</td>\n",
              "    </tr>\n",
              "  </tbody>\n",
              "</table>\n",
              "</div>"
            ],
            "text/plain": [
              "  author                                               text\n",
              "0   jobs  Here’s to the crazy ones, the misfits, the reb...\n",
              "1  gates  I choose a lazy person to do a hard job. Becau..."
            ]
          },
          "metadata": {
            "tags": []
          },
          "execution_count": 8
        }
      ]
    },
    {
      "cell_type": "code",
      "metadata": {
        "id": "rv9sYzAj1B9d"
      },
      "source": [
        "from sklearn.feature_extraction.text import CountVectorizer\n",
        "\n",
        "cv = CountVectorizer(stop_words='english')\n",
        "cv_matrix = cv.fit_transform(df['text']) #term-document matrix생성 \n",
        "#The number of times a term appeared in the document represented by the row of the matrix\n",
        "df_dtm = pd.DataFrame(cv_matrix.toarray(), index=df['author'].values, columns=cv.get_feature_names())"
      ],
      "execution_count": null,
      "outputs": []
    },
    {
      "cell_type": "code",
      "metadata": {
        "colab": {
          "base_uri": "https://localhost:8080/",
          "height": 130
        },
        "id": "OLN2ckHn1ONG",
        "outputId": "70a16246-b2d5-4b86-8de4-c3e947149849"
      },
      "source": [
        "df_dtm"
      ],
      "execution_count": null,
      "outputs": [
        {
          "output_type": "execute_result",
          "data": {
            "text/html": [
              "<div>\n",
              "<style scoped>\n",
              "    .dataframe tbody tr th:only-of-type {\n",
              "        vertical-align: middle;\n",
              "    }\n",
              "\n",
              "    .dataframe tbody tr th {\n",
              "        vertical-align: top;\n",
              "    }\n",
              "\n",
              "    .dataframe thead th {\n",
              "        text-align: right;\n",
              "    }\n",
              "</style>\n",
              "<table border=\"1\" class=\"dataframe\">\n",
              "  <thead>\n",
              "    <tr style=\"text-align: right;\">\n",
              "      <th></th>\n",
              "      <th>change</th>\n",
              "      <th>choose</th>\n",
              "      <th>crazy</th>\n",
              "      <th>differently</th>\n",
              "      <th>disagree</th>\n",
              "      <th>easy</th>\n",
              "      <th>fond</th>\n",
              "      <th>forward</th>\n",
              "      <th>genius</th>\n",
              "      <th>glorify</th>\n",
              "      <th>hard</th>\n",
              "      <th>holes</th>\n",
              "      <th>human</th>\n",
              "      <th>ignore</th>\n",
              "      <th>job</th>\n",
              "      <th>lazy</th>\n",
              "      <th>misfits</th>\n",
              "      <th>ones</th>\n",
              "      <th>pegs</th>\n",
              "      <th>person</th>\n",
              "      <th>push</th>\n",
              "      <th>quote</th>\n",
              "      <th>race</th>\n",
              "      <th>rebels</th>\n",
              "      <th>round</th>\n",
              "      <th>rules</th>\n",
              "      <th>square</th>\n",
              "      <th>thing</th>\n",
              "      <th>things</th>\n",
              "      <th>think</th>\n",
              "      <th>troublemakers</th>\n",
              "      <th>vilify</th>\n",
              "      <th>way</th>\n",
              "      <th>world</th>\n",
              "    </tr>\n",
              "  </thead>\n",
              "  <tbody>\n",
              "    <tr>\n",
              "      <th>jobs</th>\n",
              "      <td>2</td>\n",
              "      <td>0</td>\n",
              "      <td>3</td>\n",
              "      <td>1</td>\n",
              "      <td>1</td>\n",
              "      <td>0</td>\n",
              "      <td>1</td>\n",
              "      <td>1</td>\n",
              "      <td>1</td>\n",
              "      <td>1</td>\n",
              "      <td>0</td>\n",
              "      <td>1</td>\n",
              "      <td>1</td>\n",
              "      <td>1</td>\n",
              "      <td>0</td>\n",
              "      <td>0</td>\n",
              "      <td>1</td>\n",
              "      <td>5</td>\n",
              "      <td>1</td>\n",
              "      <td>0</td>\n",
              "      <td>1</td>\n",
              "      <td>1</td>\n",
              "      <td>1</td>\n",
              "      <td>1</td>\n",
              "      <td>1</td>\n",
              "      <td>1</td>\n",
              "      <td>1</td>\n",
              "      <td>1</td>\n",
              "      <td>2</td>\n",
              "      <td>1</td>\n",
              "      <td>1</td>\n",
              "      <td>1</td>\n",
              "      <td>0</td>\n",
              "      <td>1</td>\n",
              "    </tr>\n",
              "    <tr>\n",
              "      <th>gates</th>\n",
              "      <td>0</td>\n",
              "      <td>1</td>\n",
              "      <td>0</td>\n",
              "      <td>0</td>\n",
              "      <td>0</td>\n",
              "      <td>1</td>\n",
              "      <td>0</td>\n",
              "      <td>0</td>\n",
              "      <td>0</td>\n",
              "      <td>0</td>\n",
              "      <td>1</td>\n",
              "      <td>0</td>\n",
              "      <td>0</td>\n",
              "      <td>0</td>\n",
              "      <td>1</td>\n",
              "      <td>2</td>\n",
              "      <td>0</td>\n",
              "      <td>0</td>\n",
              "      <td>0</td>\n",
              "      <td>2</td>\n",
              "      <td>0</td>\n",
              "      <td>0</td>\n",
              "      <td>0</td>\n",
              "      <td>0</td>\n",
              "      <td>0</td>\n",
              "      <td>0</td>\n",
              "      <td>0</td>\n",
              "      <td>0</td>\n",
              "      <td>0</td>\n",
              "      <td>0</td>\n",
              "      <td>0</td>\n",
              "      <td>0</td>\n",
              "      <td>1</td>\n",
              "      <td>0</td>\n",
              "    </tr>\n",
              "  </tbody>\n",
              "</table>\n",
              "</div>"
            ],
            "text/plain": [
              "       change  choose  crazy  differently  ...  troublemakers  vilify  way  world\n",
              "jobs        2       0      3            1  ...              1       1    0      1\n",
              "gates       0       1      0            0  ...              0       0    1      0\n",
              "\n",
              "[2 rows x 34 columns]"
            ]
          },
          "metadata": {
            "tags": []
          },
          "execution_count": 10
        }
      ]
    },
    {
      "cell_type": "markdown",
      "metadata": {
        "id": "3QruYNXT6OJh"
      },
      "source": [
        "### spaCy 3.0"
      ]
    },
    {
      "cell_type": "code",
      "metadata": {
        "id": "uR9Y5RWU6MF0"
      },
      "source": [
        "!pip install spacy&> /dev/null"
      ],
      "execution_count": null,
      "outputs": []
    },
    {
      "cell_type": "code",
      "metadata": {
        "colab": {
          "base_uri": "https://localhost:8080/"
        },
        "id": "6O5ivZI76ZDu",
        "outputId": "7abf4af2-1f38-4099-98da-7f4702a404b7"
      },
      "source": [
        "from spacy.lang.es import Spanish\n",
        "nlp = Spanish()\n",
        "\n",
        "text_spanish = \"\"\"Por los locos. Los marginados. Los rebeldes. Los problematicos. \n",
        "Los inadaptados. Los que ven las cosas de una manera distinta. A los que no les gustan\n",
        "las reglas. Y a los que no respetan el “status quo”. Puedes citarlos, discrepar de ellos,\n",
        "ensalzarlos o vilipendiarlos. Pero lo que no puedes hacer es ignorarlos… Porque ellos\n",
        "cambian las cosas, empujan hacia adelante la raza humana y, aunque algunos puedan\n",
        "considerarlos locos, nosotros vemos en ellos a genios. Porque las personas que están\n",
        "lo bastante locas como para creer que pueden cambiar el mundo, son las que lo logran.\"\"\"\n",
        "\n",
        "doc = nlp(text_spanish)\n",
        "\n",
        "tokens = [token.text for token in doc]\n",
        "print(tokens)"
      ],
      "execution_count": null,
      "outputs": [
        {
          "output_type": "stream",
          "text": [
            "['Por', 'los', 'locos', '.', 'Los', 'marginados', '.', 'Los', 'rebeldes', '.', 'Los', 'problematicos', '.', '\\n', 'Los', 'inadaptados', '.', 'Los', 'que', 'ven', 'las', 'cosas', 'de', 'una', 'manera', 'distinta', '.', 'A', 'los', 'que', 'no', 'les', 'gustan', '\\n', 'las', 'reglas', '.', 'Y', 'a', 'los', 'que', 'no', 'respetan', 'el', '“', 'status', 'quo', '”', '.', 'Puedes', 'citarlos', ',', 'discrepar', 'de', 'ellos', ',', '\\n', 'ensalzarlos', 'o', 'vilipendiarlos', '.', 'Pero', 'lo', 'que', 'no', 'puedes', 'hacer', 'es', 'ignorarlos', '…', 'Porque', 'ellos', '\\n', 'cambian', 'las', 'cosas', ',', 'empujan', 'hacia', 'adelante', 'la', 'raza', 'humana', 'y', ',', 'aunque', 'algunos', 'puedan', '\\n', 'considerarlos', 'locos', ',', 'nosotros', 'vemos', 'en', 'ellos', 'a', 'genios', '.', 'Porque', 'las', 'personas', 'que', 'están', '\\n', 'lo', 'bastante', 'locas', 'como', 'para', 'creer', 'que', 'pueden', 'cambiar', 'el', 'mundo', ',', 'son', 'las', 'que', 'lo', 'logran', '.']\n"
          ],
          "name": "stdout"
        }
      ]
    },
    {
      "cell_type": "code",
      "metadata": {
        "colab": {
          "base_uri": "https://localhost:8080/"
        },
        "id": "T6eJxQ1p7Nk3",
        "outputId": "a759401a-b7e3-4b9c-9214-1557248766d2"
      },
      "source": [
        "from spacy.lang.en import English\n",
        "nlp = English()\n",
        "\n",
        "text_english = \"\"\"But soon after the PATRIOT Act passed, a few years before I even arrived here in the Senate, I began hearing concerns from people of every background and political leaning that this law, the very purpose of which was to protect us, was also threatening to violate some of the rights and freedoms that we hold most dear; that it didn't just provide law enforcement the powers it needed to keep us safe but powers that it didn't need to invade our privacy without cause or suspicion.\"\"\"\n",
        "\n",
        "doc = nlp(text_english)\n",
        "\n",
        "tokens = [token.text for token in doc]\n",
        "print(tokens)"
      ],
      "execution_count": null,
      "outputs": [
        {
          "output_type": "stream",
          "text": [
            "['But', 'soon', 'after', 'the', 'PATRIOT', 'Act', 'passed', ',', 'a', 'few', 'years', 'before', 'I', 'even', 'arrived', 'here', 'in', 'the', 'Senate', ',', 'I', 'began', 'hearing', 'concerns', 'from', 'people', 'of', 'every', 'background', 'and', 'political', 'leaning', 'that', 'this', 'law', ',', 'the', 'very', 'purpose', 'of', 'which', 'was', 'to', 'protect', 'us', ',', 'was', 'also', 'threatening', 'to', 'violate', 'some', 'of', 'the', 'rights', 'and', 'freedoms', 'that', 'we', 'hold', 'most', 'dear', ';', 'that', 'it', 'did', \"n't\", 'just', 'provide', 'law', 'enforcement', 'the', 'powers', 'it', 'needed', 'to', 'keep', 'us', 'safe', 'but', 'powers', 'that', 'it', 'did', \"n't\", 'need', 'to', 'invade', 'our', 'privacy', 'without', 'cause', 'or', 'suspicion', '.']\n"
          ],
          "name": "stdout"
        }
      ]
    },
    {
      "cell_type": "markdown",
      "metadata": {
        "id": "hdHwzm6J8qTC"
      },
      "source": [
        "### spaCy 2.0"
      ]
    },
    {
      "cell_type": "code",
      "metadata": {
        "id": "g1OMLlKe6Y-l"
      },
      "source": [
        "en_text = \"A Dog Run back corner near spare bedrooms\""
      ],
      "execution_count": null,
      "outputs": []
    },
    {
      "cell_type": "code",
      "metadata": {
        "colab": {
          "base_uri": "https://localhost:8080/"
        },
        "id": "Yc_E7RU86Y8D",
        "outputId": "ffc81a0d-2169-44d3-8140-d3c2820c7aec"
      },
      "source": [
        "import spacy\n",
        "spacy_en = spacy.load('en')\n",
        "\n",
        "def tokenize(en_text):\n",
        "    return [tok.text for tok in spacy_en.tokenizer(en_text)]\n",
        "\n",
        "print(tokenize(en_text))"
      ],
      "execution_count": null,
      "outputs": [
        {
          "output_type": "stream",
          "text": [
            "['A', 'Dog', 'Run', 'back', 'corner', 'near', 'spare', 'bedrooms']\n"
          ],
          "name": "stdout"
        }
      ]
    },
    {
      "cell_type": "markdown",
      "metadata": {
        "id": "vXQFtb5B8E0D"
      },
      "source": [
        "### Genism"
      ]
    },
    {
      "cell_type": "markdown",
      "metadata": {
        "id": "fgQhI1V98vFJ"
      },
      "source": [
        "- unsupervised topic modeling\n",
        "- natural language processing\n",
        "- also contains a tokenizer"
      ]
    },
    {
      "cell_type": "code",
      "metadata": {
        "id": "tsSrDo5g6Y5k"
      },
      "source": [
        "!pip install gensim&> /dev/null"
      ],
      "execution_count": null,
      "outputs": []
    },
    {
      "cell_type": "code",
      "metadata": {
        "colab": {
          "base_uri": "https://localhost:8080/"
        },
        "id": "1h70-oPL6Y1t",
        "outputId": "3c1c5cac-d3c8-4bbf-bf2e-a370941e2283"
      },
      "source": [
        "from gensim.utils import tokenize\n",
        "tokenized = list(tokenize(text))\n",
        "print(tokenized,end='')"
      ],
      "execution_count": null,
      "outputs": [
        {
          "output_type": "stream",
          "text": [
            "['Here', 's', 'to', 'the', 'crazy', 'ones', 'the', 'misfits', 'the', 'rebels', 'the', 'troublemakers', 'the', 'round', 'pegs', 'in', 'the', 'square', 'holes', 'The', 'ones', 'who', 'see', 'things', 'differently', 'they', 're', 'not', 'fond', 'of', 'rules', 'You', 'can', 'quote', 'them', 'disagree', 'with', 'them', 'glorify', 'or', 'vilify', 'them', 'but', 'the', 'only', 'thing', 'you', 'can', 't', 'do', 'is', 'ignore', 'them', 'because', 'they', 'change', 'things', 'They', 'push', 'the', 'human', 'race', 'forward', 'and', 'while', 'some', 'may', 'see', 'them', 'as', 'the', 'crazy', 'ones', 'we', 'see', 'genius', 'because', 'the', 'ones', 'who', 'are', 'crazy', 'enough', 'to', 'think', 'that', 'they', 'can', 'change', 'the', 'world', 'are', 'the', 'ones', 'who', 'do']"
          ],
          "name": "stdout"
        }
      ]
    },
    {
      "cell_type": "markdown",
      "metadata": {
        "id": "tGVhgLGwIb4Q"
      },
      "source": [
        "### Conclusion\n",
        "\n",
        "- split() : apostrophe (\") and comma (,)는 토큰으로 구분 x\n",
        "- nltk(word_tokenize) : apostrophe (\") and comma (,) 토큰으로 구분 o\n",
        "- spaCy : considers puncuation symbols as a separate token(\\n 새로운 줄도)\n",
        "- genism - splits every time it encounters a punctuation symobl"
      ]
    },
    {
      "cell_type": "code",
      "metadata": {
        "colab": {
          "base_uri": "https://localhost:8080/"
        },
        "id": "zcP1P_GKRl1p",
        "outputId": "b2af2a4c-3eb0-4f88-c99a-98b86370dcd2"
      },
      "source": [
        "!git clone https://github.com/SOMJANG/Mecab-ko-for-Google-Colab.git\n",
        "%cd Mecab-ko-for-Google-Colab\n",
        "!bash install_mecab-ko_on_colab190912.sh&> /dev/null"
      ],
      "execution_count": null,
      "outputs": [
        {
          "output_type": "stream",
          "text": [
            "Cloning into 'Mecab-ko-for-Google-Colab'...\n",
            "remote: Enumerating objects: 91, done.\u001b[K\n",
            "remote: Counting objects: 100% (91/91), done.\u001b[K\n",
            "remote: Compressing objects: 100% (85/85), done.\u001b[K\n",
            "remote: Total 91 (delta 43), reused 22 (delta 6), pack-reused 0\u001b[K\n",
            "Unpacking objects: 100% (91/91), done.\n",
            "/content/Mecab-ko-for-Google-Colab\n"
          ],
          "name": "stdout"
        }
      ]
    },
    {
      "cell_type": "code",
      "metadata": {
        "id": "1NvEXkbRZOG-"
      },
      "source": [
        "!pip install konlpy&> /dev/null"
      ],
      "execution_count": null,
      "outputs": []
    },
    {
      "cell_type": "markdown",
      "metadata": {
        "id": "bgCDrvJ9X8oD"
      },
      "source": [
        "### KoNLPy: 한국어 자연어 처리\n",
        "- KoNLPy를 통해 활용할 수 있는 형태소 분석기\n",
        "  - okt(Open Korea Text)\n",
        "  - **Mecab** \n",
        "  - Komoran\n",
        "  - Hannanum (한나눔)\n",
        "  - Kkma (꼬꼬마)\n",
        "\n",
        "- KoNLPy: 형태소 분석기에서 공통적으로 쓰이는 메소드\n",
        "  - morphs: 형태소 추출\n",
        "  - pos: 품사 태깅\n",
        "  - nouns: 명사 추출"
      ]
    },
    {
      "cell_type": "markdown",
      "metadata": {
        "id": "6jxU01Bayr3a"
      },
      "source": [
        "영어와 비교해 한국어는 조사, 접사 등으로 인해 단순 띄어쓰기 단위로 나누면 같은 단어가 다른 단어로 인식되서 단어 집합(vocabulary)의 크기가 불필요하게 커진다.\n",
        "- '사과가' , '사과를' , '사과와' , '사과는' 같은 단어임에도 다른 단어로 인식"
      ]
    },
    {
      "cell_type": "code",
      "metadata": {
        "id": "C-1ev-OhZCJ5"
      },
      "source": [
        "kor_text = \"사과의 놀라운 효능이라는 글을 봤어. 그래서 오늘 사과를 먹으려고 했는데 사과가 썩어서 슈퍼에 가서 사과랑 오렌지 사왔어\""
      ],
      "execution_count": null,
      "outputs": []
    },
    {
      "cell_type": "code",
      "metadata": {
        "colab": {
          "base_uri": "https://localhost:8080/"
        },
        "id": "yETR1WxLzv_I",
        "outputId": "b0c1b8eb-dd80-48ca-c82d-037402280205"
      },
      "source": [
        "print(kor_text.split())"
      ],
      "execution_count": null,
      "outputs": [
        {
          "output_type": "stream",
          "text": [
            "['사과의', '놀라운', '효능이라는', '글을', '봤어.', '그래서', '오늘', '사과를', '먹으려고', '했는데', '사과가', '썩어서', '슈퍼에', '가서', '사과랑', '오렌지', '사왔어']\n"
          ],
          "name": "stdout"
        }
      ]
    },
    {
      "cell_type": "code",
      "metadata": {
        "colab": {
          "base_uri": "https://localhost:8080/"
        },
        "id": "o1_6s-i_ZCMf",
        "outputId": "56324571-356f-4982-a829-a46f590f6936"
      },
      "source": [
        "from konlpy.tag import Mecab\n",
        "tokenizer = Mecab()\n",
        "print(tokenizer.morphs(kor_text))"
      ],
      "execution_count": null,
      "outputs": [
        {
          "output_type": "stream",
          "text": [
            "['사과', '의', '놀라운', '효능', '이', '라는', '글', '을', '봤', '어', '.', '그래서', '오늘', '사과', '를', '먹', '으려고', '했', '는데', '사과', '가', '썩', '어서', '슈퍼', '에', '가', '서', '사과', '랑', '오렌지', '사', '왔', '어']\n"
          ],
          "name": "stdout"
        }
      ]
    },
    {
      "cell_type": "markdown",
      "metadata": {
        "id": "ImEX7Sz0GhEt"
      },
      "source": [
        "# 단어 집합(Vocab) 생성"
      ]
    },
    {
      "cell_type": "code",
      "metadata": {
        "id": "NEMqB34MZCTv"
      },
      "source": [
        "import urllib.request\n",
        "import pandas as pd\n",
        "from konlpy.tag import Mecab\n",
        "from nltk import FreqDist\n",
        "import numpy as np\n",
        "import matplotlib.pyplot as plt"
      ],
      "execution_count": null,
      "outputs": []
    },
    {
      "cell_type": "code",
      "metadata": {
        "id": "IRsHBAU4ZCWX",
        "colab": {
          "base_uri": "https://localhost:8080/",
          "height": 355
        },
        "outputId": "43a71cae-6d7e-44fe-e6b4-36cab50c9b3c"
      },
      "source": [
        "urllib.request.urlretrieve(\"https://raw.githubusercontent.com/e9t/nsmc/master/ratings.txt\", filename=\"ratings.txt\")\n",
        "data = pd.read_table('ratings.txt') \n",
        "data[:10]"
      ],
      "execution_count": null,
      "outputs": [
        {
          "output_type": "execute_result",
          "data": {
            "text/html": [
              "<div>\n",
              "<style scoped>\n",
              "    .dataframe tbody tr th:only-of-type {\n",
              "        vertical-align: middle;\n",
              "    }\n",
              "\n",
              "    .dataframe tbody tr th {\n",
              "        vertical-align: top;\n",
              "    }\n",
              "\n",
              "    .dataframe thead th {\n",
              "        text-align: right;\n",
              "    }\n",
              "</style>\n",
              "<table border=\"1\" class=\"dataframe\">\n",
              "  <thead>\n",
              "    <tr style=\"text-align: right;\">\n",
              "      <th></th>\n",
              "      <th>id</th>\n",
              "      <th>document</th>\n",
              "      <th>label</th>\n",
              "    </tr>\n",
              "  </thead>\n",
              "  <tbody>\n",
              "    <tr>\n",
              "      <th>0</th>\n",
              "      <td>8112052</td>\n",
              "      <td>어릴때보고 지금다시봐도 재밌어요ㅋㅋ</td>\n",
              "      <td>1</td>\n",
              "    </tr>\n",
              "    <tr>\n",
              "      <th>1</th>\n",
              "      <td>8132799</td>\n",
              "      <td>디자인을 배우는 학생으로, 외국디자이너와 그들이 일군 전통을 통해 발전해가는 문화산...</td>\n",
              "      <td>1</td>\n",
              "    </tr>\n",
              "    <tr>\n",
              "      <th>2</th>\n",
              "      <td>4655635</td>\n",
              "      <td>폴리스스토리 시리즈는 1부터 뉴까지 버릴께 하나도 없음.. 최고.</td>\n",
              "      <td>1</td>\n",
              "    </tr>\n",
              "    <tr>\n",
              "      <th>3</th>\n",
              "      <td>9251303</td>\n",
              "      <td>와.. 연기가 진짜 개쩔구나.. 지루할거라고 생각했는데 몰입해서 봤다.. 그래 이런...</td>\n",
              "      <td>1</td>\n",
              "    </tr>\n",
              "    <tr>\n",
              "      <th>4</th>\n",
              "      <td>10067386</td>\n",
              "      <td>안개 자욱한 밤하늘에 떠 있는 초승달 같은 영화.</td>\n",
              "      <td>1</td>\n",
              "    </tr>\n",
              "    <tr>\n",
              "      <th>5</th>\n",
              "      <td>2190435</td>\n",
              "      <td>사랑을 해본사람이라면 처음부터 끝까지 웃을수 있는영화</td>\n",
              "      <td>1</td>\n",
              "    </tr>\n",
              "    <tr>\n",
              "      <th>6</th>\n",
              "      <td>9279041</td>\n",
              "      <td>완전 감동입니다 다시봐도 감동</td>\n",
              "      <td>1</td>\n",
              "    </tr>\n",
              "    <tr>\n",
              "      <th>7</th>\n",
              "      <td>7865729</td>\n",
              "      <td>개들의 전쟁2 나오나요? 나오면 1빠로 보고 싶음</td>\n",
              "      <td>1</td>\n",
              "    </tr>\n",
              "    <tr>\n",
              "      <th>8</th>\n",
              "      <td>7477618</td>\n",
              "      <td>굿</td>\n",
              "      <td>1</td>\n",
              "    </tr>\n",
              "    <tr>\n",
              "      <th>9</th>\n",
              "      <td>9250537</td>\n",
              "      <td>바보가 아니라 병 쉰 인듯</td>\n",
              "      <td>1</td>\n",
              "    </tr>\n",
              "  </tbody>\n",
              "</table>\n",
              "</div>"
            ],
            "text/plain": [
              "         id                                           document  label\n",
              "0   8112052                                어릴때보고 지금다시봐도 재밌어요ㅋㅋ      1\n",
              "1   8132799  디자인을 배우는 학생으로, 외국디자이너와 그들이 일군 전통을 통해 발전해가는 문화산...      1\n",
              "2   4655635               폴리스스토리 시리즈는 1부터 뉴까지 버릴께 하나도 없음.. 최고.      1\n",
              "3   9251303  와.. 연기가 진짜 개쩔구나.. 지루할거라고 생각했는데 몰입해서 봤다.. 그래 이런...      1\n",
              "4  10067386                        안개 자욱한 밤하늘에 떠 있는 초승달 같은 영화.      1\n",
              "5   2190435                      사랑을 해본사람이라면 처음부터 끝까지 웃을수 있는영화      1\n",
              "6   9279041                                   완전 감동입니다 다시봐도 감동      1\n",
              "7   7865729                        개들의 전쟁2 나오나요? 나오면 1빠로 보고 싶음      1\n",
              "8   7477618                                                  굿      1\n",
              "9   9250537                                     바보가 아니라 병 쉰 인듯      1"
            ]
          },
          "metadata": {
            "tags": []
          },
          "execution_count": 23
        }
      ]
    },
    {
      "cell_type": "code",
      "metadata": {
        "id": "n-5XwX1yZCZh",
        "colab": {
          "base_uri": "https://localhost:8080/"
        },
        "outputId": "81fe7bd9-60e2-4a7d-edb5-b3fd4c59521f"
      },
      "source": [
        "print(f'전체 샘플의 수 {len(data)}')"
      ],
      "execution_count": null,
      "outputs": [
        {
          "output_type": "stream",
          "text": [
            "전체 샘플의 수 200000\n"
          ],
          "name": "stdout"
        }
      ]
    },
    {
      "cell_type": "code",
      "metadata": {
        "id": "cI-ArV05v1L1"
      },
      "source": [
        "sample_data = data[:100]"
      ],
      "execution_count": null,
      "outputs": []
    },
    {
      "cell_type": "code",
      "metadata": {
        "colab": {
          "base_uri": "https://localhost:8080/",
          "height": 462
        },
        "id": "18sdP7Cnwd0s",
        "outputId": "0d2565c3-ef5d-4959-fc92-cedcc46548d1"
      },
      "source": [
        "sample_data['document'] = sample_data['document'].str.replace(\"[^ㄱ-ㅎㅏ-ㅣ가-힣 ]\",\"\")\n",
        "# 한글과 공백을 제외하고 모두 제거\n",
        "sample_data[:10]"
      ],
      "execution_count": null,
      "outputs": [
        {
          "output_type": "stream",
          "text": [
            "/usr/local/lib/python3.7/dist-packages/ipykernel_launcher.py:1: SettingWithCopyWarning: \n",
            "A value is trying to be set on a copy of a slice from a DataFrame.\n",
            "Try using .loc[row_indexer,col_indexer] = value instead\n",
            "\n",
            "See the caveats in the documentation: https://pandas.pydata.org/pandas-docs/stable/user_guide/indexing.html#returning-a-view-versus-a-copy\n",
            "  \"\"\"Entry point for launching an IPython kernel.\n"
          ],
          "name": "stderr"
        },
        {
          "output_type": "execute_result",
          "data": {
            "text/html": [
              "<div>\n",
              "<style scoped>\n",
              "    .dataframe tbody tr th:only-of-type {\n",
              "        vertical-align: middle;\n",
              "    }\n",
              "\n",
              "    .dataframe tbody tr th {\n",
              "        vertical-align: top;\n",
              "    }\n",
              "\n",
              "    .dataframe thead th {\n",
              "        text-align: right;\n",
              "    }\n",
              "</style>\n",
              "<table border=\"1\" class=\"dataframe\">\n",
              "  <thead>\n",
              "    <tr style=\"text-align: right;\">\n",
              "      <th></th>\n",
              "      <th>id</th>\n",
              "      <th>document</th>\n",
              "      <th>label</th>\n",
              "    </tr>\n",
              "  </thead>\n",
              "  <tbody>\n",
              "    <tr>\n",
              "      <th>0</th>\n",
              "      <td>8112052</td>\n",
              "      <td>어릴때보고 지금다시봐도 재밌어요ㅋㅋ</td>\n",
              "      <td>1</td>\n",
              "    </tr>\n",
              "    <tr>\n",
              "      <th>1</th>\n",
              "      <td>8132799</td>\n",
              "      <td>디자인을 배우는 학생으로 외국디자이너와 그들이 일군 전통을 통해 발전해가는 문화산업...</td>\n",
              "      <td>1</td>\n",
              "    </tr>\n",
              "    <tr>\n",
              "      <th>2</th>\n",
              "      <td>4655635</td>\n",
              "      <td>폴리스스토리 시리즈는 부터 뉴까지 버릴께 하나도 없음 최고</td>\n",
              "      <td>1</td>\n",
              "    </tr>\n",
              "    <tr>\n",
              "      <th>3</th>\n",
              "      <td>9251303</td>\n",
              "      <td>와 연기가 진짜 개쩔구나 지루할거라고 생각했는데 몰입해서 봤다 그래 이런게 진짜 영화지</td>\n",
              "      <td>1</td>\n",
              "    </tr>\n",
              "    <tr>\n",
              "      <th>4</th>\n",
              "      <td>10067386</td>\n",
              "      <td>안개 자욱한 밤하늘에 떠 있는 초승달 같은 영화</td>\n",
              "      <td>1</td>\n",
              "    </tr>\n",
              "    <tr>\n",
              "      <th>5</th>\n",
              "      <td>2190435</td>\n",
              "      <td>사랑을 해본사람이라면 처음부터 끝까지 웃을수 있는영화</td>\n",
              "      <td>1</td>\n",
              "    </tr>\n",
              "    <tr>\n",
              "      <th>6</th>\n",
              "      <td>9279041</td>\n",
              "      <td>완전 감동입니다 다시봐도 감동</td>\n",
              "      <td>1</td>\n",
              "    </tr>\n",
              "    <tr>\n",
              "      <th>7</th>\n",
              "      <td>7865729</td>\n",
              "      <td>개들의 전쟁 나오나요 나오면 빠로 보고 싶음</td>\n",
              "      <td>1</td>\n",
              "    </tr>\n",
              "    <tr>\n",
              "      <th>8</th>\n",
              "      <td>7477618</td>\n",
              "      <td>굿</td>\n",
              "      <td>1</td>\n",
              "    </tr>\n",
              "    <tr>\n",
              "      <th>9</th>\n",
              "      <td>9250537</td>\n",
              "      <td>바보가 아니라 병 쉰 인듯</td>\n",
              "      <td>1</td>\n",
              "    </tr>\n",
              "  </tbody>\n",
              "</table>\n",
              "</div>"
            ],
            "text/plain": [
              "         id                                           document  label\n",
              "0   8112052                                어릴때보고 지금다시봐도 재밌어요ㅋㅋ      1\n",
              "1   8132799  디자인을 배우는 학생으로 외국디자이너와 그들이 일군 전통을 통해 발전해가는 문화산업...      1\n",
              "2   4655635                   폴리스스토리 시리즈는 부터 뉴까지 버릴께 하나도 없음 최고      1\n",
              "3   9251303   와 연기가 진짜 개쩔구나 지루할거라고 생각했는데 몰입해서 봤다 그래 이런게 진짜 영화지      1\n",
              "4  10067386                         안개 자욱한 밤하늘에 떠 있는 초승달 같은 영화      1\n",
              "5   2190435                      사랑을 해본사람이라면 처음부터 끝까지 웃을수 있는영화      1\n",
              "6   9279041                                   완전 감동입니다 다시봐도 감동      1\n",
              "7   7865729                           개들의 전쟁 나오나요 나오면 빠로 보고 싶음      1\n",
              "8   7477618                                                  굿      1\n",
              "9   9250537                                     바보가 아니라 병 쉰 인듯      1"
            ]
          },
          "metadata": {
            "tags": []
          },
          "execution_count": 30
        }
      ]
    },
    {
      "cell_type": "markdown",
      "metadata": {
        "id": "6IR7r4vwO8sh"
      },
      "source": [
        "### 불용어를 제거하기 위해 불용어 정의"
      ]
    },
    {
      "cell_type": "code",
      "metadata": {
        "id": "pk9r0B6gv0-z"
      },
      "source": [
        "stopwords=['의','가','이','은','들','는','좀','잘','걍','과','도','를','으로','자','에','와','한','하다']"
      ],
      "execution_count": null,
      "outputs": []
    },
    {
      "cell_type": "code",
      "metadata": {
        "id": "7mgnqiVAv02r"
      },
      "source": [
        "tokenizer = Mecab()\n",
        "\n",
        "tokenized = []\n",
        "for sentence in sample_data['document']:\n",
        "  temp = tokenizer.morphs(sentence) # tokenize\n",
        "  temp = [word for word in temp if not word in stopwords] # 불용어 제거\n",
        "  tokenized.append(temp)"
      ],
      "execution_count": null,
      "outputs": []
    },
    {
      "cell_type": "code",
      "metadata": {
        "colab": {
          "base_uri": "https://localhost:8080/"
        },
        "id": "V9b_-cMrMoz7",
        "outputId": "5f723736-53d5-44ea-c98e-306e7420a5a3"
      },
      "source": [
        "print(tokenized[:10])"
      ],
      "execution_count": null,
      "outputs": [
        {
          "output_type": "stream",
          "text": [
            "[['어릴', '때', '보', '고', '지금', '다시', '봐도', '재밌', '어요', 'ㅋㅋ'], ['디자인', '을', '배우', '학생', '외국', '디자이너', '그', '일군', '전통', '을', '통해', '발전', '해', '문화', '산업', '부러웠', '는데', '사실', '우리', '나라', '에서', '그', '어려운', '시절', '끝', '까지', '열정', '을', '지킨', '노라노', '같', '전통', '있', '어', '저', '같', '사람', '꿈', '을', '꾸', '고', '이뤄나갈', '수', '있', '다는', '것', '감사', '합니다'], ['폴리스', '스토리', '시리즈', '부터', '뉴', '까지', '버릴', '께', '하나', '없', '음', '최고'], ['연기', '진짜', '개', '쩔', '구나', '지루', '할거', '라고', '생각', '했', '는데', '몰입', '해서', '봤', '다', '그래', '이런', '게', '진짜', '영화', '지'], ['안개', '자욱', '밤하늘', '떠', '있', '초승달', '같', '영화'], ['사랑', '을', '해', '본', '사람', '라면', '처음', '부터', '끝', '까지', '웃', '을', '수', '있', '영화'], ['완전', '감동', '입니다', '다시', '봐도', '감동'], ['개', '전쟁', '나오', '나요', '나오', '면', '빠', '로', '보', '고', '싶', '음'], ['굿'], ['바보', '아니', '라', '병', '쉰', '인', '듯']]\n"
          ],
          "name": "stdout"
        }
      ]
    },
    {
      "cell_type": "code",
      "metadata": {
        "colab": {
          "base_uri": "https://localhost:8080/"
        },
        "id": "UAAVCz9kMoxQ",
        "outputId": "de65699f-99c0-463d-9148-f40b67759330"
      },
      "source": [
        "#빈도수 계산 도구 FreqDist\n",
        "vocab = FreqDist(np.hstack(tokenized))\n",
        "print(f'단어 집합의 크기 : {len(vocab)}')"
      ],
      "execution_count": null,
      "outputs": [
        {
          "output_type": "stream",
          "text": [
            "단어 집합의 크기 : 664\n"
          ],
          "name": "stdout"
        }
      ]
    },
    {
      "cell_type": "code",
      "metadata": {
        "colab": {
          "base_uri": "https://localhost:8080/"
        },
        "id": "qoO6dIG8Mouh",
        "outputId": "72063164-6990-4c83-d4bb-305df14f6500"
      },
      "source": [
        "#단어를 key로, 단어에 대한 빈도수가 value로 저장. vocab에 단어를 입력하면 빈도수를 리턴\n",
        "vocab['때']"
      ],
      "execution_count": null,
      "outputs": [
        {
          "output_type": "execute_result",
          "data": {
            "text/plain": [
              "7"
            ]
          },
          "metadata": {
            "tags": []
          },
          "execution_count": 51
        }
      ]
    },
    {
      "cell_type": "code",
      "metadata": {
        "colab": {
          "base_uri": "https://localhost:8080/"
        },
        "id": "TmIHUmUQMojv",
        "outputId": "2627da0f-f5ae-4fc7-928e-5771b54218e8"
      },
      "source": [
        "#상위 빈도수인 단어 500개\n",
        "vocab_size = 500\n",
        "vocab = vocab.most_common(vocab_size)\n",
        "print(f'단어 집합의 크기 {len(vocab)}')"
      ],
      "execution_count": null,
      "outputs": [
        {
          "output_type": "stream",
          "text": [
            "단어 집합의 크기 500\n"
          ],
          "name": "stdout"
        }
      ]
    },
    {
      "cell_type": "markdown",
      "metadata": {
        "id": "NcNzgET0iZID"
      },
      "source": [
        "### 각 단어에 고유한 정수 부여"
      ]
    },
    {
      "cell_type": "markdown",
      "metadata": {
        "id": "YpuXeZgv8CAi"
      },
      "source": [
        "### 길이가 다른 문장들을 모두 동일한 길이로 바꿔주는 패딩(padding)\n",
        "- 정해준 길이로 모든 샘플들의 길이를 맞춰주되, 길이가 정해준 길이보다 짧은 샘플들에 'pad'토큰을 추가하여 길이를 맞춰주는 작업"
      ]
    },
    {
      "cell_type": "code",
      "metadata": {
        "id": "u6yBwhAaQUXQ"
      },
      "source": [
        "word_to_index = {word[0] : index + 2 for index, word in enumerate(vocab)}\n",
        "word_to_index['pad'] = 1 \n",
        "#pad - max length of the sequence is 8, then my name is dfjkajoe;kdf -> my name is dfjkajoe;kdf _pad_ _pad_ _pad_ _pad_\n",
        "word_to_index['unk'] = 0 \n",
        "#unk - unknown token -'used to replace the rare words' ex) my name is 10312u09jkdlas -> my name is _unk_\n",
        "\n",
        "encoded = []\n",
        "for line in tokenized: #입력 데이터에서 1줄씩 문장을 읽음\n",
        "  temp = []\n",
        "  for w in line: #각 줄에서 1개씩 글자를 읽음\n",
        "    try:\n",
        "      temp.append(word_to_index[w]) #글자를 해당되는 정수로 변환\n",
        "    except KeyError: #단어 집합에 없는 단어일 경우 unk로 대체됨\n",
        "      temp.append(word_to_index['unk']) #unk의 인덱스로 변환\n",
        "\n",
        "  encoded.append(temp)"
      ],
      "execution_count": null,
      "outputs": []
    },
    {
      "cell_type": "code",
      "metadata": {
        "colab": {
          "base_uri": "https://localhost:8080/"
        },
        "id": "zzPSbaFOjC8N",
        "outputId": "b40f9ff4-f1e4-43f6-a143-d5e568bf8214"
      },
      "source": [
        "print(encoded[:10],end='')"
      ],
      "execution_count": null,
      "outputs": [
        {
          "output_type": "stream",
          "text": [
            "[[78, 27, 9, 4, 50, 41, 79, 16, 28, 29], [188, 5, 80, 189, 190, 191, 42, 192, 114, 5, 193, 194, 21, 115, 195, 196, 13, 51, 81, 116, 30, 42, 197, 117, 118, 31, 198, 5, 199, 200, 17, 114, 7, 82, 52, 17, 43, 201, 5, 202, 4, 203, 14, 7, 83, 32, 204, 84], [205, 119, 206, 53, 207, 31, 208, 209, 54, 10, 25, 11], [44, 33, 120, 210, 211, 212, 213, 68, 45, 34, 13, 214, 121, 15, 2, 215, 69, 8, 33, 3, 35], [216, 217, 218, 219, 7, 220, 17, 3], [122, 5, 21, 36, 43, 123, 124, 53, 118, 31, 85, 5, 14, 7, 3], [125, 37, 221, 41, 79, 37], [120, 222, 55, 223, 55, 86, 224, 46, 9, 4, 47, 25], [56], [225, 87, 88, 226, 227, 57, 89]]"
          ],
          "name": "stdout"
        }
      ]
    },
    {
      "cell_type": "code",
      "metadata": {
        "colab": {
          "base_uri": "https://localhost:8080/",
          "height": 332
        },
        "id": "j0wGvKeWjEvB",
        "outputId": "ea640a6d-b761-458f-de5a-e0b5440a9f9e"
      },
      "source": [
        "max_len = max(len(l) for l in encoded)\n",
        "print(f'리뷰의 최대 길이 : {max_len}') #벡터의 개수\n",
        "print(f'리뷰의 최소 길이 : {min(len(l) for l in encoded)}')\n",
        "print('리뷰의 평균 길이 : %f' % (sum(map(len, encoded))/len(encoded)))\n",
        "plt.hist([len(s) for s in encoded], bins=50)\n",
        "plt.xlabel('length of sample')\n",
        "plt.ylabel('number of sample')\n",
        "plt.show()"
      ],
      "execution_count": null,
      "outputs": [
        {
          "output_type": "stream",
          "text": [
            "리뷰의 최대 길이 : 63\n",
            "리뷰의 최소 길이 : 1\n",
            "리뷰의 평균 길이 : 13.900000\n"
          ],
          "name": "stdout"
        },
        {
          "output_type": "display_data",
          "data": {
            "image/png": "[encoded data removed]",
            "text/plain": [
              "<Figure size 432x288 with 1 Axes>"
            ]
          },
          "metadata": {
            "tags": [],
            "needs_background": "light"
          }
        }
      ]
    },
    {
      "cell_type": "code",
      "metadata": {
        "id": "E0rLD56fokys"
      },
      "source": [
        "#가장 긴 리뷰 길이 63으로 통일\n",
        "\n",
        "for line in encoded:\n",
        "  if len(line) < max_len: #현재 샘플이 정해준 길이보다 짧으면\n",
        "    line += [word_to_index['pad']] * (max_len - len(line)) #나머지는 전부 'pad' 토큰으로 채운다. "
      ],
      "execution_count": null,
      "outputs": []
    },
    {
      "cell_type": "code",
      "metadata": {
        "colab": {
          "base_uri": "https://localhost:8080/"
        },
        "id": "_S8ApzNfokrC",
        "outputId": "6f1a0e06-7274-4c49-8ec3-8134e7349ef7"
      },
      "source": [
        "print('리뷰의 최대 길이 : %d' % max(len(l) for l in encoded))\n",
        "print('리뷰의 최소 길이 : %d' % min(len(l) for l in encoded))\n",
        "print('리뷰의 평균 길이 : %f' % (sum(map(len, encoded))/len(encoded)))"
      ],
      "execution_count": null,
      "outputs": [
        {
          "output_type": "stream",
          "text": [
            "리뷰의 최대 길이 : 63\n",
            "리뷰의 최소 길이 : 63\n",
            "리뷰의 평균 길이 : 63.000000\n"
          ],
          "name": "stdout"
        }
      ]
    },
    {
      "cell_type": "code",
      "metadata": {
        "colab": {
          "base_uri": "https://localhost:8080/"
        },
        "id": "SbxI5whVokoM",
        "outputId": "c63db33e-46d0-4de5-bba2-ebba8bef0ebe"
      },
      "source": [
        "print(encoded[:3])"
      ],
      "execution_count": null,
      "outputs": [
        {
          "output_type": "stream",
          "text": [
            "[[78, 27, 9, 4, 50, 41, 79, 16, 28, 29, 1, 1, 1, 1, 1, 1, 1, 1, 1, 1, 1, 1, 1, 1, 1, 1, 1, 1, 1, 1, 1, 1, 1, 1, 1, 1, 1, 1, 1, 1, 1, 1, 1, 1, 1, 1, 1, 1, 1, 1, 1, 1, 1, 1, 1, 1, 1, 1, 1, 1, 1, 1, 1], [188, 5, 80, 189, 190, 191, 42, 192, 114, 5, 193, 194, 21, 115, 195, 196, 13, 51, 81, 116, 30, 42, 197, 117, 118, 31, 198, 5, 199, 200, 17, 114, 7, 82, 52, 17, 43, 201, 5, 202, 4, 203, 14, 7, 83, 32, 204, 84, 1, 1, 1, 1, 1, 1, 1, 1, 1, 1, 1, 1, 1, 1, 1], [205, 119, 206, 53, 207, 31, 208, 209, 54, 10, 25, 11, 1, 1, 1, 1, 1, 1, 1, 1, 1, 1, 1, 1, 1, 1, 1, 1, 1, 1, 1, 1, 1, 1, 1, 1, 1, 1, 1, 1, 1, 1, 1, 1, 1, 1, 1, 1, 1, 1, 1, 1, 1, 1, 1, 1, 1, 1, 1, 1, 1, 1, 1]]\n"
          ],
          "name": "stdout"
        }
      ]
    }
  ]
}